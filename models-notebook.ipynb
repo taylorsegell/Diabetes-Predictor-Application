{
 "cells": [
  {
   "cell_type": "markdown",
   "metadata": {},
   "source": [
    "# Import libraries"
   ]
  },
  {
   "cell_type": "code",
   "execution_count": 2,
   "metadata": {},
   "outputs": [],
   "source": [
    "import numpy as np\n",
    "import pandas as pd \n",
    "import matplotlib.pyplot as plt\n",
    "import seaborn as sns\n",
    "import pickle\n",
    "\n",
    "%matplotlib inline\n",
    "\n",
    "## Models\n",
    "from sklearn.linear_model import LogisticRegression\n",
    "from sklearn.neighbors import KNeighborsClassifier\n",
    "from sklearn.ensemble import RandomForestClassifier\n",
    "from sklearn.tree import DecisionTreeClassifier\n",
    "\n",
    "# Feature selection\n",
    "from sklearn.feature_selection import SelectFromModel\n",
    "\n",
    "## Model evaluators\n",
    "from sklearn.model_selection import train_test_split, cross_val_score\n",
    "from sklearn.model_selection import RandomizedSearchCV, GridSearchCV\n",
    "from sklearn.metrics import confusion_matrix, classification_report\n",
    "from sklearn.metrics import precision_score, recall_score, f1_score\n",
    "from sklearn.metrics import RocCurveDisplay\n",
    "\n",
    "colors = [\n",
    "    [0.0, '#0b2819'],\n",
    "    [0.1, '#0d301e'],\n",
    "    [0.2, '#103823'],\n",
    "    [0.3, '#124028'],\n",
    "    [0.4, '#14482d'],\n",
    "    [0.5, '#175132'],\n",
    "    [0.6, '#175132'],\n",
    "    [0.7, '#2e6246'],\n",
    "    [0.8, '#45735a'],\n",
    "    [0.9, '#5c856f'],\n",
    "    [1.0, '#739684'],   \n",
    "]\n"
   ]
  },
  {
   "cell_type": "markdown",
   "metadata": {},
   "source": [
    "# Import and clean data"
   ]
  },
  {
   "cell_type": "code",
   "execution_count": 3,
   "metadata": {},
   "outputs": [
    {
     "data": {
      "text/html": [
       "<div>\n",
       "<style scoped>\n",
       "    .dataframe tbody tr th:only-of-type {\n",
       "        vertical-align: middle;\n",
       "    }\n",
       "\n",
       "    .dataframe tbody tr th {\n",
       "        vertical-align: top;\n",
       "    }\n",
       "\n",
       "    .dataframe thead th {\n",
       "        text-align: right;\n",
       "    }\n",
       "</style>\n",
       "<table border=\"1\" class=\"dataframe\">\n",
       "  <thead>\n",
       "    <tr style=\"text-align: right;\">\n",
       "      <th></th>\n",
       "      <th>Age</th>\n",
       "      <th>Gender</th>\n",
       "      <th>Polyuria</th>\n",
       "      <th>Polydipsia</th>\n",
       "      <th>Sudden Weight Loss</th>\n",
       "      <th>Weakness</th>\n",
       "      <th>Polyphagia</th>\n",
       "      <th>Genital Thrush</th>\n",
       "      <th>Visual Blurring</th>\n",
       "      <th>Itching</th>\n",
       "      <th>Irritability</th>\n",
       "      <th>Delayed Healing</th>\n",
       "      <th>Partial Paresis</th>\n",
       "      <th>Muscle Stiffness</th>\n",
       "      <th>Alopecia</th>\n",
       "      <th>Obesity</th>\n",
       "      <th>Class</th>\n",
       "    </tr>\n",
       "  </thead>\n",
       "  <tbody>\n",
       "    <tr>\n",
       "      <th>0</th>\n",
       "      <td>40</td>\n",
       "      <td>True</td>\n",
       "      <td>False</td>\n",
       "      <td>True</td>\n",
       "      <td>False</td>\n",
       "      <td>True</td>\n",
       "      <td>False</td>\n",
       "      <td>False</td>\n",
       "      <td>False</td>\n",
       "      <td>True</td>\n",
       "      <td>False</td>\n",
       "      <td>True</td>\n",
       "      <td>False</td>\n",
       "      <td>True</td>\n",
       "      <td>True</td>\n",
       "      <td>True</td>\n",
       "      <td>True</td>\n",
       "    </tr>\n",
       "    <tr>\n",
       "      <th>1</th>\n",
       "      <td>58</td>\n",
       "      <td>True</td>\n",
       "      <td>False</td>\n",
       "      <td>False</td>\n",
       "      <td>False</td>\n",
       "      <td>True</td>\n",
       "      <td>False</td>\n",
       "      <td>False</td>\n",
       "      <td>True</td>\n",
       "      <td>False</td>\n",
       "      <td>False</td>\n",
       "      <td>False</td>\n",
       "      <td>True</td>\n",
       "      <td>False</td>\n",
       "      <td>True</td>\n",
       "      <td>False</td>\n",
       "      <td>True</td>\n",
       "    </tr>\n",
       "    <tr>\n",
       "      <th>2</th>\n",
       "      <td>41</td>\n",
       "      <td>True</td>\n",
       "      <td>True</td>\n",
       "      <td>False</td>\n",
       "      <td>False</td>\n",
       "      <td>True</td>\n",
       "      <td>True</td>\n",
       "      <td>False</td>\n",
       "      <td>False</td>\n",
       "      <td>True</td>\n",
       "      <td>False</td>\n",
       "      <td>True</td>\n",
       "      <td>False</td>\n",
       "      <td>True</td>\n",
       "      <td>True</td>\n",
       "      <td>False</td>\n",
       "      <td>True</td>\n",
       "    </tr>\n",
       "    <tr>\n",
       "      <th>3</th>\n",
       "      <td>45</td>\n",
       "      <td>True</td>\n",
       "      <td>False</td>\n",
       "      <td>False</td>\n",
       "      <td>True</td>\n",
       "      <td>True</td>\n",
       "      <td>True</td>\n",
       "      <td>True</td>\n",
       "      <td>False</td>\n",
       "      <td>True</td>\n",
       "      <td>False</td>\n",
       "      <td>True</td>\n",
       "      <td>False</td>\n",
       "      <td>False</td>\n",
       "      <td>False</td>\n",
       "      <td>False</td>\n",
       "      <td>True</td>\n",
       "    </tr>\n",
       "    <tr>\n",
       "      <th>4</th>\n",
       "      <td>60</td>\n",
       "      <td>True</td>\n",
       "      <td>True</td>\n",
       "      <td>True</td>\n",
       "      <td>True</td>\n",
       "      <td>True</td>\n",
       "      <td>True</td>\n",
       "      <td>False</td>\n",
       "      <td>True</td>\n",
       "      <td>True</td>\n",
       "      <td>True</td>\n",
       "      <td>True</td>\n",
       "      <td>True</td>\n",
       "      <td>True</td>\n",
       "      <td>True</td>\n",
       "      <td>True</td>\n",
       "      <td>True</td>\n",
       "    </tr>\n",
       "  </tbody>\n",
       "</table>\n",
       "</div>"
      ],
      "text/plain": [
       "   Age  Gender  Polyuria  Polydipsia  Sudden Weight Loss  Weakness  \\\n",
       "0   40    True     False        True               False      True   \n",
       "1   58    True     False       False               False      True   \n",
       "2   41    True      True       False               False      True   \n",
       "3   45    True     False       False                True      True   \n",
       "4   60    True      True        True                True      True   \n",
       "\n",
       "   Polyphagia  Genital Thrush  Visual Blurring  Itching  Irritability  \\\n",
       "0       False           False            False     True         False   \n",
       "1       False           False             True    False         False   \n",
       "2        True           False            False     True         False   \n",
       "3        True            True            False     True         False   \n",
       "4        True           False             True     True          True   \n",
       "\n",
       "   Delayed Healing  Partial Paresis  Muscle Stiffness  Alopecia  Obesity  \\\n",
       "0             True            False              True      True     True   \n",
       "1            False             True             False      True    False   \n",
       "2             True            False              True      True    False   \n",
       "3             True            False             False     False    False   \n",
       "4             True             True              True      True     True   \n",
       "\n",
       "   Class  \n",
       "0   True  \n",
       "1   True  \n",
       "2   True  \n",
       "3   True  \n",
       "4   True  "
      ]
     },
     "execution_count": 3,
     "metadata": {},
     "output_type": "execute_result"
    }
   ],
   "source": [
    "df = pd.read_csv(\"app/data/diabetes.csv\") # 'df' is short for 'DataFrame'\n",
    "df['class'] = df['class'] ==  'Positive'\n",
    "df['Gender'] = df['Gender'] ==  'Male'\n",
    "yesorno = {'Yes': True, 'No': False}\n",
    "df = df.replace(yesorno)\n",
    "df.columns=df.columns.str.title()\n",
    "df.head()"
   ]
  },
  {
   "cell_type": "code",
   "execution_count": 12,
   "metadata": {},
   "outputs": [],
   "source": [
    "import numpy as np\n",
    "import plotly.graph_objects as go\n",
    "\n",
    "\n",
    "def nf_heatmaps_tri(df):\n",
    "    corr = round(df.corr(), 3)\n",
    "    mask = np.triu(np.ones_like(corr, dtype=bool))\n",
    "    df_mask = corr.mask(mask)\n",
    "\n",
    "    z = df_mask.to_numpy()\n",
    "    x = df_mask.columns.tolist()\n",
    "    y = df_mask.columns.tolist()\n",
    "    \n",
    "\n",
    "    # Create the heatmap trace\n",
    "    trace = go.Heatmap(z=z, x=x, y=y, colorscale=colors)\n",
    "\n",
    "    # Create the layout\n",
    "    layout = go.Layout(\n",
    "        title_font=dict(\n",
    "            size=34, family=\"Old Standard TT, serif\", color=\"black\"),\n",
    "        title_text='Correlations',\n",
    "        title_x=0.5,\n",
    "        xaxis=dict(showgrid=False, zeroline=False, side=\"bottom\"),\n",
    "        yaxis=dict(showgrid=False, zeroline=False, autorange='reversed'),\n",
    "        plot_bgcolor='rgba(0,0,0,0)',\n",
    "    )\n",
    "\n",
    "    # Create the figure\n",
    "    fig = go.Figure(data=[trace], layout=layout)\n",
    "\n",
    "    # Update the annotations to handle NaN values\n",
    "    for i in range(len(fig.layout.annotations)):\n",
    "        if fig.layout.annotations[i].text == 'nan':\n",
    "            fig.layout.annotations[i].text = \"\"\n",
    "\n",
    "    \n",
    "    return fig"
   ]
  },
  {
   "cell_type": "code",
   "execution_count": 13,
   "metadata": {},
   "outputs": [
    {
     "data": {
      "application/vnd.plotly.v1+json": {
       "config": {
        "plotlyServerURL": "https://plotly.com"
       },
       "data": [
        {
         "colorscale": [
          [
           0,
           "#0b2819"
          ],
          [
           0.1,
           "#0d301e"
          ],
          [
           0.2,
           "#103823"
          ],
          [
           0.3,
           "#124028"
          ],
          [
           0.4,
           "#14482d"
          ],
          [
           0.5,
           "#175132"
          ],
          [
           0.6,
           "#175132"
          ],
          [
           0.7,
           "#2e6246"
          ],
          [
           0.8,
           "#45735a"
          ],
          [
           0.9,
           "#5c856f"
          ],
          [
           1,
           "#739684"
          ]
         ],
         "type": "heatmap",
         "x": [
          "Age",
          "Gender",
          "Polyuria",
          "Polydipsia",
          "Sudden Weight Loss",
          "Weakness",
          "Polyphagia",
          "Genital Thrush",
          "Visual Blurring",
          "Itching",
          "Irritability",
          "Delayed Healing",
          "Partial Paresis",
          "Muscle Stiffness",
          "Alopecia",
          "Obesity",
          "Class"
         ],
         "y": [
          "Age",
          "Gender",
          "Polyuria",
          "Polydipsia",
          "Sudden Weight Loss",
          "Weakness",
          "Polyphagia",
          "Genital Thrush",
          "Visual Blurring",
          "Itching",
          "Irritability",
          "Delayed Healing",
          "Partial Paresis",
          "Muscle Stiffness",
          "Alopecia",
          "Obesity",
          "Class"
         ],
         "z": [
          [
           null,
           null,
           null,
           null,
           null,
           null,
           null,
           null,
           null,
           null,
           null,
           null,
           null,
           null,
           null,
           null,
           null
          ],
          [
           0.063,
           null,
           null,
           null,
           null,
           null,
           null,
           null,
           null,
           null,
           null,
           null,
           null,
           null,
           null,
           null,
           null
          ],
          [
           0.2,
           -0.269,
           null,
           null,
           null,
           null,
           null,
           null,
           null,
           null,
           null,
           null,
           null,
           null,
           null,
           null,
           null
          ],
          [
           0.137,
           -0.312,
           0.599,
           null,
           null,
           null,
           null,
           null,
           null,
           null,
           null,
           null,
           null,
           null,
           null,
           null,
           null
          ],
          [
           0.065,
           -0.282,
           0.447,
           0.406,
           null,
           null,
           null,
           null,
           null,
           null,
           null,
           null,
           null,
           null,
           null,
           null,
           null
          ],
          [
           0.225,
           -0.124,
           0.263,
           0.332,
           0.283,
           null,
           null,
           null,
           null,
           null,
           null,
           null,
           null,
           null,
           null,
           null,
           null
          ],
          [
           0.316,
           -0.22,
           0.374,
           0.317,
           0.244,
           0.18,
           null,
           null,
           null,
           null,
           null,
           null,
           null,
           null,
           null,
           null,
           null
          ],
          [
           0.097,
           0.209,
           0.087,
           0.028,
           0.09,
           0.028,
           -0.064,
           null,
           null,
           null,
           null,
           null,
           null,
           null,
           null,
           null,
           null
          ],
          [
           0.403,
           -0.208,
           0.235,
           0.331,
           0.069,
           0.301,
           0.294,
           -0.148,
           null,
           null,
           null,
           null,
           null,
           null,
           null,
           null,
           null
          ],
          [
           0.297,
           -0.052,
           0.088,
           0.129,
           -0.005,
           0.309,
           0.144,
           0.125,
           0.291,
           null,
           null,
           null,
           null,
           null,
           null,
           null,
           null
          ],
          [
           0.202,
           -0.014,
           0.238,
           0.203,
           0.14,
           0.147,
           0.239,
           0.161,
           0.077,
           0.114,
           null,
           null,
           null,
           null,
           null,
           null,
           null
          ],
          [
           0.258,
           -0.102,
           0.15,
           0.116,
           0.088,
           0.336,
           0.264,
           0.136,
           0.178,
           0.453,
           0.127,
           null,
           null,
           null,
           null,
           null,
           null
          ],
          [
           0.233,
           -0.332,
           0.442,
           0.442,
           0.264,
           0.273,
           0.374,
           -0.196,
           0.364,
           0.117,
           0.152,
           0.187,
           null,
           null,
           null,
           null,
           null
          ],
          [
           0.308,
           -0.091,
           0.153,
           0.181,
           0.11,
           0.263,
           0.32,
           -0.1,
           0.412,
           0.216,
           0.202,
           0.25,
           0.233,
           null,
           null,
           null,
           null
          ],
          [
           0.322,
           0.328,
           -0.144,
           -0.311,
           -0.203,
           0.09,
           -0.053,
           0.205,
           0.015,
           0.267,
           0.044,
           0.29,
           -0.222,
           0.041,
           null,
           null,
           null
          ],
          [
           0.14,
           -0.005,
           0.127,
           0.099,
           0.169,
           0.046,
           0.03,
           0.054,
           0.109,
           0.002,
           0.128,
           -0.066,
           -0.009,
           0.159,
           0.029,
           null,
           null
          ],
          [
           0.109,
           -0.449,
           0.666,
           0.649,
           0.437,
           0.243,
           0.343,
           0.11,
           0.251,
           -0.013,
           0.299,
           0.047,
           0.432,
           0.122,
           -0.268,
           0.072,
           null
          ]
         ]
        }
       ],
       "layout": {
        "plot_bgcolor": "rgba(0,0,0,0)",
        "template": {
         "data": {
          "bar": [
           {
            "error_x": {
             "color": "#2a3f5f"
            },
            "error_y": {
             "color": "#2a3f5f"
            },
            "marker": {
             "line": {
              "color": "#E5ECF6",
              "width": 0.5
             },
             "pattern": {
              "fillmode": "overlay",
              "size": 10,
              "solidity": 0.2
             }
            },
            "type": "bar"
           }
          ],
          "barpolar": [
           {
            "marker": {
             "line": {
              "color": "#E5ECF6",
              "width": 0.5
             },
             "pattern": {
              "fillmode": "overlay",
              "size": 10,
              "solidity": 0.2
             }
            },
            "type": "barpolar"
           }
          ],
          "carpet": [
           {
            "aaxis": {
             "endlinecolor": "#2a3f5f",
             "gridcolor": "white",
             "linecolor": "white",
             "minorgridcolor": "white",
             "startlinecolor": "#2a3f5f"
            },
            "baxis": {
             "endlinecolor": "#2a3f5f",
             "gridcolor": "white",
             "linecolor": "white",
             "minorgridcolor": "white",
             "startlinecolor": "#2a3f5f"
            },
            "type": "carpet"
           }
          ],
          "choropleth": [
           {
            "colorbar": {
             "outlinewidth": 0,
             "ticks": ""
            },
            "type": "choropleth"
           }
          ],
          "contour": [
           {
            "colorbar": {
             "outlinewidth": 0,
             "ticks": ""
            },
            "colorscale": [
             [
              0,
              "#0d0887"
             ],
             [
              0.1111111111111111,
              "#46039f"
             ],
             [
              0.2222222222222222,
              "#7201a8"
             ],
             [
              0.3333333333333333,
              "#9c179e"
             ],
             [
              0.4444444444444444,
              "#bd3786"
             ],
             [
              0.5555555555555556,
              "#d8576b"
             ],
             [
              0.6666666666666666,
              "#ed7953"
             ],
             [
              0.7777777777777778,
              "#fb9f3a"
             ],
             [
              0.8888888888888888,
              "#fdca26"
             ],
             [
              1,
              "#f0f921"
             ]
            ],
            "type": "contour"
           }
          ],
          "contourcarpet": [
           {
            "colorbar": {
             "outlinewidth": 0,
             "ticks": ""
            },
            "type": "contourcarpet"
           }
          ],
          "heatmap": [
           {
            "colorbar": {
             "outlinewidth": 0,
             "ticks": ""
            },
            "colorscale": [
             [
              0,
              "#0d0887"
             ],
             [
              0.1111111111111111,
              "#46039f"
             ],
             [
              0.2222222222222222,
              "#7201a8"
             ],
             [
              0.3333333333333333,
              "#9c179e"
             ],
             [
              0.4444444444444444,
              "#bd3786"
             ],
             [
              0.5555555555555556,
              "#d8576b"
             ],
             [
              0.6666666666666666,
              "#ed7953"
             ],
             [
              0.7777777777777778,
              "#fb9f3a"
             ],
             [
              0.8888888888888888,
              "#fdca26"
             ],
             [
              1,
              "#f0f921"
             ]
            ],
            "type": "heatmap"
           }
          ],
          "heatmapgl": [
           {
            "colorbar": {
             "outlinewidth": 0,
             "ticks": ""
            },
            "colorscale": [
             [
              0,
              "#0d0887"
             ],
             [
              0.1111111111111111,
              "#46039f"
             ],
             [
              0.2222222222222222,
              "#7201a8"
             ],
             [
              0.3333333333333333,
              "#9c179e"
             ],
             [
              0.4444444444444444,
              "#bd3786"
             ],
             [
              0.5555555555555556,
              "#d8576b"
             ],
             [
              0.6666666666666666,
              "#ed7953"
             ],
             [
              0.7777777777777778,
              "#fb9f3a"
             ],
             [
              0.8888888888888888,
              "#fdca26"
             ],
             [
              1,
              "#f0f921"
             ]
            ],
            "type": "heatmapgl"
           }
          ],
          "histogram": [
           {
            "marker": {
             "pattern": {
              "fillmode": "overlay",
              "size": 10,
              "solidity": 0.2
             }
            },
            "type": "histogram"
           }
          ],
          "histogram2d": [
           {
            "colorbar": {
             "outlinewidth": 0,
             "ticks": ""
            },
            "colorscale": [
             [
              0,
              "#0d0887"
             ],
             [
              0.1111111111111111,
              "#46039f"
             ],
             [
              0.2222222222222222,
              "#7201a8"
             ],
             [
              0.3333333333333333,
              "#9c179e"
             ],
             [
              0.4444444444444444,
              "#bd3786"
             ],
             [
              0.5555555555555556,
              "#d8576b"
             ],
             [
              0.6666666666666666,
              "#ed7953"
             ],
             [
              0.7777777777777778,
              "#fb9f3a"
             ],
             [
              0.8888888888888888,
              "#fdca26"
             ],
             [
              1,
              "#f0f921"
             ]
            ],
            "type": "histogram2d"
           }
          ],
          "histogram2dcontour": [
           {
            "colorbar": {
             "outlinewidth": 0,
             "ticks": ""
            },
            "colorscale": [
             [
              0,
              "#0d0887"
             ],
             [
              0.1111111111111111,
              "#46039f"
             ],
             [
              0.2222222222222222,
              "#7201a8"
             ],
             [
              0.3333333333333333,
              "#9c179e"
             ],
             [
              0.4444444444444444,
              "#bd3786"
             ],
             [
              0.5555555555555556,
              "#d8576b"
             ],
             [
              0.6666666666666666,
              "#ed7953"
             ],
             [
              0.7777777777777778,
              "#fb9f3a"
             ],
             [
              0.8888888888888888,
              "#fdca26"
             ],
             [
              1,
              "#f0f921"
             ]
            ],
            "type": "histogram2dcontour"
           }
          ],
          "mesh3d": [
           {
            "colorbar": {
             "outlinewidth": 0,
             "ticks": ""
            },
            "type": "mesh3d"
           }
          ],
          "parcoords": [
           {
            "line": {
             "colorbar": {
              "outlinewidth": 0,
              "ticks": ""
             }
            },
            "type": "parcoords"
           }
          ],
          "pie": [
           {
            "automargin": true,
            "type": "pie"
           }
          ],
          "scatter": [
           {
            "fillpattern": {
             "fillmode": "overlay",
             "size": 10,
             "solidity": 0.2
            },
            "type": "scatter"
           }
          ],
          "scatter3d": [
           {
            "line": {
             "colorbar": {
              "outlinewidth": 0,
              "ticks": ""
             }
            },
            "marker": {
             "colorbar": {
              "outlinewidth": 0,
              "ticks": ""
             }
            },
            "type": "scatter3d"
           }
          ],
          "scattercarpet": [
           {
            "marker": {
             "colorbar": {
              "outlinewidth": 0,
              "ticks": ""
             }
            },
            "type": "scattercarpet"
           }
          ],
          "scattergeo": [
           {
            "marker": {
             "colorbar": {
              "outlinewidth": 0,
              "ticks": ""
             }
            },
            "type": "scattergeo"
           }
          ],
          "scattergl": [
           {
            "marker": {
             "colorbar": {
              "outlinewidth": 0,
              "ticks": ""
             }
            },
            "type": "scattergl"
           }
          ],
          "scattermapbox": [
           {
            "marker": {
             "colorbar": {
              "outlinewidth": 0,
              "ticks": ""
             }
            },
            "type": "scattermapbox"
           }
          ],
          "scatterpolar": [
           {
            "marker": {
             "colorbar": {
              "outlinewidth": 0,
              "ticks": ""
             }
            },
            "type": "scatterpolar"
           }
          ],
          "scatterpolargl": [
           {
            "marker": {
             "colorbar": {
              "outlinewidth": 0,
              "ticks": ""
             }
            },
            "type": "scatterpolargl"
           }
          ],
          "scatterternary": [
           {
            "marker": {
             "colorbar": {
              "outlinewidth": 0,
              "ticks": ""
             }
            },
            "type": "scatterternary"
           }
          ],
          "surface": [
           {
            "colorbar": {
             "outlinewidth": 0,
             "ticks": ""
            },
            "colorscale": [
             [
              0,
              "#0d0887"
             ],
             [
              0.1111111111111111,
              "#46039f"
             ],
             [
              0.2222222222222222,
              "#7201a8"
             ],
             [
              0.3333333333333333,
              "#9c179e"
             ],
             [
              0.4444444444444444,
              "#bd3786"
             ],
             [
              0.5555555555555556,
              "#d8576b"
             ],
             [
              0.6666666666666666,
              "#ed7953"
             ],
             [
              0.7777777777777778,
              "#fb9f3a"
             ],
             [
              0.8888888888888888,
              "#fdca26"
             ],
             [
              1,
              "#f0f921"
             ]
            ],
            "type": "surface"
           }
          ],
          "table": [
           {
            "cells": {
             "fill": {
              "color": "#EBF0F8"
             },
             "line": {
              "color": "white"
             }
            },
            "header": {
             "fill": {
              "color": "#C8D4E3"
             },
             "line": {
              "color": "white"
             }
            },
            "type": "table"
           }
          ]
         },
         "layout": {
          "annotationdefaults": {
           "arrowcolor": "#2a3f5f",
           "arrowhead": 0,
           "arrowwidth": 1
          },
          "autotypenumbers": "strict",
          "coloraxis": {
           "colorbar": {
            "outlinewidth": 0,
            "ticks": ""
           }
          },
          "colorscale": {
           "diverging": [
            [
             0,
             "#8e0152"
            ],
            [
             0.1,
             "#c51b7d"
            ],
            [
             0.2,
             "#de77ae"
            ],
            [
             0.3,
             "#f1b6da"
            ],
            [
             0.4,
             "#fde0ef"
            ],
            [
             0.5,
             "#f7f7f7"
            ],
            [
             0.6,
             "#e6f5d0"
            ],
            [
             0.7,
             "#b8e186"
            ],
            [
             0.8,
             "#7fbc41"
            ],
            [
             0.9,
             "#4d9221"
            ],
            [
             1,
             "#276419"
            ]
           ],
           "sequential": [
            [
             0,
             "#0d0887"
            ],
            [
             0.1111111111111111,
             "#46039f"
            ],
            [
             0.2222222222222222,
             "#7201a8"
            ],
            [
             0.3333333333333333,
             "#9c179e"
            ],
            [
             0.4444444444444444,
             "#bd3786"
            ],
            [
             0.5555555555555556,
             "#d8576b"
            ],
            [
             0.6666666666666666,
             "#ed7953"
            ],
            [
             0.7777777777777778,
             "#fb9f3a"
            ],
            [
             0.8888888888888888,
             "#fdca26"
            ],
            [
             1,
             "#f0f921"
            ]
           ],
           "sequentialminus": [
            [
             0,
             "#0d0887"
            ],
            [
             0.1111111111111111,
             "#46039f"
            ],
            [
             0.2222222222222222,
             "#7201a8"
            ],
            [
             0.3333333333333333,
             "#9c179e"
            ],
            [
             0.4444444444444444,
             "#bd3786"
            ],
            [
             0.5555555555555556,
             "#d8576b"
            ],
            [
             0.6666666666666666,
             "#ed7953"
            ],
            [
             0.7777777777777778,
             "#fb9f3a"
            ],
            [
             0.8888888888888888,
             "#fdca26"
            ],
            [
             1,
             "#f0f921"
            ]
           ]
          },
          "colorway": [
           "#636efa",
           "#EF553B",
           "#00cc96",
           "#ab63fa",
           "#FFA15A",
           "#19d3f3",
           "#FF6692",
           "#B6E880",
           "#FF97FF",
           "#FECB52"
          ],
          "font": {
           "color": "#2a3f5f"
          },
          "geo": {
           "bgcolor": "white",
           "lakecolor": "white",
           "landcolor": "#E5ECF6",
           "showlakes": true,
           "showland": true,
           "subunitcolor": "white"
          },
          "hoverlabel": {
           "align": "left"
          },
          "hovermode": "closest",
          "mapbox": {
           "style": "light"
          },
          "paper_bgcolor": "white",
          "plot_bgcolor": "#E5ECF6",
          "polar": {
           "angularaxis": {
            "gridcolor": "white",
            "linecolor": "white",
            "ticks": ""
           },
           "bgcolor": "#E5ECF6",
           "radialaxis": {
            "gridcolor": "white",
            "linecolor": "white",
            "ticks": ""
           }
          },
          "scene": {
           "xaxis": {
            "backgroundcolor": "#E5ECF6",
            "gridcolor": "white",
            "gridwidth": 2,
            "linecolor": "white",
            "showbackground": true,
            "ticks": "",
            "zerolinecolor": "white"
           },
           "yaxis": {
            "backgroundcolor": "#E5ECF6",
            "gridcolor": "white",
            "gridwidth": 2,
            "linecolor": "white",
            "showbackground": true,
            "ticks": "",
            "zerolinecolor": "white"
           },
           "zaxis": {
            "backgroundcolor": "#E5ECF6",
            "gridcolor": "white",
            "gridwidth": 2,
            "linecolor": "white",
            "showbackground": true,
            "ticks": "",
            "zerolinecolor": "white"
           }
          },
          "shapedefaults": {
           "line": {
            "color": "#2a3f5f"
           }
          },
          "ternary": {
           "aaxis": {
            "gridcolor": "white",
            "linecolor": "white",
            "ticks": ""
           },
           "baxis": {
            "gridcolor": "white",
            "linecolor": "white",
            "ticks": ""
           },
           "bgcolor": "#E5ECF6",
           "caxis": {
            "gridcolor": "white",
            "linecolor": "white",
            "ticks": ""
           }
          },
          "title": {
           "x": 0.05
          },
          "xaxis": {
           "automargin": true,
           "gridcolor": "white",
           "linecolor": "white",
           "ticks": "",
           "title": {
            "standoff": 15
           },
           "zerolinecolor": "white",
           "zerolinewidth": 2
          },
          "yaxis": {
           "automargin": true,
           "gridcolor": "white",
           "linecolor": "white",
           "ticks": "",
           "title": {
            "standoff": 15
           },
           "zerolinecolor": "white",
           "zerolinewidth": 2
          }
         }
        },
        "title": {
         "font": {
          "color": "black",
          "family": "Old Standard TT, serif",
          "size": 34
         },
         "text": "Correlations",
         "x": 0.5
        },
        "xaxis": {
         "showgrid": false,
         "side": "bottom",
         "zeroline": false
        },
        "yaxis": {
         "autorange": "reversed",
         "showgrid": false,
         "zeroline": false
        }
       }
      }
     },
     "metadata": {},
     "output_type": "display_data"
    }
   ],
   "source": [
    "heatmap=nf_heatmaps_tri(df)\n",
    "heatmap.show()"
   ]
  },
  {
   "cell_type": "code",
   "execution_count": 8,
   "metadata": {},
   "outputs": [],
   "source": [
    "# Everything except target variable\n",
    "X = df.drop(\"Class\", axis=1)\n",
    "\n",
    "# Target variable\n",
    "y = df['Class'].values"
   ]
  },
  {
   "cell_type": "markdown",
   "metadata": {},
   "source": [
    "# Feature Pruning using Decision Tree\n",
    ">  We'll start by using a Decision Tree Classifier to prune our features. This classifier will help us identify the most important features for predicting the target variable."
   ]
  },
  {
   "cell_type": "code",
   "execution_count": 9,
   "metadata": {},
   "outputs": [
    {
     "name": "stdout",
     "output_type": "stream",
     "text": [
      "Selected Features after RFECV: ['Age' 'Gender' 'Polyuria' 'Polydipsia' 'Sudden Weight Loss'\n",
      " 'Genital Thrush' 'Irritability' 'Delayed Healing' 'Muscle Stiffness'\n",
      " 'Alopecia' 'Obesity']\n"
     ]
    }
   ],
   "source": [
    "from sklearn.tree import DecisionTreeClassifier\n",
    "from sklearn.feature_selection import RFECV\n",
    "\n",
    "# Instantiate the Decision Tree Classifier\n",
    "clf = DecisionTreeClassifier()\n",
    "\n",
    "# Fit the classifier on the entire dataset\n",
    "clf.fit(X, y)\n",
    "\n",
    "# Recursive Feature Elimination with Cross-Validation (RFECV)\n",
    "trans = RFECV(clf)\n",
    "\n",
    "# Transform the dataset based on selected features\n",
    "X_trans = trans.fit_transform(X, y)\n",
    "\n",
    "# Get the names of the features selected by RFECV\n",
    "selected_feature_names = df.iloc[:, :-1].columns[trans.get_support()].values\n",
    "\n",
    "print('Selected Features after RFECV:', selected_feature_names)\n"
   ]
  },
  {
   "cell_type": "markdown",
   "metadata": {},
   "source": [
    "> Now that we have the selected features after RFECV, we can proceed with the pipeline using these features."
   ]
  },
  {
   "cell_type": "markdown",
   "metadata": {},
   "source": [
    "### Displaying Feature Importance Plot using Plotly\n",
    "> Next, let's create a Plotly graph to visualize the feature importance based on the Decision Tree model."
   ]
  },
  {
   "cell_type": "code",
   "execution_count": 45,
   "metadata": {},
   "outputs": [
    {
     "data": {
      "application/vnd.plotly.v1+json": {
       "config": {
        "plotlyServerURL": "https://plotly.com"
       },
       "data": [
        {
         "marker": {
          "cmax": 0.5,
          "cmin": 0,
          "color": [
           0.44345264512693056,
           0.11750081229027726,
           0.0871456402832078,
           0.07551246447082295,
           0.062009548611111125,
           0.04641525097506767,
           0.02760335555394912,
           0.026932870370370385,
           0.026406250000000006,
           0.022222842261904765,
           0.021006944444444443,
           0.016795879906609405,
           0.012864583333333337,
           0.012265478698501881,
           0.0018654336734693917,
           0
          ],
          "colorscale": [
           [
            0,
            "#0b2819"
           ],
           [
            0.1,
            "#0d301e"
           ],
           [
            0.2,
            "#103823"
           ],
           [
            0.3,
            "#124028"
           ],
           [
            0.4,
            "#14482d"
           ],
           [
            0.5,
            "#175132"
           ],
           [
            0.6,
            "#175132"
           ],
           [
            0.7,
            "#2e6246"
           ],
           [
            0.8,
            "#45735a"
           ],
           [
            0.9,
            "#5c856f"
           ],
           [
            1,
            "#739684"
           ]
          ]
         },
         "type": "bar",
         "x": [
          "Polyuria",
          "Gender",
          "Polydipsia",
          "Age",
          "Delayed Healing",
          "Alopecia",
          "Weakness",
          "Obesity",
          "Visual Blurring",
          "Muscle Stiffness",
          "Genital Thrush",
          "Irritability",
          "Sudden Weight Loss",
          "Partial Paresis",
          "Itching",
          "Polyphagia"
         ],
         "y": [
          0.44345264512693056,
          0.11750081229027726,
          0.0871456402832078,
          0.07551246447082295,
          0.062009548611111125,
          0.04641525097506767,
          0.02760335555394912,
          0.026932870370370385,
          0.026406250000000006,
          0.022222842261904765,
          0.021006944444444443,
          0.016795879906609405,
          0.012864583333333337,
          0.012265478698501881,
          0.0018654336734693917,
          0
         ]
        }
       ],
       "layout": {
        "template": {
         "data": {
          "bar": [
           {
            "error_x": {
             "color": "#2a3f5f"
            },
            "error_y": {
             "color": "#2a3f5f"
            },
            "marker": {
             "line": {
              "color": "#E5ECF6",
              "width": 0.5
             },
             "pattern": {
              "fillmode": "overlay",
              "size": 10,
              "solidity": 0.2
             }
            },
            "type": "bar"
           }
          ],
          "barpolar": [
           {
            "marker": {
             "line": {
              "color": "#E5ECF6",
              "width": 0.5
             },
             "pattern": {
              "fillmode": "overlay",
              "size": 10,
              "solidity": 0.2
             }
            },
            "type": "barpolar"
           }
          ],
          "carpet": [
           {
            "aaxis": {
             "endlinecolor": "#2a3f5f",
             "gridcolor": "white",
             "linecolor": "white",
             "minorgridcolor": "white",
             "startlinecolor": "#2a3f5f"
            },
            "baxis": {
             "endlinecolor": "#2a3f5f",
             "gridcolor": "white",
             "linecolor": "white",
             "minorgridcolor": "white",
             "startlinecolor": "#2a3f5f"
            },
            "type": "carpet"
           }
          ],
          "choropleth": [
           {
            "colorbar": {
             "outlinewidth": 0,
             "ticks": ""
            },
            "type": "choropleth"
           }
          ],
          "contour": [
           {
            "colorbar": {
             "outlinewidth": 0,
             "ticks": ""
            },
            "colorscale": [
             [
              0,
              "#0d0887"
             ],
             [
              0.1111111111111111,
              "#46039f"
             ],
             [
              0.2222222222222222,
              "#7201a8"
             ],
             [
              0.3333333333333333,
              "#9c179e"
             ],
             [
              0.4444444444444444,
              "#bd3786"
             ],
             [
              0.5555555555555556,
              "#d8576b"
             ],
             [
              0.6666666666666666,
              "#ed7953"
             ],
             [
              0.7777777777777778,
              "#fb9f3a"
             ],
             [
              0.8888888888888888,
              "#fdca26"
             ],
             [
              1,
              "#f0f921"
             ]
            ],
            "type": "contour"
           }
          ],
          "contourcarpet": [
           {
            "colorbar": {
             "outlinewidth": 0,
             "ticks": ""
            },
            "type": "contourcarpet"
           }
          ],
          "heatmap": [
           {
            "colorbar": {
             "outlinewidth": 0,
             "ticks": ""
            },
            "colorscale": [
             [
              0,
              "#0d0887"
             ],
             [
              0.1111111111111111,
              "#46039f"
             ],
             [
              0.2222222222222222,
              "#7201a8"
             ],
             [
              0.3333333333333333,
              "#9c179e"
             ],
             [
              0.4444444444444444,
              "#bd3786"
             ],
             [
              0.5555555555555556,
              "#d8576b"
             ],
             [
              0.6666666666666666,
              "#ed7953"
             ],
             [
              0.7777777777777778,
              "#fb9f3a"
             ],
             [
              0.8888888888888888,
              "#fdca26"
             ],
             [
              1,
              "#f0f921"
             ]
            ],
            "type": "heatmap"
           }
          ],
          "heatmapgl": [
           {
            "colorbar": {
             "outlinewidth": 0,
             "ticks": ""
            },
            "colorscale": [
             [
              0,
              "#0d0887"
             ],
             [
              0.1111111111111111,
              "#46039f"
             ],
             [
              0.2222222222222222,
              "#7201a8"
             ],
             [
              0.3333333333333333,
              "#9c179e"
             ],
             [
              0.4444444444444444,
              "#bd3786"
             ],
             [
              0.5555555555555556,
              "#d8576b"
             ],
             [
              0.6666666666666666,
              "#ed7953"
             ],
             [
              0.7777777777777778,
              "#fb9f3a"
             ],
             [
              0.8888888888888888,
              "#fdca26"
             ],
             [
              1,
              "#f0f921"
             ]
            ],
            "type": "heatmapgl"
           }
          ],
          "histogram": [
           {
            "marker": {
             "pattern": {
              "fillmode": "overlay",
              "size": 10,
              "solidity": 0.2
             }
            },
            "type": "histogram"
           }
          ],
          "histogram2d": [
           {
            "colorbar": {
             "outlinewidth": 0,
             "ticks": ""
            },
            "colorscale": [
             [
              0,
              "#0d0887"
             ],
             [
              0.1111111111111111,
              "#46039f"
             ],
             [
              0.2222222222222222,
              "#7201a8"
             ],
             [
              0.3333333333333333,
              "#9c179e"
             ],
             [
              0.4444444444444444,
              "#bd3786"
             ],
             [
              0.5555555555555556,
              "#d8576b"
             ],
             [
              0.6666666666666666,
              "#ed7953"
             ],
             [
              0.7777777777777778,
              "#fb9f3a"
             ],
             [
              0.8888888888888888,
              "#fdca26"
             ],
             [
              1,
              "#f0f921"
             ]
            ],
            "type": "histogram2d"
           }
          ],
          "histogram2dcontour": [
           {
            "colorbar": {
             "outlinewidth": 0,
             "ticks": ""
            },
            "colorscale": [
             [
              0,
              "#0d0887"
             ],
             [
              0.1111111111111111,
              "#46039f"
             ],
             [
              0.2222222222222222,
              "#7201a8"
             ],
             [
              0.3333333333333333,
              "#9c179e"
             ],
             [
              0.4444444444444444,
              "#bd3786"
             ],
             [
              0.5555555555555556,
              "#d8576b"
             ],
             [
              0.6666666666666666,
              "#ed7953"
             ],
             [
              0.7777777777777778,
              "#fb9f3a"
             ],
             [
              0.8888888888888888,
              "#fdca26"
             ],
             [
              1,
              "#f0f921"
             ]
            ],
            "type": "histogram2dcontour"
           }
          ],
          "mesh3d": [
           {
            "colorbar": {
             "outlinewidth": 0,
             "ticks": ""
            },
            "type": "mesh3d"
           }
          ],
          "parcoords": [
           {
            "line": {
             "colorbar": {
              "outlinewidth": 0,
              "ticks": ""
             }
            },
            "type": "parcoords"
           }
          ],
          "pie": [
           {
            "automargin": true,
            "type": "pie"
           }
          ],
          "scatter": [
           {
            "fillpattern": {
             "fillmode": "overlay",
             "size": 10,
             "solidity": 0.2
            },
            "type": "scatter"
           }
          ],
          "scatter3d": [
           {
            "line": {
             "colorbar": {
              "outlinewidth": 0,
              "ticks": ""
             }
            },
            "marker": {
             "colorbar": {
              "outlinewidth": 0,
              "ticks": ""
             }
            },
            "type": "scatter3d"
           }
          ],
          "scattercarpet": [
           {
            "marker": {
             "colorbar": {
              "outlinewidth": 0,
              "ticks": ""
             }
            },
            "type": "scattercarpet"
           }
          ],
          "scattergeo": [
           {
            "marker": {
             "colorbar": {
              "outlinewidth": 0,
              "ticks": ""
             }
            },
            "type": "scattergeo"
           }
          ],
          "scattergl": [
           {
            "marker": {
             "colorbar": {
              "outlinewidth": 0,
              "ticks": ""
             }
            },
            "type": "scattergl"
           }
          ],
          "scattermapbox": [
           {
            "marker": {
             "colorbar": {
              "outlinewidth": 0,
              "ticks": ""
             }
            },
            "type": "scattermapbox"
           }
          ],
          "scatterpolar": [
           {
            "marker": {
             "colorbar": {
              "outlinewidth": 0,
              "ticks": ""
             }
            },
            "type": "scatterpolar"
           }
          ],
          "scatterpolargl": [
           {
            "marker": {
             "colorbar": {
              "outlinewidth": 0,
              "ticks": ""
             }
            },
            "type": "scatterpolargl"
           }
          ],
          "scatterternary": [
           {
            "marker": {
             "colorbar": {
              "outlinewidth": 0,
              "ticks": ""
             }
            },
            "type": "scatterternary"
           }
          ],
          "surface": [
           {
            "colorbar": {
             "outlinewidth": 0,
             "ticks": ""
            },
            "colorscale": [
             [
              0,
              "#0d0887"
             ],
             [
              0.1111111111111111,
              "#46039f"
             ],
             [
              0.2222222222222222,
              "#7201a8"
             ],
             [
              0.3333333333333333,
              "#9c179e"
             ],
             [
              0.4444444444444444,
              "#bd3786"
             ],
             [
              0.5555555555555556,
              "#d8576b"
             ],
             [
              0.6666666666666666,
              "#ed7953"
             ],
             [
              0.7777777777777778,
              "#fb9f3a"
             ],
             [
              0.8888888888888888,
              "#fdca26"
             ],
             [
              1,
              "#f0f921"
             ]
            ],
            "type": "surface"
           }
          ],
          "table": [
           {
            "cells": {
             "fill": {
              "color": "#EBF0F8"
             },
             "line": {
              "color": "white"
             }
            },
            "header": {
             "fill": {
              "color": "#C8D4E3"
             },
             "line": {
              "color": "white"
             }
            },
            "type": "table"
           }
          ]
         },
         "layout": {
          "annotationdefaults": {
           "arrowcolor": "#2a3f5f",
           "arrowhead": 0,
           "arrowwidth": 1
          },
          "autotypenumbers": "strict",
          "coloraxis": {
           "colorbar": {
            "outlinewidth": 0,
            "ticks": ""
           }
          },
          "colorscale": {
           "diverging": [
            [
             0,
             "#8e0152"
            ],
            [
             0.1,
             "#c51b7d"
            ],
            [
             0.2,
             "#de77ae"
            ],
            [
             0.3,
             "#f1b6da"
            ],
            [
             0.4,
             "#fde0ef"
            ],
            [
             0.5,
             "#f7f7f7"
            ],
            [
             0.6,
             "#e6f5d0"
            ],
            [
             0.7,
             "#b8e186"
            ],
            [
             0.8,
             "#7fbc41"
            ],
            [
             0.9,
             "#4d9221"
            ],
            [
             1,
             "#276419"
            ]
           ],
           "sequential": [
            [
             0,
             "#0d0887"
            ],
            [
             0.1111111111111111,
             "#46039f"
            ],
            [
             0.2222222222222222,
             "#7201a8"
            ],
            [
             0.3333333333333333,
             "#9c179e"
            ],
            [
             0.4444444444444444,
             "#bd3786"
            ],
            [
             0.5555555555555556,
             "#d8576b"
            ],
            [
             0.6666666666666666,
             "#ed7953"
            ],
            [
             0.7777777777777778,
             "#fb9f3a"
            ],
            [
             0.8888888888888888,
             "#fdca26"
            ],
            [
             1,
             "#f0f921"
            ]
           ],
           "sequentialminus": [
            [
             0,
             "#0d0887"
            ],
            [
             0.1111111111111111,
             "#46039f"
            ],
            [
             0.2222222222222222,
             "#7201a8"
            ],
            [
             0.3333333333333333,
             "#9c179e"
            ],
            [
             0.4444444444444444,
             "#bd3786"
            ],
            [
             0.5555555555555556,
             "#d8576b"
            ],
            [
             0.6666666666666666,
             "#ed7953"
            ],
            [
             0.7777777777777778,
             "#fb9f3a"
            ],
            [
             0.8888888888888888,
             "#fdca26"
            ],
            [
             1,
             "#f0f921"
            ]
           ]
          },
          "colorway": [
           "#636efa",
           "#EF553B",
           "#00cc96",
           "#ab63fa",
           "#FFA15A",
           "#19d3f3",
           "#FF6692",
           "#B6E880",
           "#FF97FF",
           "#FECB52"
          ],
          "font": {
           "color": "#2a3f5f"
          },
          "geo": {
           "bgcolor": "white",
           "lakecolor": "white",
           "landcolor": "#E5ECF6",
           "showlakes": true,
           "showland": true,
           "subunitcolor": "white"
          },
          "hoverlabel": {
           "align": "left"
          },
          "hovermode": "closest",
          "mapbox": {
           "style": "light"
          },
          "paper_bgcolor": "white",
          "plot_bgcolor": "#E5ECF6",
          "polar": {
           "angularaxis": {
            "gridcolor": "white",
            "linecolor": "white",
            "ticks": ""
           },
           "bgcolor": "#E5ECF6",
           "radialaxis": {
            "gridcolor": "white",
            "linecolor": "white",
            "ticks": ""
           }
          },
          "scene": {
           "xaxis": {
            "backgroundcolor": "#E5ECF6",
            "gridcolor": "white",
            "gridwidth": 2,
            "linecolor": "white",
            "showbackground": true,
            "ticks": "",
            "zerolinecolor": "white"
           },
           "yaxis": {
            "backgroundcolor": "#E5ECF6",
            "gridcolor": "white",
            "gridwidth": 2,
            "linecolor": "white",
            "showbackground": true,
            "ticks": "",
            "zerolinecolor": "white"
           },
           "zaxis": {
            "backgroundcolor": "#E5ECF6",
            "gridcolor": "white",
            "gridwidth": 2,
            "linecolor": "white",
            "showbackground": true,
            "ticks": "",
            "zerolinecolor": "white"
           }
          },
          "shapedefaults": {
           "line": {
            "color": "#2a3f5f"
           }
          },
          "ternary": {
           "aaxis": {
            "gridcolor": "white",
            "linecolor": "white",
            "ticks": ""
           },
           "baxis": {
            "gridcolor": "white",
            "linecolor": "white",
            "ticks": ""
           },
           "bgcolor": "#E5ECF6",
           "caxis": {
            "gridcolor": "white",
            "linecolor": "white",
            "ticks": ""
           }
          },
          "title": {
           "x": 0.05
          },
          "xaxis": {
           "automargin": true,
           "gridcolor": "white",
           "linecolor": "white",
           "ticks": "",
           "title": {
            "standoff": 15
           },
           "zerolinecolor": "white",
           "zerolinewidth": 2
          },
          "yaxis": {
           "automargin": true,
           "gridcolor": "white",
           "linecolor": "white",
           "ticks": "",
           "title": {
            "standoff": 15
           },
           "zerolinecolor": "white",
           "zerolinewidth": 2
          }
         }
        },
        "title": {
         "text": "Feature Importance"
        },
        "xaxis": {
         "title": {
          "text": "Features"
         }
        },
        "yaxis": {
         "range": [
          0,
          0.5
         ],
         "title": {
          "text": "Importance"
         }
        }
       }
      }
     },
     "metadata": {},
     "output_type": "display_data"
    }
   ],
   "source": [
    "import plotly.graph_objects as go\n",
    "\n",
    "# Train the Decision Tree model on the entire dataset\n",
    "clf = DecisionTreeClassifier()\n",
    "clf.fit(X, y)\n",
    "\n",
    "# Get feature importances from the trained model\n",
    "feature_importance = clf.feature_importances_\n",
    "\n",
    "# Sort the features based on importance in descending order\n",
    "sorted_indices = feature_importance.argsort()[::-1]\n",
    "sorted_features = df.iloc[:, :-1].columns[sorted_indices]\n",
    "sorted_importance = feature_importance[sorted_indices]\n",
    "\n",
    "# Create a Plotly bar chart to visualize feature importance\n",
    "fig = go.Figure(go.Bar(\n",
    "    x=sorted_features,\n",
    "    y=sorted_importance,\n",
    "    marker=dict(\n",
    "        color=sorted_importance,\n",
    "        colorscale=colors,\n",
    "        cmin=0,\n",
    "        cmax=0.5\n",
    "    ),\n",
    "))\n",
    "\n",
    "# Customize the plot\n",
    "fig.update_layout(\n",
    "    title='Feature Importance',\n",
    "    xaxis_title='Features',\n",
    "    yaxis_title='Importance',\n",
    "    yaxis=dict(range=[0, 0.5]),\n",
    ")\n",
    "\n",
    "# Show the plot\n",
    "fig.show()\n"
   ]
  },
  {
   "cell_type": "markdown",
   "metadata": {},
   "source": [
    "> This Plotly graph will display the feature importance scores, helping us understand which features have the most significant impact on predicting the target variable."
   ]
  },
  {
   "cell_type": "code",
   "execution_count": 48,
   "metadata": {},
   "outputs": [],
   "source": [
    "pickle.dump(clf, open('decision_tree.pkl', 'wb'))"
   ]
  },
  {
   "cell_type": "markdown",
   "metadata": {},
   "source": [
    "# Split data into training / test sets"
   ]
  },
  {
   "cell_type": "code",
   "execution_count": 11,
   "metadata": {},
   "outputs": [],
   "source": [
    "# Random seed for reproducibility\n",
    "np.random.seed(42)\n",
    "\n",
    "# Split into train & test set\n",
    "X_train, X_test, y_train, y_test = train_test_split(X_trans, # independent variables \n",
    "                                                    y, # dependent variable\n",
    "                                                    test_size = 0.2) # percentage of data to use for test set"
   ]
  },
  {
   "cell_type": "markdown",
   "metadata": {},
   "source": [
    "# Compare 5 potential models"
   ]
  },
  {
   "cell_type": "code",
   "execution_count": 16,
   "metadata": {},
   "outputs": [],
   "source": [
    "# Step 1: Import the dataset\n",
    "# Read the diabetes dataset from the specified CSV file and convert column names to title case.\n",
    "import pandas as pd\n",
    "df_new = pd.read_csv(\"app/data/diabetes_cleaned.csv\")\n",
    "\n",
    "\n",
    "# Step 2: Split the data into training and testing sets\n",
    "# Separate the features (X) and the target variable (y) from the dataset and split them into training and testing sets.\n",
    "from sklearn.model_selection import train_test_split\n",
    "X = df_new.drop(columns=['Class'])\n",
    "y = df_new['Class']\n",
    "X_train, X_test, y_train, y_test = train_test_split(X, y, test_size=0.2, random_state=42)\n",
    "\n",
    "# Step 3: Define hyperparameter grids for each classifier\n",
    "# Hyperparameter grids are used for hyperparameter tuning during model selection and evaluation.\n",
    "\n",
    "# Random Forest Classifier hyperparameter grid\n",
    "rf_param_grid = {\n",
    "    'n_estimators': [int(x) for x in np.linspace(start=200, stop=2000, num=10)],  # Number of trees in the forest\n",
    "    'max_depth': [int(x) for x in np.linspace(10, 110, num=11)] + [None],  # Maximum depth of the trees\n",
    "    'min_samples_split': [2, 5, 10],  # Minimum number of samples required to split an internal node\n",
    "    'min_samples_leaf': [1, 2, 4],  # Minimum number of samples required to be at a leaf node\n",
    "    'bootstrap': [True, False]  # Whether bootstrap samples are used when building trees\n",
    "}\n",
    "\n",
    "# Logistic Regression hyperparameter grid\n",
    "logreg_param_grid = {\n",
    "    'C': [0.001, 0.01, 0.1, 1, 10, 100],  # Inverse of regularization strength\n",
    "    'penalty': ['l1', 'l2'],  # Regularization penalty ('l1' for L1 regularization, 'l2' for L2 regularization)\n",
    "    'max_iter': [100, 200, 300, 400, 500]  # Maximum number of iterations for solver convergence\n",
    "}\n",
    "\n",
    "# Support Vector Machine Classifier hyperparameter grid\n",
    "svc_param_grid = {\n",
    "    'C': [0.001, 0.01, 0.1, 1, 10, 100],  # Regularization parameter\n",
    "    'kernel': ['linear', 'rbf', 'poly', 'sigmoid']  # Kernel function for the decision boundary\n",
    "}\n",
    "\n",
    "# k-Nearest Neighbors Classifier hyperparameter grid\n",
    "knn_param_grid = {\n",
    "    'n_neighbors': [3, 5, 7, 9],  # Number of neighbors to consider for classification\n",
    "    'weights': ['uniform', 'distance'],  # Weight function used in prediction ('uniform' or 'distance')\n",
    "    'metric': ['euclidean', 'manhattan']  # Distance metric used for distance calculation\n",
    "}\n",
    "\n",
    "# Gaussian Naive Bayes hyperparameter grid\n",
    "gnb_param_grid = {}  # GaussianNB does not have any hyperparameters to be tuned.\n"
   ]
  },
  {
   "cell_type": "code",
   "execution_count": 17,
   "metadata": {},
   "outputs": [
    {
     "name": "stdout",
     "output_type": "stream",
     "text": [
      "Fitting 3 folds for each of 100 candidates, totalling 300 fits\n",
      "[CV] END bootstrap=False, max_depth=None, min_samples_leaf=1, min_samples_split=2, n_estimators=2000; total time=   1.1s\n",
      "[CV] END bootstrap=False, max_depth=10, min_samples_leaf=2, min_samples_split=2, n_estimators=800; total time=   0.4s\n",
      "[CV] END bootstrap=False, max_depth=None, min_samples_leaf=1, min_samples_split=2, n_estimators=800; total time=   0.4s\n",
      "[CV] END bootstrap=False, max_depth=None, min_samples_leaf=1, min_samples_split=2, n_estimators=800; total time=   0.4s\n",
      "[CV] END bootstrap=False, max_depth=None, min_samples_leaf=1, min_samples_split=2, n_estimators=800; total time=   0.5s\n",
      "[CV] END bootstrap=False, max_depth=10, min_samples_leaf=2, min_samples_split=2, n_estimators=800; total time=   0.4s\n",
      "[CV] END bootstrap=False, max_depth=80, min_samples_leaf=4, min_samples_split=5, n_estimators=200; total time=   0.1s\n",
      "[CV] END bootstrap=False, max_depth=10, min_samples_leaf=2, min_samples_split=2, n_estimators=800; total time=   0.4s\n",
      "[CV] END bootstrap=False, max_depth=80, min_samples_leaf=4, min_samples_split=5, n_estimators=200; total time=   0.1s\n",
      "[CV] END bootstrap=False, max_depth=80, min_samples_leaf=4, min_samples_split=5, n_estimators=200; total time=   0.1s\n",
      "[CV] END bootstrap=False, max_depth=None, min_samples_leaf=1, min_samples_split=2, n_estimators=2000; total time=   1.0s\n",
      "[CV] END bootstrap=False, max_depth=None, min_samples_leaf=1, min_samples_split=2, n_estimators=2000; total time=   1.0s\n",
      "[CV] END bootstrap=True, max_depth=80, min_samples_leaf=2, min_samples_split=2, n_estimators=1800; total time=   1.0s\n",
      "[CV] END bootstrap=True, max_depth=80, min_samples_leaf=2, min_samples_split=2, n_estimators=1800; total time=   1.2s\n",
      "[CV] END bootstrap=False, max_depth=70, min_samples_leaf=2, min_samples_split=10, n_estimators=600; total time=   0.3s\n",
      "[CV] END bootstrap=True, max_depth=80, min_samples_leaf=2, min_samples_split=2, n_estimators=1800; total time=   1.2s\n",
      "[CV] END bootstrap=False, max_depth=70, min_samples_leaf=2, min_samples_split=10, n_estimators=600; total time=   0.3s\n",
      "[CV] END bootstrap=False, max_depth=70, min_samples_leaf=2, min_samples_split=10, n_estimators=600; total time=   0.4s\n",
      "[CV] END bootstrap=True, max_depth=90, min_samples_leaf=4, min_samples_split=2, n_estimators=1800; total time=   1.1s\n",
      "[CV] END bootstrap=True, max_depth=90, min_samples_leaf=4, min_samples_split=2, n_estimators=1800; total time=   1.0s\n",
      "[CV] END bootstrap=True, max_depth=90, min_samples_leaf=4, min_samples_split=2, n_estimators=1800; total time=   1.1s\n",
      "[CV] END bootstrap=False, max_depth=80, min_samples_leaf=1, min_samples_split=2, n_estimators=1600; total time=   0.8s\n",
      "[CV] END bootstrap=False, max_depth=80, min_samples_leaf=1, min_samples_split=2, n_estimators=1600; total time=   0.8s\n",
      "[CV] END bootstrap=False, max_depth=None, min_samples_leaf=4, min_samples_split=10, n_estimators=1600; total time=   0.8s\n",
      "[CV] END bootstrap=True, max_depth=110, min_samples_leaf=1, min_samples_split=10, n_estimators=1400; total time=   0.9s\n",
      "[CV] END bootstrap=True, max_depth=110, min_samples_leaf=1, min_samples_split=10, n_estimators=1400; total time=   0.9s\n",
      "[CV] END bootstrap=True, max_depth=110, min_samples_leaf=1, min_samples_split=10, n_estimators=1400; total time=   0.8s\n",
      "[CV] END bootstrap=False, max_depth=80, min_samples_leaf=1, min_samples_split=2, n_estimators=1600; total time=   1.0s\n",
      "[CV] END bootstrap=False, max_depth=None, min_samples_leaf=4, min_samples_split=10, n_estimators=1600; total time=   0.7s\n",
      "[CV] END bootstrap=False, max_depth=None, min_samples_leaf=4, min_samples_split=10, n_estimators=1600; total time=   0.7s\n",
      "[CV] END bootstrap=False, max_depth=110, min_samples_leaf=2, min_samples_split=2, n_estimators=400; total time=   0.2s\n",
      "[CV] END bootstrap=True, max_depth=80, min_samples_leaf=2, min_samples_split=5, n_estimators=1000; total time=   0.7s\n",
      "[CV] END bootstrap=False, max_depth=110, min_samples_leaf=2, min_samples_split=2, n_estimators=400; total time=   0.2s\n",
      "[CV] END bootstrap=False, max_depth=110, min_samples_leaf=2, min_samples_split=2, n_estimators=400; total time=   0.2s\n",
      "[CV] END bootstrap=True, max_depth=80, min_samples_leaf=2, min_samples_split=5, n_estimators=1000; total time=   0.6s\n",
      "[CV] END bootstrap=True, max_depth=80, min_samples_leaf=2, min_samples_split=5, n_estimators=1000; total time=   0.6s\n",
      "[CV] END bootstrap=False, max_depth=10, min_samples_leaf=4, min_samples_split=10, n_estimators=1000; total time=   0.5s\n",
      "[CV] END bootstrap=False, max_depth=10, min_samples_leaf=4, min_samples_split=10, n_estimators=1000; total time=   0.5s\n",
      "[CV] END bootstrap=False, max_depth=10, min_samples_leaf=4, min_samples_split=10, n_estimators=1000; total time=   0.5s\n",
      "[CV] END bootstrap=True, max_depth=20, min_samples_leaf=1, min_samples_split=2, n_estimators=1400; total time=   0.8s\n",
      "[CV] END bootstrap=True, max_depth=20, min_samples_leaf=1, min_samples_split=2, n_estimators=1400; total time=   0.8s\n",
      "[CV] END bootstrap=True, max_depth=20, min_samples_leaf=2, min_samples_split=5, n_estimators=1200; total time=   0.7s\n",
      "[CV] END bootstrap=True, max_depth=20, min_samples_leaf=1, min_samples_split=2, n_estimators=1400; total time=   0.9s\n",
      "[CV] END bootstrap=True, max_depth=70, min_samples_leaf=1, min_samples_split=10, n_estimators=1600; total time=   0.9s\n",
      "[CV] END bootstrap=False, max_depth=70, min_samples_leaf=1, min_samples_split=10, n_estimators=400; total time=   0.2s\n",
      "[CV] END bootstrap=True, max_depth=70, min_samples_leaf=1, min_samples_split=10, n_estimators=1600; total time=   0.9s\n",
      "[CV] END bootstrap=True, max_depth=70, min_samples_leaf=1, min_samples_split=10, n_estimators=1600; total time=   0.9s\n",
      "[CV] END bootstrap=False, max_depth=70, min_samples_leaf=1, min_samples_split=10, n_estimators=400; total time=   0.2s\n",
      "[CV] END bootstrap=False, max_depth=70, min_samples_leaf=1, min_samples_split=10, n_estimators=400; total time=   0.2s\n",
      "[CV] END bootstrap=True, max_depth=20, min_samples_leaf=2, min_samples_split=5, n_estimators=1200; total time=   0.7s\n",
      "[CV] END bootstrap=True, max_depth=20, min_samples_leaf=2, min_samples_split=5, n_estimators=1200; total time=   0.7s\n",
      "[CV] END bootstrap=False, max_depth=100, min_samples_leaf=2, min_samples_split=10, n_estimators=200; total time=   0.1s\n",
      "[CV] END bootstrap=False, max_depth=100, min_samples_leaf=2, min_samples_split=10, n_estimators=200; total time=   0.1s\n",
      "[CV] END bootstrap=False, max_depth=100, min_samples_leaf=2, min_samples_split=10, n_estimators=200; total time=   0.1s\n",
      "[CV] END bootstrap=True, max_depth=70, min_samples_leaf=4, min_samples_split=10, n_estimators=400; total time=   0.2s\n",
      "[CV] END bootstrap=True, max_depth=70, min_samples_leaf=4, min_samples_split=10, n_estimators=400; total time=   0.3s\n",
      "[CV] END bootstrap=True, max_depth=70, min_samples_leaf=4, min_samples_split=10, n_estimators=400; total time=   0.3s\n",
      "[CV] END bootstrap=False, max_depth=90, min_samples_leaf=2, min_samples_split=5, n_estimators=1200; total time=   0.6s\n",
      "[CV] END bootstrap=False, max_depth=90, min_samples_leaf=2, min_samples_split=5, n_estimators=1200; total time=   0.6s\n",
      "[CV] END bootstrap=False, max_depth=90, min_samples_leaf=2, min_samples_split=5, n_estimators=1200; total time=   0.6s\n",
      "[CV] END bootstrap=False, max_depth=20, min_samples_leaf=2, min_samples_split=2, n_estimators=1000; total time=   0.5s\n",
      "[CV] END bootstrap=True, max_depth=10, min_samples_leaf=1, min_samples_split=10, n_estimators=2000; total time=   1.1s\n",
      "[CV] END bootstrap=False, max_depth=20, min_samples_leaf=2, min_samples_split=2, n_estimators=1000; total time=   0.5s\n",
      "[CV] END bootstrap=True, max_depth=10, min_samples_leaf=1, min_samples_split=10, n_estimators=2000; total time=   1.2s\n",
      "[CV] END bootstrap=False, max_depth=20, min_samples_leaf=2, min_samples_split=2, n_estimators=1000; total time=   0.5s\n",
      "[CV] END bootstrap=True, max_depth=10, min_samples_leaf=1, min_samples_split=10, n_estimators=2000; total time=   1.5s\n",
      "[CV] END bootstrap=True, max_depth=40, min_samples_leaf=4, min_samples_split=10, n_estimators=200; total time=   0.1s\n",
      "[CV] END bootstrap=False, max_depth=50, min_samples_leaf=1, min_samples_split=5, n_estimators=1200; total time=   0.6s\n",
      "[CV] END bootstrap=True, max_depth=40, min_samples_leaf=4, min_samples_split=10, n_estimators=200; total time=   0.1s\n",
      "[CV] END bootstrap=True, max_depth=40, min_samples_leaf=4, min_samples_split=10, n_estimators=200; total time=   0.1s\n",
      "[CV] END bootstrap=False, max_depth=50, min_samples_leaf=1, min_samples_split=5, n_estimators=1200; total time=   0.5s\n",
      "[CV] END bootstrap=True, max_depth=None, min_samples_leaf=1, min_samples_split=5, n_estimators=200; total time=   0.1s\n",
      "[CV] END bootstrap=True, max_depth=None, min_samples_leaf=1, min_samples_split=5, n_estimators=200; total time=   0.1s\n",
      "[CV] END bootstrap=False, max_depth=50, min_samples_leaf=1, min_samples_split=5, n_estimators=1200; total time=   0.6s\n",
      "[CV] END bootstrap=True, max_depth=None, min_samples_leaf=1, min_samples_split=5, n_estimators=200; total time=   0.1s\n",
      "[CV] END bootstrap=False, max_depth=40, min_samples_leaf=4, min_samples_split=5, n_estimators=200; total time=   0.1s\n",
      "[CV] END bootstrap=True, max_depth=30, min_samples_leaf=4, min_samples_split=5, n_estimators=400; total time=   0.2s\n",
      "[CV] END bootstrap=True, max_depth=30, min_samples_leaf=4, min_samples_split=5, n_estimators=400; total time=   0.2s\n",
      "[CV] END bootstrap=True, max_depth=30, min_samples_leaf=4, min_samples_split=5, n_estimators=400; total time=   0.2s\n",
      "[CV] END bootstrap=False, max_depth=40, min_samples_leaf=4, min_samples_split=5, n_estimators=200; total time=   0.1s\n",
      "[CV] END bootstrap=False, max_depth=40, min_samples_leaf=4, min_samples_split=5, n_estimators=200; total time=   0.1s\n",
      "[CV] END bootstrap=True, max_depth=None, min_samples_leaf=4, min_samples_split=2, n_estimators=1600; total time=   0.9s\n",
      "[CV] END bootstrap=True, max_depth=None, min_samples_leaf=4, min_samples_split=2, n_estimators=1600; total time=   0.9s\n",
      "[CV] END bootstrap=False, max_depth=60, min_samples_leaf=2, min_samples_split=10, n_estimators=1400; total time=   0.6s\n",
      "[CV] END bootstrap=True, max_depth=None, min_samples_leaf=4, min_samples_split=2, n_estimators=1600; total time=   0.9s\n",
      "[CV] END bootstrap=False, max_depth=60, min_samples_leaf=2, min_samples_split=10, n_estimators=1400; total time=   0.6s\n",
      "[CV] END bootstrap=False, max_depth=60, min_samples_leaf=2, min_samples_split=10, n_estimators=1400; total time=   0.7s\n",
      "[CV] END bootstrap=False, max_depth=110, min_samples_leaf=1, min_samples_split=10, n_estimators=600; total time=   0.3s\n",
      "[CV] END bootstrap=False, max_depth=110, min_samples_leaf=1, min_samples_split=10, n_estimators=600; total time=   0.3s\n",
      "[CV] END bootstrap=False, max_depth=110, min_samples_leaf=1, min_samples_split=10, n_estimators=600; total time=   0.3s\n",
      "[CV] END bootstrap=True, max_depth=20, min_samples_leaf=1, min_samples_split=10, n_estimators=400; total time=   0.3s\n",
      "[CV] END bootstrap=True, max_depth=20, min_samples_leaf=1, min_samples_split=10, n_estimators=400; total time=   0.2s\n",
      "[CV] END bootstrap=True, max_depth=110, min_samples_leaf=4, min_samples_split=2, n_estimators=1200; total time=   0.6s\n",
      "[CV] END bootstrap=True, max_depth=110, min_samples_leaf=4, min_samples_split=2, n_estimators=1200; total time=   0.7s\n",
      "[CV] END bootstrap=True, max_depth=20, min_samples_leaf=1, min_samples_split=10, n_estimators=400; total time=   0.2s\n",
      "[CV] END bootstrap=True, max_depth=110, min_samples_leaf=4, min_samples_split=2, n_estimators=1200; total time=   0.7s\n",
      "[CV] END bootstrap=False, max_depth=20, min_samples_leaf=1, min_samples_split=5, n_estimators=2000; total time=   1.0s\n",
      "[CV] END bootstrap=False, max_depth=20, min_samples_leaf=1, min_samples_split=5, n_estimators=2000; total time=   0.9s\n",
      "[CV] END bootstrap=True, max_depth=30, min_samples_leaf=1, min_samples_split=2, n_estimators=1000; total time=   0.6s\n",
      "[CV] END bootstrap=True, max_depth=30, min_samples_leaf=1, min_samples_split=2, n_estimators=1000; total time=   0.6s\n",
      "[CV] END bootstrap=False, max_depth=20, min_samples_leaf=1, min_samples_split=5, n_estimators=2000; total time=   1.0s\n",
      "[CV] END bootstrap=True, max_depth=30, min_samples_leaf=1, min_samples_split=2, n_estimators=1000; total time=   0.6s\n",
      "[CV] END bootstrap=False, max_depth=80, min_samples_leaf=1, min_samples_split=5, n_estimators=1400; total time=   0.7s\n",
      "[CV] END bootstrap=False, max_depth=80, min_samples_leaf=1, min_samples_split=5, n_estimators=1400; total time=   0.7s\n",
      "[CV] END bootstrap=False, max_depth=80, min_samples_leaf=1, min_samples_split=5, n_estimators=1400; total time=   0.7s\n",
      "[CV] END bootstrap=False, max_depth=80, min_samples_leaf=2, min_samples_split=2, n_estimators=1600; total time=   0.7s\n",
      "[CV] END bootstrap=False, max_depth=110, min_samples_leaf=2, min_samples_split=5, n_estimators=600; total time=   0.3s\n",
      "[CV] END bootstrap=False, max_depth=110, min_samples_leaf=2, min_samples_split=5, n_estimators=600; total time=   0.3s\n",
      "[CV] END bootstrap=False, max_depth=110, min_samples_leaf=2, min_samples_split=5, n_estimators=600; total time=   0.4s\n",
      "[CV] END bootstrap=True, max_depth=50, min_samples_leaf=4, min_samples_split=2, n_estimators=600; total time=   0.4s\n",
      "[CV] END bootstrap=False, max_depth=80, min_samples_leaf=2, min_samples_split=2, n_estimators=1600; total time=   0.8s\n",
      "[CV] END bootstrap=False, max_depth=80, min_samples_leaf=2, min_samples_split=2, n_estimators=1600; total time=   0.8s\n",
      "[CV] END bootstrap=True, max_depth=50, min_samples_leaf=4, min_samples_split=2, n_estimators=600; total time=   0.4s\n",
      "[CV] END bootstrap=False, max_depth=70, min_samples_leaf=2, min_samples_split=5, n_estimators=1600; total time=   0.8s\n",
      "[CV] END bootstrap=False, max_depth=70, min_samples_leaf=2, min_samples_split=5, n_estimators=1600; total time=   0.9s\n",
      "[CV] END bootstrap=False, max_depth=70, min_samples_leaf=2, min_samples_split=5, n_estimators=1600; total time=   0.9s\n",
      "[CV] END bootstrap=False, max_depth=30, min_samples_leaf=4, min_samples_split=5, n_estimators=400; total time=   0.2s\n",
      "[CV] END bootstrap=True, max_depth=50, min_samples_leaf=4, min_samples_split=2, n_estimators=600; total time=   0.6s\n",
      "[CV] END bootstrap=False, max_depth=30, min_samples_leaf=4, min_samples_split=5, n_estimators=400; total time=   0.2s\n",
      "[CV] END bootstrap=False, max_depth=30, min_samples_leaf=4, min_samples_split=5, n_estimators=400; total time=   0.2s\n",
      "[CV] END bootstrap=True, max_depth=80, min_samples_leaf=1, min_samples_split=2, n_estimators=200; total time=   0.1s\n",
      "[CV] END bootstrap=True, max_depth=80, min_samples_leaf=1, min_samples_split=2, n_estimators=200; total time=   0.1s\n",
      "[CV] END bootstrap=True, max_depth=80, min_samples_leaf=1, min_samples_split=2, n_estimators=200; total time=   0.1s\n",
      "[CV] END bootstrap=True, max_depth=60, min_samples_leaf=2, min_samples_split=10, n_estimators=1800; total time=   1.0s\n",
      "[CV] END bootstrap=False, max_depth=100, min_samples_leaf=2, min_samples_split=5, n_estimators=1200; total time=   0.6s\n",
      "[CV] END bootstrap=False, max_depth=100, min_samples_leaf=2, min_samples_split=5, n_estimators=1200; total time=   0.6s\n",
      "[CV] END bootstrap=False, max_depth=100, min_samples_leaf=2, min_samples_split=5, n_estimators=1200; total time=   0.7s\n",
      "[CV] END bootstrap=True, max_depth=60, min_samples_leaf=2, min_samples_split=10, n_estimators=1800; total time=   1.1s\n",
      "[CV] END bootstrap=False, max_depth=40, min_samples_leaf=2, min_samples_split=5, n_estimators=800; total time=   0.4s\n",
      "[CV] END bootstrap=False, max_depth=40, min_samples_leaf=2, min_samples_split=5, n_estimators=800; total time=   0.4s\n",
      "[CV] END bootstrap=False, max_depth=50, min_samples_leaf=1, min_samples_split=10, n_estimators=2000; total time=   1.0s\n",
      "[CV] END bootstrap=True, max_depth=60, min_samples_leaf=2, min_samples_split=10, n_estimators=1800; total time=   1.1s\n",
      "[CV] END bootstrap=False, max_depth=50, min_samples_leaf=1, min_samples_split=10, n_estimators=2000; total time=   0.9s\n",
      "[CV] END bootstrap=False, max_depth=100, min_samples_leaf=2, min_samples_split=5, n_estimators=800; total time=   0.3s\n",
      "[CV] END bootstrap=False, max_depth=50, min_samples_leaf=1, min_samples_split=10, n_estimators=2000; total time=   1.0s\n",
      "[CV] END bootstrap=False, max_depth=40, min_samples_leaf=2, min_samples_split=5, n_estimators=800; total time=   0.4s\n",
      "[CV] END bootstrap=False, max_depth=100, min_samples_leaf=2, min_samples_split=5, n_estimators=800; total time=   0.4s\n",
      "[CV] END bootstrap=False, max_depth=100, min_samples_leaf=2, min_samples_split=5, n_estimators=800; total time=   0.4s\n",
      "[CV] END bootstrap=False, max_depth=30, min_samples_leaf=2, min_samples_split=2, n_estimators=800; total time=   0.3s\n",
      "[CV] END bootstrap=False, max_depth=30, min_samples_leaf=2, min_samples_split=2, n_estimators=800; total time=   0.4s\n",
      "[CV] END bootstrap=False, max_depth=30, min_samples_leaf=2, min_samples_split=2, n_estimators=800; total time=   0.4s\n",
      "[CV] END bootstrap=False, max_depth=80, min_samples_leaf=2, min_samples_split=10, n_estimators=400; total time=   0.2s\n",
      "[CV] END bootstrap=True, max_depth=110, min_samples_leaf=4, min_samples_split=5, n_estimators=800; total time=   0.5s\n",
      "[CV] END bootstrap=True, max_depth=110, min_samples_leaf=4, min_samples_split=5, n_estimators=800; total time=   0.4s\n",
      "[CV] END bootstrap=False, max_depth=80, min_samples_leaf=2, min_samples_split=10, n_estimators=400; total time=   0.2s\n",
      "[CV] END bootstrap=False, max_depth=80, min_samples_leaf=2, min_samples_split=10, n_estimators=400; total time=   0.2s\n",
      "[CV] END bootstrap=True, max_depth=110, min_samples_leaf=4, min_samples_split=5, n_estimators=800; total time=   0.6s\n",
      "[CV] END bootstrap=True, max_depth=40, min_samples_leaf=1, min_samples_split=10, n_estimators=1600; total time=   1.0s\n",
      "[CV] END bootstrap=True, max_depth=40, min_samples_leaf=1, min_samples_split=10, n_estimators=1600; total time=   1.0s\n",
      "[CV] END bootstrap=True, max_depth=60, min_samples_leaf=2, min_samples_split=5, n_estimators=1200; total time=   0.6s\n",
      "[CV] END bootstrap=False, max_depth=80, min_samples_leaf=2, min_samples_split=2, n_estimators=1000; total time=   0.5s\n",
      "[CV] END bootstrap=True, max_depth=60, min_samples_leaf=2, min_samples_split=5, n_estimators=1200; total time=   0.7s\n",
      "[CV] END bootstrap=True, max_depth=60, min_samples_leaf=2, min_samples_split=5, n_estimators=1200; total time=   0.8s\n",
      "[CV] END bootstrap=True, max_depth=40, min_samples_leaf=1, min_samples_split=10, n_estimators=1600; total time=   1.1s\n",
      "[CV] END bootstrap=False, max_depth=80, min_samples_leaf=2, min_samples_split=2, n_estimators=1000; total time=   0.5s\n",
      "[CV] END bootstrap=False, max_depth=80, min_samples_leaf=2, min_samples_split=2, n_estimators=1000; total time=   0.5s\n",
      "[CV] END bootstrap=True, max_depth=110, min_samples_leaf=1, min_samples_split=10, n_estimators=2000; total time=   1.2s\n",
      "[CV] END bootstrap=True, max_depth=110, min_samples_leaf=1, min_samples_split=10, n_estimators=2000; total time=   1.3s\n",
      "[CV] END bootstrap=True, max_depth=110, min_samples_leaf=1, min_samples_split=10, n_estimators=2000; total time=   1.3s\n",
      "[CV] END bootstrap=True, max_depth=20, min_samples_leaf=2, min_samples_split=5, n_estimators=1000; total time=   0.7s\n",
      "[CV] END bootstrap=True, max_depth=20, min_samples_leaf=2, min_samples_split=5, n_estimators=1000; total time=   0.6s\n",
      "[CV] END bootstrap=True, max_depth=40, min_samples_leaf=2, min_samples_split=2, n_estimators=1600; total time=   0.9s\n",
      "[CV] END bootstrap=True, max_depth=40, min_samples_leaf=2, min_samples_split=2, n_estimators=1600; total time=   1.0s\n",
      "[CV] END bootstrap=True, max_depth=20, min_samples_leaf=2, min_samples_split=5, n_estimators=1000; total time=   0.6s\n",
      "[CV] END bootstrap=True, max_depth=40, min_samples_leaf=2, min_samples_split=2, n_estimators=1600; total time=   0.9s\n",
      "[CV] END bootstrap=False, max_depth=60, min_samples_leaf=4, min_samples_split=10, n_estimators=1400; total time=   0.6s\n",
      "[CV] END bootstrap=False, max_depth=60, min_samples_leaf=4, min_samples_split=10, n_estimators=1400; total time=   0.7s\n",
      "[CV] END bootstrap=False, max_depth=60, min_samples_leaf=4, min_samples_split=10, n_estimators=1400; total time=   0.6s\n",
      "[CV] END bootstrap=True, max_depth=50, min_samples_leaf=1, min_samples_split=2, n_estimators=400; total time=   0.3s\n",
      "[CV] END bootstrap=True, max_depth=50, min_samples_leaf=1, min_samples_split=2, n_estimators=400; total time=   0.3s\n",
      "[CV] END bootstrap=True, max_depth=50, min_samples_leaf=1, min_samples_split=2, n_estimators=400; total time=   0.3s\n",
      "[CV] END bootstrap=False, max_depth=50, min_samples_leaf=4, min_samples_split=2, n_estimators=2000; total time=   0.9s\n",
      "[CV] END bootstrap=False, max_depth=80, min_samples_leaf=2, min_samples_split=10, n_estimators=1200; total time=   0.5s\n",
      "[CV] END bootstrap=False, max_depth=80, min_samples_leaf=2, min_samples_split=10, n_estimators=1200; total time=   0.6s\n",
      "[CV] END bootstrap=False, max_depth=50, min_samples_leaf=4, min_samples_split=2, n_estimators=2000; total time=   1.0s\n",
      "[CV] END bootstrap=False, max_depth=50, min_samples_leaf=4, min_samples_split=2, n_estimators=2000; total time=   1.0s\n",
      "[CV] END bootstrap=True, max_depth=110, min_samples_leaf=1, min_samples_split=10, n_estimators=800; total time=   0.5s\n",
      "[CV] END bootstrap=False, max_depth=80, min_samples_leaf=2, min_samples_split=10, n_estimators=1200; total time=   0.6s\n",
      "[CV] END bootstrap=True, max_depth=110, min_samples_leaf=1, min_samples_split=10, n_estimators=800; total time=   0.5s\n",
      "[CV] END bootstrap=True, max_depth=20, min_samples_leaf=1, min_samples_split=5, n_estimators=2000; total time=   1.2s\n",
      "[CV] END bootstrap=True, max_depth=110, min_samples_leaf=1, min_samples_split=10, n_estimators=800; total time=   0.5s\n",
      "[CV] END bootstrap=False, max_depth=60, min_samples_leaf=2, min_samples_split=10, n_estimators=1000; total time=   0.5s\n",
      "[CV] END bootstrap=False, max_depth=60, min_samples_leaf=2, min_samples_split=10, n_estimators=1000; total time=   0.4s\n",
      "[CV] END bootstrap=True, max_depth=30, min_samples_leaf=4, min_samples_split=2, n_estimators=200; total time=   0.1s\n",
      "[CV] END bootstrap=True, max_depth=30, min_samples_leaf=4, min_samples_split=2, n_estimators=200; total time=   0.1s\n",
      "[CV] END bootstrap=True, max_depth=20, min_samples_leaf=1, min_samples_split=5, n_estimators=2000; total time=   1.3s\n",
      "[CV] END bootstrap=True, max_depth=30, min_samples_leaf=4, min_samples_split=2, n_estimators=200; total time=   0.1s\n",
      "[CV] END bootstrap=True, max_depth=20, min_samples_leaf=1, min_samples_split=5, n_estimators=200; total time=   0.1s\n",
      "[CV] END bootstrap=True, max_depth=20, min_samples_leaf=1, min_samples_split=5, n_estimators=200; total time=   0.1s\n",
      "[CV] END bootstrap=False, max_depth=60, min_samples_leaf=2, min_samples_split=10, n_estimators=1000; total time=   0.5s\n",
      "[CV] END bootstrap=True, max_depth=20, min_samples_leaf=1, min_samples_split=5, n_estimators=200; total time=   0.1s\n",
      "[CV] END bootstrap=True, max_depth=20, min_samples_leaf=1, min_samples_split=5, n_estimators=2000; total time=   1.5s\n",
      "[CV] END bootstrap=True, max_depth=30, min_samples_leaf=1, min_samples_split=2, n_estimators=1800; total time=   1.0s\n",
      "[CV] END bootstrap=True, max_depth=30, min_samples_leaf=1, min_samples_split=2, n_estimators=1800; total time=   1.2s\n",
      "[CV] END bootstrap=True, max_depth=30, min_samples_leaf=1, min_samples_split=2, n_estimators=1800; total time=   1.3s\n",
      "[CV] END bootstrap=True, max_depth=70, min_samples_leaf=2, min_samples_split=10, n_estimators=1400; total time=   0.7s\n",
      "[CV] END bootstrap=True, max_depth=70, min_samples_leaf=2, min_samples_split=10, n_estimators=1400; total time=   0.8s\n",
      "[CV] END bootstrap=False, max_depth=50, min_samples_leaf=4, min_samples_split=2, n_estimators=1400; total time=   0.6s\n",
      "[CV] END bootstrap=True, max_depth=60, min_samples_leaf=2, min_samples_split=2, n_estimators=1400; total time=   0.9s\n",
      "[CV] END bootstrap=True, max_depth=60, min_samples_leaf=2, min_samples_split=2, n_estimators=1400; total time=   0.9s\n",
      "[CV] END bootstrap=True, max_depth=60, min_samples_leaf=2, min_samples_split=2, n_estimators=1400; total time=   0.8s\n",
      "[CV] END bootstrap=True, max_depth=70, min_samples_leaf=2, min_samples_split=10, n_estimators=1400; total time=   1.0s\n",
      "[CV] END bootstrap=False, max_depth=50, min_samples_leaf=4, min_samples_split=2, n_estimators=1400; total time=   0.7s\n",
      "[CV] END bootstrap=False, max_depth=50, min_samples_leaf=4, min_samples_split=2, n_estimators=1400; total time=   0.9s\n",
      "[CV] END bootstrap=False, max_depth=90, min_samples_leaf=4, min_samples_split=2, n_estimators=1800; total time=   0.9s\n",
      "[CV] END bootstrap=False, max_depth=90, min_samples_leaf=4, min_samples_split=2, n_estimators=1800; total time=   0.9s\n",
      "[CV] END bootstrap=False, max_depth=90, min_samples_leaf=4, min_samples_split=2, n_estimators=1800; total time=   0.9s\n",
      "[CV] END bootstrap=False, max_depth=70, min_samples_leaf=4, min_samples_split=10, n_estimators=800; total time=   0.4s\n",
      "[CV] END bootstrap=True, max_depth=60, min_samples_leaf=4, min_samples_split=5, n_estimators=1600; total time=   1.0s\n",
      "[CV] END bootstrap=False, max_depth=70, min_samples_leaf=4, min_samples_split=10, n_estimators=800; total time=   0.5s\n",
      "[CV] END bootstrap=False, max_depth=70, min_samples_leaf=4, min_samples_split=10, n_estimators=800; total time=   0.5s\n",
      "[CV] END bootstrap=True, max_depth=60, min_samples_leaf=4, min_samples_split=5, n_estimators=1600; total time=   1.0s\n",
      "[CV] END bootstrap=True, max_depth=100, min_samples_leaf=1, min_samples_split=2, n_estimators=2000; total time=   1.2s\n",
      "[CV] END bootstrap=True, max_depth=90, min_samples_leaf=4, min_samples_split=2, n_estimators=200; total time=   0.1s\n",
      "[CV] END bootstrap=True, max_depth=100, min_samples_leaf=1, min_samples_split=2, n_estimators=2000; total time=   1.2s\n",
      "[CV] END bootstrap=True, max_depth=100, min_samples_leaf=1, min_samples_split=2, n_estimators=2000; total time=   1.3s\n",
      "[CV] END bootstrap=True, max_depth=90, min_samples_leaf=4, min_samples_split=2, n_estimators=200; total time=   0.1s\n",
      "[CV] END bootstrap=True, max_depth=90, min_samples_leaf=4, min_samples_split=2, n_estimators=200; total time=   0.1s\n",
      "[CV] END bootstrap=True, max_depth=60, min_samples_leaf=4, min_samples_split=5, n_estimators=1600; total time=   1.3s\n",
      "[CV] END bootstrap=True, max_depth=70, min_samples_leaf=1, min_samples_split=2, n_estimators=1000; total time=   0.7s\n",
      "[CV] END bootstrap=True, max_depth=70, min_samples_leaf=1, min_samples_split=2, n_estimators=1000; total time=   0.7s\n",
      "[CV] END bootstrap=False, max_depth=100, min_samples_leaf=4, min_samples_split=10, n_estimators=400; total time=   0.2s\n",
      "[CV] END bootstrap=False, max_depth=100, min_samples_leaf=4, min_samples_split=10, n_estimators=400; total time=   0.3s\n",
      "[CV] END bootstrap=True, max_depth=30, min_samples_leaf=2, min_samples_split=10, n_estimators=800; total time=   0.5s\n",
      "[CV] END bootstrap=True, max_depth=70, min_samples_leaf=1, min_samples_split=2, n_estimators=1000; total time=   0.7s\n",
      "[CV] END bootstrap=False, max_depth=100, min_samples_leaf=4, min_samples_split=10, n_estimators=400; total time=   0.2s\n",
      "[CV] END bootstrap=True, max_depth=30, min_samples_leaf=2, min_samples_split=10, n_estimators=800; total time=   0.4s\n",
      "[CV] END bootstrap=True, max_depth=30, min_samples_leaf=2, min_samples_split=10, n_estimators=800; total time=   0.5s\n",
      "[CV] END bootstrap=False, max_depth=30, min_samples_leaf=4, min_samples_split=5, n_estimators=1600; total time=   0.7s\n",
      "[CV] END bootstrap=False, max_depth=30, min_samples_leaf=4, min_samples_split=5, n_estimators=1600; total time=   0.8s\n",
      "[CV] END bootstrap=False, max_depth=30, min_samples_leaf=4, min_samples_split=5, n_estimators=1600; total time=   0.8s\n",
      "[CV] END bootstrap=True, max_depth=40, min_samples_leaf=1, min_samples_split=10, n_estimators=200; total time=   0.1s\n",
      "[CV] END bootstrap=True, max_depth=30, min_samples_leaf=4, min_samples_split=5, n_estimators=1000; total time=   0.6s\n",
      "[CV] END bootstrap=True, max_depth=40, min_samples_leaf=1, min_samples_split=10, n_estimators=200; total time=   0.2s\n",
      "[CV] END bootstrap=True, max_depth=30, min_samples_leaf=4, min_samples_split=5, n_estimators=1000; total time=   0.6s\n",
      "[CV] END bootstrap=True, max_depth=40, min_samples_leaf=1, min_samples_split=10, n_estimators=200; total time=   0.1s\n",
      "[CV] END bootstrap=True, max_depth=30, min_samples_leaf=4, min_samples_split=5, n_estimators=1000; total time=   0.7s\n",
      "[CV] END bootstrap=True, max_depth=40, min_samples_leaf=4, min_samples_split=10, n_estimators=1000; total time=   0.7s\n",
      "[CV] END bootstrap=True, max_depth=40, min_samples_leaf=4, min_samples_split=10, n_estimators=1000; total time=   0.7s\n",
      "[CV] END bootstrap=True, max_depth=40, min_samples_leaf=4, min_samples_split=10, n_estimators=1000; total time=   0.7s\n",
      "[CV] END bootstrap=False, max_depth=110, min_samples_leaf=4, min_samples_split=10, n_estimators=1600; total time=   0.7s\n",
      "[CV] END bootstrap=True, max_depth=10, min_samples_leaf=4, min_samples_split=5, n_estimators=200; total time=   0.1s\n",
      "[CV] END bootstrap=False, max_depth=None, min_samples_leaf=1, min_samples_split=10, n_estimators=800; total time=   0.3s\n",
      "[CV] END bootstrap=False, max_depth=None, min_samples_leaf=1, min_samples_split=10, n_estimators=800; total time=   0.3s\n",
      "[CV] END bootstrap=True, max_depth=10, min_samples_leaf=4, min_samples_split=5, n_estimators=200; total time=   0.1s\n",
      "[CV] END bootstrap=False, max_depth=110, min_samples_leaf=4, min_samples_split=10, n_estimators=1600; total time=   0.7s\n",
      "[CV] END bootstrap=True, max_depth=10, min_samples_leaf=4, min_samples_split=5, n_estimators=200; total time=   0.1s\n",
      "[CV] END bootstrap=False, max_depth=None, min_samples_leaf=1, min_samples_split=10, n_estimators=800; total time=   0.4s\n",
      "[CV] END bootstrap=False, max_depth=110, min_samples_leaf=4, min_samples_split=10, n_estimators=1600; total time=   0.9s\n",
      "[CV] END bootstrap=True, max_depth=80, min_samples_leaf=4, min_samples_split=2, n_estimators=800; total time=   0.5s\n",
      "[CV] END bootstrap=True, max_depth=80, min_samples_leaf=4, min_samples_split=2, n_estimators=800; total time=   0.4s\n",
      "[CV] END bootstrap=True, max_depth=80, min_samples_leaf=4, min_samples_split=2, n_estimators=800; total time=   0.5s\n",
      "[CV] END bootstrap=False, max_depth=20, min_samples_leaf=1, min_samples_split=10, n_estimators=1000; total time=   0.4s\n",
      "[CV] END bootstrap=False, max_depth=40, min_samples_leaf=1, min_samples_split=2, n_estimators=400; total time=   0.2s\n",
      "[CV] END bootstrap=False, max_depth=20, min_samples_leaf=1, min_samples_split=10, n_estimators=1000; total time=   0.4s\n",
      "[CV] END bootstrap=False, max_depth=20, min_samples_leaf=1, min_samples_split=10, n_estimators=1000; total time=   0.5s\n",
      "[CV] END bootstrap=False, max_depth=40, min_samples_leaf=1, min_samples_split=2, n_estimators=400; total time=   0.1s\n",
      "[CV] END bootstrap=False, max_depth=40, min_samples_leaf=1, min_samples_split=2, n_estimators=400; total time=   0.2s\n",
      "[CV] END bootstrap=True, max_depth=90, min_samples_leaf=1, min_samples_split=2, n_estimators=1600; total time=   0.9s\n",
      "[CV] END bootstrap=False, max_depth=90, min_samples_leaf=2, min_samples_split=10, n_estimators=1200; total time=   0.6s\n",
      "[CV] END bootstrap=False, max_depth=90, min_samples_leaf=2, min_samples_split=10, n_estimators=1200; total time=   0.6s\n",
      "[CV] END bootstrap=False, max_depth=90, min_samples_leaf=2, min_samples_split=10, n_estimators=1200; total time=   0.6s\n",
      "[CV] END bootstrap=True, max_depth=90, min_samples_leaf=1, min_samples_split=2, n_estimators=1600; total time=   1.1s\n",
      "[CV] END bootstrap=True, max_depth=90, min_samples_leaf=1, min_samples_split=2, n_estimators=1600; total time=   1.1s\n",
      "[CV] END bootstrap=True, max_depth=60, min_samples_leaf=1, min_samples_split=10, n_estimators=1800; total time=   1.1s\n",
      "[CV] END bootstrap=True, max_depth=60, min_samples_leaf=1, min_samples_split=10, n_estimators=1800; total time=   1.0s\n",
      "[CV] END bootstrap=True, max_depth=60, min_samples_leaf=1, min_samples_split=10, n_estimators=1800; total time=   1.1s\n",
      "[CV] END bootstrap=False, max_depth=30, min_samples_leaf=2, min_samples_split=10, n_estimators=1800; total time=   0.8s\n",
      "[CV] END bootstrap=True, max_depth=70, min_samples_leaf=4, min_samples_split=10, n_estimators=200; total time=   0.1s\n",
      "[CV] END bootstrap=True, max_depth=70, min_samples_leaf=4, min_samples_split=10, n_estimators=200; total time=   0.1s\n",
      "[CV] END bootstrap=True, max_depth=70, min_samples_leaf=4, min_samples_split=10, n_estimators=200; total time=   0.2s\n",
      "[CV] END bootstrap=False, max_depth=30, min_samples_leaf=2, min_samples_split=10, n_estimators=1800; total time=   0.9s\n",
      "[CV] END bootstrap=False, max_depth=80, min_samples_leaf=1, min_samples_split=2, n_estimators=1400; total time=   0.5s\n",
      "[CV] END bootstrap=False, max_depth=30, min_samples_leaf=2, min_samples_split=10, n_estimators=1800; total time=   0.9s\n",
      "[CV] END bootstrap=False, max_depth=80, min_samples_leaf=1, min_samples_split=2, n_estimators=1400; total time=   0.7s\n",
      "[CV] END bootstrap=False, max_depth=90, min_samples_leaf=2, min_samples_split=5, n_estimators=400; total time=   0.2s\n",
      "[CV] END bootstrap=False, max_depth=90, min_samples_leaf=2, min_samples_split=5, n_estimators=400; total time=   0.2s\n",
      "[CV] END bootstrap=False, max_depth=80, min_samples_leaf=1, min_samples_split=10, n_estimators=200; total time=   0.1s\n",
      "[CV] END bootstrap=False, max_depth=80, min_samples_leaf=1, min_samples_split=2, n_estimators=1400; total time=   0.8s\n",
      "[CV] END bootstrap=True, max_depth=40, min_samples_leaf=1, min_samples_split=2, n_estimators=1200; total time=   0.7s\n",
      "[CV] END bootstrap=False, max_depth=80, min_samples_leaf=1, min_samples_split=10, n_estimators=200; total time=   0.1s\n",
      "[CV] END bootstrap=True, max_depth=40, min_samples_leaf=1, min_samples_split=2, n_estimators=1200; total time=   0.8s\n",
      "[CV] END bootstrap=False, max_depth=80, min_samples_leaf=1, min_samples_split=10, n_estimators=200; total time=   0.1s\n",
      "[CV] END bootstrap=True, max_depth=40, min_samples_leaf=1, min_samples_split=5, n_estimators=2000; total time=   1.1s\n",
      "[CV] END bootstrap=False, max_depth=90, min_samples_leaf=2, min_samples_split=5, n_estimators=400; total time=   0.2s\n",
      "[CV] END bootstrap=True, max_depth=80, min_samples_leaf=1, min_samples_split=10, n_estimators=200; total time=   0.1s\n",
      "[CV] END bootstrap=True, max_depth=40, min_samples_leaf=1, min_samples_split=5, n_estimators=2000; total time=   1.2s\n",
      "[CV] END bootstrap=True, max_depth=40, min_samples_leaf=1, min_samples_split=5, n_estimators=2000; total time=   1.2s\n",
      "[CV] END bootstrap=True, max_depth=40, min_samples_leaf=1, min_samples_split=2, n_estimators=1200; total time=   0.7s\n",
      "[CV] END bootstrap=True, max_depth=80, min_samples_leaf=1, min_samples_split=10, n_estimators=200; total time=   0.1s\n",
      "[CV] END bootstrap=True, max_depth=80, min_samples_leaf=1, min_samples_split=10, n_estimators=200; total time=   0.1s\n",
      "[CV] END bootstrap=True, max_depth=30, min_samples_leaf=1, min_samples_split=5, n_estimators=1400; total time=   0.7s\n",
      "[CV] END bootstrap=False, max_depth=110, min_samples_leaf=4, min_samples_split=10, n_estimators=1000; total time=   0.4s\n",
      "[CV] END bootstrap=False, max_depth=110, min_samples_leaf=4, min_samples_split=10, n_estimators=1000; total time=   0.4s\n",
      "[CV] END bootstrap=False, max_depth=110, min_samples_leaf=4, min_samples_split=10, n_estimators=1000; total time=   0.4s\n",
      "[CV] END bootstrap=True, max_depth=30, min_samples_leaf=1, min_samples_split=5, n_estimators=1400; total time=   0.8s\n",
      "[CV] END bootstrap=True, max_depth=50, min_samples_leaf=1, min_samples_split=2, n_estimators=1600; total time=   0.8s\n",
      "[CV] END bootstrap=True, max_depth=30, min_samples_leaf=1, min_samples_split=5, n_estimators=1400; total time=   0.9s\n",
      "[CV] END bootstrap=True, max_depth=50, min_samples_leaf=1, min_samples_split=2, n_estimators=1600; total time=   0.9s\n",
      "[CV] END bootstrap=True, max_depth=50, min_samples_leaf=1, min_samples_split=2, n_estimators=1600; total time=   0.8s\n",
      "Fitting 3 folds for each of 50 candidates, totalling 150 fits\n",
      "[CV] END ..................C=0.001, max_iter=100, penalty=l1; total time=   0.0s\n",
      "[CV] END ..................C=0.001, max_iter=100, penalty=l1; total time=   0.0s\n",
      "[CV] END ..................C=0.001, max_iter=100, penalty=l1; total time=   0.0s\n",
      "[CV] END ..................C=0.001, max_iter=300, penalty=l2; total time=   0.0s\n",
      "[CV] END ..................C=0.001, max_iter=300, penalty=l2; total time=   0.0s\n",
      "[CV] END ..................C=0.001, max_iter=300, penalty=l2; total time=   0.0s\n",
      "[CV] END ......................C=1, max_iter=400, penalty=l1; total time=   0.0s\n",
      "[CV] END ......................C=1, max_iter=400, penalty=l1; total time=   0.0s\n",
      "[CV] END .....................C=10, max_iter=300, penalty=l2; total time=   0.0s\n",
      "[CV] END ......................C=1, max_iter=400, penalty=l1; total time=   0.0s\n",
      "[CV] END .....................C=10, max_iter=300, penalty=l2; total time=   0.0s\n",
      "[CV] END .....................C=10, max_iter=300, penalty=l2; total time=   0.0s\n",
      "[CV] END ...................C=0.01, max_iter=200, penalty=l2; total time=   0.0s\n",
      "[CV] END ...................C=0.01, max_iter=200, penalty=l2; total time=   0.0s\n",
      "[CV] END ...................C=0.01, max_iter=200, penalty=l2; total time=   0.0s\n",
      "[CV] END ....................C=100, max_iter=300, penalty=l1; total time=   0.0s\n",
      "[CV] END ....................C=100, max_iter=300, penalty=l1; total time=   0.0s\n",
      "[CV] END ......................C=1, max_iter=200, penalty=l2; total time=   0.0s\n",
      "[CV] END ......................C=1, max_iter=200, penalty=l2; total time=   0.0s\n",
      "[CV] END ......................C=1, max_iter=200, penalty=l2; total time=   0.0s\n",
      "[CV] END ....................C=100, max_iter=300, penalty=l1; total time=   0.0s\n",
      "[CV] END ...................C=0.01, max_iter=200, penalty=l1; total time=   0.0s\n",
      "[CV] END ...................C=0.01, max_iter=200, penalty=l1; total time=   0.0s\n",
      "[CV] END .....................C=10, max_iter=500, penalty=l1; total time=   0.0s\n",
      "[CV] END ....................C=100, max_iter=400, penalty=l2; total time=   0.0s\n",
      "[CV] END ...................C=0.01, max_iter=200, penalty=l1; total time=   0.0s\n",
      "[CV] END .....................C=10, max_iter=500, penalty=l1; total time=   0.0s\n",
      "[CV] END ....................C=100, max_iter=400, penalty=l2; total time=   0.0s\n",
      "[CV] END ....................C=100, max_iter=400, penalty=l2; total time=   0.0s\n",
      "[CV] END .....................C=10, max_iter=500, penalty=l1; total time=   0.0s\n",
      "[CV] END .....................C=10, max_iter=400, penalty=l1; total time=   0.0s\n",
      "[CV] END ....................C=100, max_iter=100, penalty=l1; total time=   0.0s\n",
      "[CV] END .....................C=10, max_iter=400, penalty=l1; total time=   0.0s\n",
      "[CV] END ......................C=1, max_iter=100, penalty=l2; total time=   0.0s\n",
      "[CV] END .....................C=10, max_iter=400, penalty=l1; total time=   0.0s\n",
      "[CV] END ......................C=1, max_iter=100, penalty=l2; total time=   0.0s\n",
      "[CV] END ....................C=100, max_iter=100, penalty=l1; total time=   0.0s\n",
      "[CV] END ......................C=1, max_iter=100, penalty=l2; total time=   0.0s\n",
      "[CV] END ..................C=0.001, max_iter=200, penalty=l2; total time=   0.0s\n",
      "[CV] END ..................C=0.001, max_iter=200, penalty=l2; total time=   0.0s\n",
      "[CV] END ....................C=100, max_iter=100, penalty=l1; total time=   0.0s\n",
      "[CV] END ...................C=0.01, max_iter=400, penalty=l2; total time=   0.0s\n",
      "[CV] END ..................C=0.001, max_iter=200, penalty=l2; total time=   0.0s\n",
      "[CV] END ..................C=0.001, max_iter=500, penalty=l1; total time=   0.0s\n",
      "[CV] END ....................C=100, max_iter=200, penalty=l1; total time=   0.0s\n",
      "[CV] END ...................C=0.01, max_iter=400, penalty=l2; total time=   0.0s\n",
      "[CV] END ....................C=100, max_iter=200, penalty=l1; total time=   0.0s\n",
      "[CV] END ..................C=0.001, max_iter=500, penalty=l1; total time=   0.0s\n",
      "[CV] END ..................C=0.001, max_iter=500, penalty=l1; total time=   0.0s\n",
      "[CV] END ....................C=100, max_iter=200, penalty=l1; total time=   0.0s\n",
      "[CV] END ..................C=0.001, max_iter=400, penalty=l1; total time=   0.0s\n",
      "[CV] END ...................C=0.01, max_iter=400, penalty=l2; total time=   0.0s\n",
      "[CV] END ..................C=0.001, max_iter=400, penalty=l1; total time=   0.0s\n",
      "[CV] END ..................C=0.001, max_iter=400, penalty=l1; total time=   0.0s\n",
      "[CV] END .....................C=10, max_iter=100, penalty=l1; total time=   0.0s\n",
      "[CV] END ..................C=0.001, max_iter=300, penalty=l1; total time=   0.0s\n",
      "[CV] END ..................C=0.001, max_iter=300, penalty=l1; total time=   0.0s\n",
      "[CV] END .....................C=10, max_iter=100, penalty=l1; total time=   0.0s\n",
      "[CV] END .....................C=10, max_iter=100, penalty=l1; total time=   0.0s\n",
      "[CV] END .....................C=10, max_iter=200, penalty=l2; total time=   0.0s\n",
      "[CV] END ..................C=0.001, max_iter=300, penalty=l1; total time=   0.0s\n",
      "[CV] END ...................C=0.01, max_iter=500, penalty=l2; total time=   0.0s\n",
      "[CV] END ......................C=1, max_iter=300, penalty=l1; total time=   0.0s\n",
      "[CV] END ....................C=0.1, max_iter=300, penalty=l2; total time=   0.0s\n",
      "[CV] END .....................C=10, max_iter=200, penalty=l2; total time=   0.0s\n",
      "[CV] END ...................C=0.01, max_iter=500, penalty=l2; total time=   0.0s\n",
      "[CV] END ....................C=0.1, max_iter=300, penalty=l2; total time=   0.0s\n",
      "[CV] END .....................C=10, max_iter=200, penalty=l2; total time=   0.0s\n",
      "[CV] END ......................C=1, max_iter=300, penalty=l1; total time=   0.0s\n",
      "[CV] END ....................C=100, max_iter=400, penalty=l1; total time=   0.0s\n",
      "[CV] END ....................C=100, max_iter=500, penalty=l1; total time=   0.0s\n",
      "[CV] END ....................C=0.1, max_iter=300, penalty=l2; total time=   0.0s\n",
      "[CV] END ...................C=0.01, max_iter=500, penalty=l2; total time=   0.0s\n",
      "[CV] END ......................C=1, max_iter=300, penalty=l1; total time=   0.0s\n",
      "[CV] END ....................C=100, max_iter=400, penalty=l1; total time=   0.0s\n",
      "[CV] END ....................C=100, max_iter=500, penalty=l1; total time=   0.0s\n",
      "[CV] END ...................C=0.01, max_iter=300, penalty=l2; total time=   0.0s\n",
      "[CV] END ....................C=100, max_iter=400, penalty=l1; total time=   0.0s\n",
      "[CV] END ..................C=0.001, max_iter=500, penalty=l2; total time=   0.0s\n",
      "[CV] END ...................C=0.01, max_iter=300, penalty=l2; total time=   0.0s\n",
      "[CV] END ....................C=0.1, max_iter=400, penalty=l2; total time=   0.0s\n",
      "[CV] END ..................C=0.001, max_iter=500, penalty=l2; total time=   0.0s\n",
      "[CV] END ...................C=0.01, max_iter=300, penalty=l2; total time=   0.0s\n",
      "[CV] END ......................C=1, max_iter=100, penalty=l1; total time=   0.0s\n",
      "[CV] END ....................C=0.1, max_iter=400, penalty=l2; total time=   0.0s\n",
      "[CV] END ..................C=0.001, max_iter=500, penalty=l2; total time=   0.0s\n",
      "[CV] END ....................C=100, max_iter=500, penalty=l1; total time=   0.0s\n",
      "[CV] END ....................C=0.1, max_iter=400, penalty=l2; total time=   0.0s\n",
      "[CV] END ....................C=0.1, max_iter=400, penalty=l1; total time=   0.0s\n",
      "[CV] END ......................C=1, max_iter=100, penalty=l1; total time=   0.0s\n",
      "[CV] END ....................C=0.1, max_iter=300, penalty=l1; total time=   0.0s\n",
      "[CV] END ......................C=1, max_iter=100, penalty=l1; total time=   0.0s\n",
      "[CV] END ...................C=0.01, max_iter=400, penalty=l1; total time=   0.0s\n",
      "[CV] END ....................C=100, max_iter=300, penalty=l2; total time=   0.0s\n",
      "[CV] END ....................C=0.1, max_iter=300, penalty=l1; total time=   0.0s\n",
      "[CV] END ....................C=0.1, max_iter=400, penalty=l1; total time=   0.0s\n",
      "[CV] END ....................C=100, max_iter=200, penalty=l2; total time=   0.0s\n",
      "[CV] END ...................C=0.01, max_iter=400, penalty=l1; total time=   0.0s\n",
      "[CV] END ...................C=0.01, max_iter=100, penalty=l2; total time=   0.0s\n",
      "[CV] END ....................C=100, max_iter=300, penalty=l2; total time=   0.0s\n",
      "[CV] END ....................C=0.1, max_iter=300, penalty=l1; total time=   0.0s\n",
      "[CV] END ....................C=0.1, max_iter=400, penalty=l1; total time=   0.0s\n",
      "[CV] END ...................C=0.01, max_iter=400, penalty=l1; total time=   0.0s\n",
      "[CV] END ....................C=100, max_iter=200, penalty=l2; total time=   0.0s\n",
      "[CV] END ......................C=1, max_iter=200, penalty=l1; total time=   0.0s\n",
      "[CV] END ...................C=0.01, max_iter=100, penalty=l2; total time=   0.0s\n",
      "[CV] END ....................C=100, max_iter=300, penalty=l2; total time=   0.0s\n",
      "[CV] END ......................C=1, max_iter=400, penalty=l2; total time=   0.0s\n",
      "[CV] END ...................C=0.01, max_iter=100, penalty=l2; total time=   0.0s\n",
      "[CV] END ....................C=100, max_iter=200, penalty=l2; total time=   0.0s\n",
      "[CV] END ......................C=1, max_iter=200, penalty=l1; total time=   0.0s\n",
      "[CV] END ..................C=0.001, max_iter=100, penalty=l2; total time=   0.0s\n",
      "[CV] END .....................C=10, max_iter=100, penalty=l2; total time=   0.0s\n",
      "[CV] END ....................C=0.1, max_iter=500, penalty=l2; total time=   0.0s\n",
      "[CV] END .....................C=10, max_iter=100, penalty=l2; total time=   0.0s\n",
      "[CV] END ..................C=0.001, max_iter=100, penalty=l2; total time=   0.0s\n",
      "[CV] END .....................C=10, max_iter=100, penalty=l2; total time=   0.0s\n",
      "[CV] END ....................C=0.1, max_iter=500, penalty=l2; total time=   0.0s\n",
      "[CV] END ......................C=1, max_iter=200, penalty=l1; total time=   0.0s\n",
      "[CV] END .....................C=10, max_iter=300, penalty=l1; total time=   0.0s\n",
      "[CV] END ....................C=0.1, max_iter=100, penalty=l2; total time=   0.0s\n",
      "[CV] END .....................C=10, max_iter=400, penalty=l2; total time=   0.0s\n",
      "[CV] END ......................C=1, max_iter=400, penalty=l2; total time=   0.0s\n",
      "[CV] END ....................C=0.1, max_iter=500, penalty=l2; total time=   0.0s\n",
      "[CV] END ....................C=0.1, max_iter=100, penalty=l2; total time=   0.0s\n",
      "[CV] END ......................C=1, max_iter=500, penalty=l2; total time=   0.0s\n",
      "[CV] END ....................C=0.1, max_iter=100, penalty=l2; total time=   0.0s\n",
      "[CV] END .....................C=10, max_iter=400, penalty=l2; total time=   0.0s\n",
      "[CV] END ......................C=1, max_iter=400, penalty=l2; total time=   0.0s\n",
      "[CV] END .....................C=10, max_iter=300, penalty=l1; total time=   0.0s\n",
      "[CV] END ......................C=1, max_iter=300, penalty=l2; total time=   0.0s\n",
      "[CV] END ......................C=1, max_iter=500, penalty=l2; total time=   0.0s\n",
      "[CV] END .....................C=10, max_iter=400, penalty=l2; total time=   0.0s\n",
      "[CV] END ....................C=0.1, max_iter=200, penalty=l2; total time=   0.0s\n",
      "[CV] END ..................C=0.001, max_iter=200, penalty=l1; total time=   0.0s\n",
      "[CV] END ....................C=0.1, max_iter=200, penalty=l2; total time=   0.0s\n",
      "[CV] END ......................C=1, max_iter=300, penalty=l2; total time=   0.0s\n",
      "[CV] END .....................C=10, max_iter=300, penalty=l1; total time=   0.0s\n",
      "[CV] END ..................C=0.001, max_iter=200, penalty=l1; total time=   0.0s\n",
      "[CV] END .....................C=10, max_iter=500, penalty=l2; total time=   0.0s\n",
      "[CV] END ......................C=1, max_iter=300, penalty=l2; total time=   0.0s\n",
      "[CV] END ......................C=1, max_iter=500, penalty=l2; total time=   0.0s\n",
      "[CV] END ..................C=0.001, max_iter=100, penalty=l2; total time=   0.0s\n",
      "[CV] END ..................C=0.001, max_iter=200, penalty=l1; total time=   0.0s\n",
      "[CV] END .....................C=10, max_iter=500, penalty=l2; total time=   0.0s\n",
      "[CV] END ....................C=0.1, max_iter=200, penalty=l2; total time=   0.0s\n",
      "[CV] END .....................C=10, max_iter=500, penalty=l2; total time=   0.0s\n",
      "[CV] END ...................C=0.01, max_iter=100, penalty=l1; total time=   0.0s\n",
      "[CV] END ...................C=0.01, max_iter=100, penalty=l1; total time=   0.0s\n",
      "[CV] END ...................C=0.01, max_iter=100, penalty=l1; total time=   0.0s\n",
      "Fitting 3 folds for each of 24 candidates, totalling 72 fits\n",
      "[CV] END .............................C=0.001, kernel=linear; total time=   0.0s\n",
      "[CV] END .............................C=0.001, kernel=linear; total time=   0.0s\n",
      "[CV] END .............................C=0.001, kernel=linear; total time=   0.0s\n",
      "[CV] END ................................C=0.001, kernel=rbf; total time=   0.0s\n",
      "[CV] END ................................C=0.001, kernel=rbf; total time=   0.0s\n",
      "[CV] END ...............................C=0.001, kernel=poly; total time=   0.0s\n",
      "[CV] END ................................C=0.001, kernel=rbf; total time=   0.0s\n",
      "[CV] END ...............................C=0.001, kernel=poly; total time=   0.0s\n",
      "[CV] END ...............................C=0.001, kernel=poly; total time=   0.0s\n",
      "[CV] END ............................C=0.001, kernel=sigmoid; total time=   0.0s\n",
      "[CV] END ............................C=0.001, kernel=sigmoid; total time=   0.0s\n",
      "[CV] END ............................C=0.001, kernel=sigmoid; total time=   0.0s\n",
      "[CV] END ..............................C=0.01, kernel=linear; total time=   0.0s\n",
      "[CV] END ..............................C=0.01, kernel=linear; total time=   0.0s\n",
      "[CV] END ..............................C=0.01, kernel=linear; total time=   0.0s\n",
      "[CV] END .................................C=0.01, kernel=rbf; total time=   0.0s\n",
      "[CV] END .................................C=0.01, kernel=rbf; total time=   0.0s\n",
      "[CV] END .................................C=0.01, kernel=rbf; total time=   0.0s\n",
      "[CV] END ................................C=0.01, kernel=poly; total time=   0.0s\n",
      "[CV] END ................................C=0.01, kernel=poly; total time=   0.0s\n",
      "[CV] END .............................C=0.01, kernel=sigmoid; total time=   0.0s\n",
      "[CV] END ................................C=0.01, kernel=poly; total time=   0.0s\n",
      "[CV] END ...............................C=0.1, kernel=linear; total time=   0.0s\n",
      "[CV] END .............................C=0.01, kernel=sigmoid; total time=   0.0s\n",
      "[CV] END .............................C=0.01, kernel=sigmoid; total time=   0.0s\n",
      "[CV] END ...............................C=0.1, kernel=linear; total time=   0.0s\n",
      "[CV] END ..................................C=0.1, kernel=rbf; total time=   0.0s\n",
      "[CV] END .................................C=0.1, kernel=poly; total time=   0.0s\n",
      "[CV] END .................................C=0.1, kernel=poly; total time=   0.0s\n",
      "[CV] END ..................................C=0.1, kernel=rbf; total time=   0.0s\n",
      "[CV] END ...............................C=0.1, kernel=linear; total time=   0.0s\n",
      "[CV] END ..............................C=0.1, kernel=sigmoid; total time=   0.0s\n",
      "[CV] END ..................................C=0.1, kernel=rbf; total time=   0.0s\n",
      "[CV] END ..............................C=0.1, kernel=sigmoid; total time=   0.0s\n",
      "[CV] END .................................C=0.1, kernel=poly; total time=   0.0s\n",
      "[CV] END .................................C=1, kernel=linear; total time=   0.0s\n",
      "[CV] END ...................................C=1, kernel=poly; total time=   0.0s\n",
      "[CV] END ....................................C=1, kernel=rbf; total time=   0.0s\n",
      "[CV] END ..............................C=0.1, kernel=sigmoid; total time=   0.0s\n",
      "[CV] END ...................................C=1, kernel=poly; total time=   0.0s\n",
      "[CV] END ...................................C=1, kernel=poly; total time=   0.0s\n",
      "[CV] END ....................................C=1, kernel=rbf; total time=   0.0s\n",
      "[CV] END ....................................C=1, kernel=rbf; total time=   0.0s\n",
      "[CV] END ................................C=1, kernel=sigmoid; total time=   0.0s\n",
      "[CV] END .................................C=1, kernel=linear; total time=   0.0s\n",
      "[CV] END ..................................C=10, kernel=poly; total time=   0.0s\n",
      "[CV] END ...................................C=10, kernel=rbf; total time=   0.0s\n",
      "[CV] END ...............................C=10, kernel=sigmoid; total time=   0.0s\n",
      "[CV] END ................................C=1, kernel=sigmoid; total time=   0.0s\n",
      "[CV] END ..................................C=10, kernel=poly; total time=   0.0s\n",
      "[CV] END ...............................C=10, kernel=sigmoid; total time=   0.0s\n",
      "[CV] END ...................................C=10, kernel=rbf; total time=   0.0s\n",
      "[CV] END ..................................C=10, kernel=poly; total time=   0.0s\n",
      "[CV] END ................................C=1, kernel=sigmoid; total time=   0.0s\n",
      "[CV] END ...............................C=10, kernel=sigmoid; total time=   0.0s\n",
      "[CV] END ..................................C=100, kernel=rbf; total time=   0.0s\n",
      "[CV] END ..................................C=100, kernel=rbf; total time=   0.0s\n",
      "[CV] END ..................................C=100, kernel=rbf; total time=   0.0s\n",
      "[CV] END .................................C=100, kernel=poly; total time=   0.0s\n",
      "[CV] END .................................C=100, kernel=poly; total time=   0.0s\n",
      "[CV] END .................................C=100, kernel=poly; total time=   0.0s\n",
      "[CV] END ..............................C=100, kernel=sigmoid; total time=   0.0s\n",
      "[CV] END ..............................C=100, kernel=sigmoid; total time=   0.0s\n",
      "[CV] END ..............................C=100, kernel=sigmoid; total time=   0.0s\n",
      "[CV] END ................................C=10, kernel=linear; total time=   0.0s\n",
      "[CV] END ...................................C=10, kernel=rbf; total time=   0.0s\n",
      "[CV] END .................................C=1, kernel=linear; total time=   0.0s\n",
      "[CV] END ................................C=10, kernel=linear; total time=   0.0s\n",
      "[CV] END ................................C=10, kernel=linear; total time=   0.0s\n",
      "[CV] END ...............................C=100, kernel=linear; total time=   0.1s\n"
     ]
    },
    {
     "name": "stderr",
     "output_type": "stream",
     "text": [
      "/Users/databased/miniconda3/envs/diabetes/lib/python3.9/site-packages/sklearn/model_selection/_search.py:307: UserWarning:\n",
      "\n",
      "The total space of parameters 24 is smaller than n_iter=50. Running 24 iterations. For exhaustive searches, use GridSearchCV.\n",
      "\n"
     ]
    },
    {
     "name": "stdout",
     "output_type": "stream",
     "text": [
      "[CV] END ...............................C=100, kernel=linear; total time=   0.1s\n",
      "[CV] END ...............................C=100, kernel=linear; total time=   0.2s\n",
      "Fitting 3 folds for each of 16 candidates, totalling 48 fits\n",
      "[CV] END ...metric=euclidean, n_neighbors=3, weights=uniform; total time=   0.0s\n",
      "[CV] END ...metric=euclidean, n_neighbors=5, weights=uniform; total time=   0.0s\n",
      "[CV] END ..metric=euclidean, n_neighbors=5, weights=distance; total time=   0.0s\n",
      "[CV] END ..metric=euclidean, n_neighbors=5, weights=distance; total time=   0.0s\n",
      "[CV] END ...metric=euclidean, n_neighbors=3, weights=uniform; total time=   0.0s\n",
      "[CV] END ..metric=euclidean, n_neighbors=5, weights=distance; total time=   0.0s\n",
      "[CV] END ...metric=euclidean, n_neighbors=5, weights=uniform; total time=   0.0s\n",
      "[CV] END ...metric=euclidean, n_neighbors=3, weights=uniform; total time=   0.0s\n",
      "[CV] END ..metric=euclidean, n_neighbors=7, weights=distance; total time=   0.0s\n",
      "[CV] END ...metric=euclidean, n_neighbors=7, weights=uniform; total time=   0.0s\n",
      "[CV] END ...metric=euclidean, n_neighbors=7, weights=uniform; total time=   0.0s\n",
      "[CV] END ..metric=euclidean, n_neighbors=7, weights=distance; total time=   0.0s\n",
      "[CV] END ..metric=euclidean, n_neighbors=7, weights=distance; total time=   0.0s\n",
      "[CV] END ..metric=euclidean, n_neighbors=3, weights=distance; total time=   0.0s\n",
      "[CV] END ...metric=euclidean, n_neighbors=9, weights=uniform; total time=   0.0s\n",
      "[CV] END ..metric=euclidean, n_neighbors=3, weights=distance; total time=   0.0s\n",
      "[CV] END ...metric=euclidean, n_neighbors=9, weights=uniform; total time=   0.0s\n",
      "[CV] END ...metric=manhattan, n_neighbors=3, weights=uniform; total time=   0.0s\n",
      "[CV] END ..metric=euclidean, n_neighbors=9, weights=distance; total time=   0.0s\n",
      "[CV] END ..metric=euclidean, n_neighbors=3, weights=distance; total time=   0.0s\n",
      "[CV] END ...metric=manhattan, n_neighbors=5, weights=uniform; total time=   0.0s\n",
      "[CV] END ...metric=manhattan, n_neighbors=3, weights=uniform; total time=   0.0s\n",
      "[CV] END ...metric=manhattan, n_neighbors=3, weights=uniform; total time=   0.0s\n",
      "[CV] END ..metric=manhattan, n_neighbors=3, weights=distance; total time=   0.0s\n",
      "[CV] END ...metric=euclidean, n_neighbors=5, weights=uniform; total time=   0.0s\n",
      "[CV] END ...metric=euclidean, n_neighbors=9, weights=uniform; total time=   0.0s\n",
      "[CV] END ...metric=manhattan, n_neighbors=5, weights=uniform; total time=   0.0s\n",
      "[CV] END ..metric=manhattan, n_neighbors=3, weights=distance; total time=   0.0s\n",
      "[CV] END ..metric=manhattan, n_neighbors=5, weights=distance; total time=   0.0s\n",
      "[CV] END ..metric=manhattan, n_neighbors=3, weights=distance; total time=   0.0s\n",
      "[CV] END ..metric=manhattan, n_neighbors=5, weights=distance; total time=   0.0s\n",
      "[CV] END ..metric=manhattan, n_neighbors=5, weights=distance; total time=   0.0s\n",
      "[CV] END ...metric=manhattan, n_neighbors=5, weights=uniform; total time=   0.0s\n",
      "[CV] END ...metric=manhattan, n_neighbors=7, weights=uniform; total time=   0.0s\n",
      "[CV] END ..metric=manhattan, n_neighbors=7, weights=distance; total time=   0.0s\n",
      "[CV] END ..metric=manhattan, n_neighbors=7, weights=distance; total time=   0.0s\n",
      "[CV] END ...metric=manhattan, n_neighbors=7, weights=uniform; total time=   0.0s\n",
      "[CV] END ..metric=manhattan, n_neighbors=7, weights=distance; total time=   0.0s\n",
      "[CV] END ...metric=manhattan, n_neighbors=7, weights=uniform; total time=   0.0s\n",
      "[CV] END ...metric=manhattan, n_neighbors=9, weights=uniform; total time=   0.0s\n",
      "[CV] END ..metric=manhattan, n_neighbors=9, weights=distance; total time=   0.0s\n",
      "[CV] END ...metric=manhattan, n_neighbors=9, weights=uniform; total time=   0.0s\n",
      "[CV] END ..metric=manhattan, n_neighbors=9, weights=distance; total time=   0.0s\n",
      "[CV] END ...metric=manhattan, n_neighbors=9, weights=uniform; total time=   0.0s\n",
      "[CV] END ..metric=manhattan, n_neighbors=9, weights=distance; total time=   0.0s\n",
      "[CV] END ...metric=euclidean, n_neighbors=7, weights=uniform; total time=   0.0s\n",
      "[CV] END ..metric=euclidean, n_neighbors=9, weights=distance; total time=   0.0s\n",
      "[CV] END ..metric=euclidean, n_neighbors=9, weights=distance; total time=   0.0s\n"
     ]
    },
    {
     "name": "stderr",
     "output_type": "stream",
     "text": [
      "/Users/databased/miniconda3/envs/diabetes/lib/python3.9/site-packages/sklearn/model_selection/_search.py:307: UserWarning:\n",
      "\n",
      "The total space of parameters 16 is smaller than n_iter=50. Running 16 iterations. For exhaustive searches, use GridSearchCV.\n",
      "\n"
     ]
    }
   ],
   "source": [
    "# Step 4: Perform randomized search for each classifier\n",
    "# RandomizedSearchCV is used to perform hyperparameter tuning for each classifier by randomly sampling from the hyperparameter grid.\n",
    "\n",
    "# Random Forest Classifier - RandomizedSearchCV\n",
    "rf_random = RandomizedSearchCV(estimator=RandomForestClassifier(),  # The base RandomForestClassifier model\n",
    "                               param_distributions=rf_param_grid,  # Hyperparameter grid for tuning\n",
    "                               n_iter=100,  # Number of parameter settings that are sampled\n",
    "                               cv=3,  # Cross-validation folds\n",
    "                               verbose=2,  # Verbosity level for output\n",
    "                               random_state=42,  # Random seed for reproducibility\n",
    "                               n_jobs=-1)  # Number of jobs to run in parallel (-1 means using all available cores)\n",
    "rf_random.fit(X_train, y_train)  # Fit the RandomizedSearchCV on the training data\n",
    "\n",
    "# Logistic Regression Classifier - RandomizedSearchCV\n",
    "logreg_random = RandomizedSearchCV(estimator=LogisticRegression(solver='liblinear'),  # The base LogisticRegression model\n",
    "                                   param_distributions=logreg_param_grid,  # Hyperparameter grid for tuning\n",
    "                                   n_iter=50,  # Number of parameter settings that are sampled\n",
    "                                   cv=3,  # Cross-validation folds\n",
    "                                   verbose=2,  # Verbosity level for output\n",
    "                                   random_state=42,  # Random seed for reproducibility\n",
    "                                   n_jobs=-1)  # Number of jobs to run in parallel (-1 means using all available cores)\n",
    "logreg_random.fit(X_train, y_train)  # Fit the RandomizedSearchCV on the training data\n",
    "\n",
    "# Support Vector Machine Classifier - RandomizedSearchCV\n",
    "svc_random = RandomizedSearchCV(estimator=SVC(),  # The base SVC model\n",
    "                                param_distributions=svc_param_grid,  # Hyperparameter grid for tuning\n",
    "                                n_iter=50,  # Number of parameter settings that are sampled\n",
    "                                cv=3,  # Cross-validation folds\n",
    "                                verbose=2,  # Verbosity level for output\n",
    "                                random_state=42,  # Random seed for reproducibility\n",
    "                                n_jobs=-1)  # Number of jobs to run in parallel (-1 means using all available cores)\n",
    "svc_random.fit(X_train, y_train)  # Fit the RandomizedSearchCV on the training data\n",
    "\n",
    "# k-Nearest Neighbors Classifier - RandomizedSearchCV\n",
    "knn_random = RandomizedSearchCV(estimator=KNeighborsClassifier(),  # The base KNeighborsClassifier model\n",
    "                                param_distributions=knn_param_grid,  # Hyperparameter grid for tuning\n",
    "                                n_iter=50,  # Number of parameter settings that are sampled\n",
    "                                cv=3,  # Cross-validation folds\n",
    "                                verbose=2,  # Verbosity level for output\n",
    "                                random_state=42,  # Random seed for reproducibility\n",
    "                                n_jobs=-1)  # Number of jobs to run in parallel (-1 means using all available cores)\n",
    "knn_random.fit(X_train.to_numpy(), y_train.to_numpy())  # Fit the RandomizedSearchCV on the training data\n",
    "\n",
    "# Gaussian Naive Bayes Classifier - No hyperparameters to tune for GaussianNB, so no RandomizedSearchCV needed\n",
    "gnb_random = GaussianNB()  # Create the GaussianNB model (no hyperparameters to tune)\n",
    "\n",
    "# Step 5: Evaluate each classifier's performance using cross-validated metrics\n",
    "# Create a dictionary of classifier models with their tuned hyperparameters (if applicable).\n",
    "# Gaussian Naive Bayes does not require tuning, so the default model is used.\n",
    "\n",
    "models = {\n",
    "    \"Random Forest\": RandomForestClassifier(**rf_random.best_params_),  # Create RandomForestClassifier with best parameters\n",
    "    \"Logistic Regression\": LogisticRegression(**logreg_random.best_params_),  # Create LogisticRegression with best parameters\n",
    "    \"Support Vector Machine\": SVC(**svc_random.best_params_),  # Create SVC with best parameters\n",
    "    \"K-Nearest Neighbors\": KNeighborsClassifier(**knn_random.best_params_),  # Create KNeighborsClassifier with best parameters\n",
    "    \"Gaussian Naive Bayes\": GaussianNB()  # Use the default GaussianNB model (no tuning needed)\n",
    "}\n"
   ]
  },
  {
   "cell_type": "code",
   "execution_count": 18,
   "metadata": {},
   "outputs": [],
   "source": [
    "# Create a function to generate cross-validated metrics for multiple models\n",
    "\n",
    "def cross_validated_metrics(models, X, y):\n",
    "    \"\"\"\n",
    "    Calculate cross-validated metrics for multiple models using 5-fold cross-validation.\n",
    "\n",
    "    Parameters:\n",
    "        models (dict): A dictionary containing the models with their respective hyperparameters.\n",
    "        X (array-like or DataFrame): The feature data for model training and evaluation.\n",
    "        y (array-like or Series): The target variable for model training and evaluation.\n",
    "\n",
    "    Returns:\n",
    "        dict: A dictionary containing the cross-validated metrics for each model.\n",
    "              The metrics include 'accuracy', 'precision', and 'recall' averaged over 5 folds.\n",
    "    \"\"\"\n",
    "\n",
    "    # Set a random seed for reproducible results\n",
    "    np.random.seed(42)\n",
    "\n",
    "    # Create a dictionary to store model scores\n",
    "    model_scores = {}\n",
    "\n",
    "    # Loop through the models\n",
    "    for name, model in models.items():\n",
    "        # Create a dictionary to hold collected scores for each model\n",
    "        collected_scores = {}\n",
    "\n",
    "        # Gather the mean of cross-validated scores for a variety of metrics\n",
    "        for metric in ['accuracy', 'precision', 'recall']:\n",
    "            collected_scores[metric] = np.mean(cross_val_score(model, X, y, cv=5, scoring=metric))\n",
    "\n",
    "        # Store the collected scores for the current model in the model_scores dictionary\n",
    "        model_scores[name] = collected_scores\n",
    "\n",
    "    return model_scores\n",
    "\n",
    "\n",
    "# Call the function to calculate cross-validated metrics for the provided models\n",
    "# X_trans is the transformed feature data (e.g., scaled or one-hot encoded) and y is the target variable\n",
    "model_metrics = cross_validated_metrics(models=models, X=X_trans, y=y)\n",
    "\n",
    "# The model_metrics dictionary will contain the average accuracy, precision, and recall scores\n",
    "# for each model over 5 folds of cross-validation.\n",
    "# Example output: {'Random Forest': {'accuracy': 0.85, 'precision': 0.87, 'recall': 0.81}, ...}\n"
   ]
  },
  {
   "cell_type": "code",
   "execution_count": 13,
   "metadata": {},
   "outputs": [
    {
     "name": "stdout",
     "output_type": "stream",
     "text": [
      "Fitting 3 folds for each of 100 candidates, totalling 300 fits\n"
     ]
    },
    {
     "name": "stdout",
     "output_type": "stream",
     "text": [
      "[CV] END bootstrap=False, max_depth=None, min_samples_leaf=1, min_samples_split=2, n_estimators=800; total time=   0.4s\n",
      "[CV] END bootstrap=False, max_depth=None, min_samples_leaf=1, min_samples_split=2, n_estimators=800; total time=   0.3s\n",
      "[CV] END bootstrap=False, max_depth=None, min_samples_leaf=1, min_samples_split=2, n_estimators=800; total time=   0.4s\n",
      "[CV] END bootstrap=False, max_depth=10, min_samples_leaf=2, min_samples_split=2, n_estimators=800; total time=   0.4s\n",
      "[CV] END bootstrap=False, max_depth=None, min_samples_leaf=1, min_samples_split=2, n_estimators=2000; total time=   0.8s\n",
      "[CV] END bootstrap=False, max_depth=10, min_samples_leaf=2, min_samples_split=2, n_estimators=800; total time=   0.3s\n",
      "[CV] END bootstrap=False, max_depth=80, min_samples_leaf=4, min_samples_split=5, n_estimators=200; total time=   0.1s\n",
      "[CV] END bootstrap=False, max_depth=10, min_samples_leaf=2, min_samples_split=2, n_estimators=800; total time=   0.4s\n",
      "[CV] END bootstrap=False, max_depth=80, min_samples_leaf=4, min_samples_split=5, n_estimators=200; total time=   0.1s\n",
      "[CV] END bootstrap=False, max_depth=80, min_samples_leaf=4, min_samples_split=5, n_estimators=200; total time=   0.1s\n",
      "[CV] END bootstrap=False, max_depth=None, min_samples_leaf=1, min_samples_split=2, n_estimators=2000; total time=   0.9s\n",
      "[CV] END bootstrap=True, max_depth=80, min_samples_leaf=2, min_samples_split=2, n_estimators=1800; total time=   0.9s\n",
      "[CV] END bootstrap=False, max_depth=None, min_samples_leaf=1, min_samples_split=2, n_estimators=2000; total time=   1.1s\n",
      "[CV] END bootstrap=True, max_depth=80, min_samples_leaf=2, min_samples_split=2, n_estimators=1800; total time=   1.1s\n",
      "[CV] END bootstrap=False, max_depth=70, min_samples_leaf=2, min_samples_split=10, n_estimators=600; total time=   0.3s\n",
      "[CV] END bootstrap=True, max_depth=80, min_samples_leaf=2, min_samples_split=2, n_estimators=1800; total time=   1.1s\n",
      "[CV] END bootstrap=False, max_depth=70, min_samples_leaf=2, min_samples_split=10, n_estimators=600; total time=   0.3s\n",
      "[CV] END bootstrap=False, max_depth=70, min_samples_leaf=2, min_samples_split=10, n_estimators=600; total time=   0.3s\n",
      "[CV] END bootstrap=True, max_depth=90, min_samples_leaf=4, min_samples_split=2, n_estimators=1800; total time=   1.0s\n",
      "[CV] END bootstrap=True, max_depth=90, min_samples_leaf=4, min_samples_split=2, n_estimators=1800; total time=   1.1s\n",
      "[CV] END bootstrap=False, max_depth=80, min_samples_leaf=1, min_samples_split=2, n_estimators=1600; total time=   0.7s\n",
      "[CV] END bootstrap=True, max_depth=90, min_samples_leaf=4, min_samples_split=2, n_estimators=1800; total time=   1.0s\n",
      "[CV] END bootstrap=False, max_depth=80, min_samples_leaf=1, min_samples_split=2, n_estimators=1600; total time=   0.7s\n",
      "[CV] END bootstrap=False, max_depth=80, min_samples_leaf=1, min_samples_split=2, n_estimators=1600; total time=   0.7s\n",
      "[CV] END bootstrap=True, max_depth=110, min_samples_leaf=1, min_samples_split=10, n_estimators=1400; total time=   0.8s\n",
      "[CV] END bootstrap=False, max_depth=None, min_samples_leaf=4, min_samples_split=10, n_estimators=1600; total time=   0.8s\n",
      "[CV] END bootstrap=False, max_depth=110, min_samples_leaf=2, min_samples_split=2, n_estimators=400; total time=   0.2s\n",
      "[CV] END bootstrap=False, max_depth=None, min_samples_leaf=4, min_samples_split=10, n_estimators=1600; total time=   0.6s\n",
      "[CV] END bootstrap=True, max_depth=110, min_samples_leaf=1, min_samples_split=10, n_estimators=1400; total time=   1.0s\n",
      "[CV] END bootstrap=True, max_depth=110, min_samples_leaf=1, min_samples_split=10, n_estimators=1400; total time=   1.1s\n",
      "[CV] END bootstrap=False, max_depth=None, min_samples_leaf=4, min_samples_split=10, n_estimators=1600; total time=   0.8s\n",
      "[CV] END bootstrap=False, max_depth=110, min_samples_leaf=2, min_samples_split=2, n_estimators=400; total time=   0.3s\n",
      "[CV] END bootstrap=False, max_depth=110, min_samples_leaf=2, min_samples_split=2, n_estimators=400; total time=   0.3s\n",
      "[CV] END bootstrap=True, max_depth=80, min_samples_leaf=2, min_samples_split=5, n_estimators=1000; total time=   0.7s\n",
      "[CV] END bootstrap=True, max_depth=80, min_samples_leaf=2, min_samples_split=5, n_estimators=1000; total time=   0.7s\n",
      "[CV] END bootstrap=True, max_depth=80, min_samples_leaf=2, min_samples_split=5, n_estimators=1000; total time=   0.7s\n",
      "[CV] END bootstrap=False, max_depth=10, min_samples_leaf=4, min_samples_split=10, n_estimators=1000; total time=   0.4s\n",
      "[CV] END bootstrap=False, max_depth=10, min_samples_leaf=4, min_samples_split=10, n_estimators=1000; total time=   0.5s\n",
      "[CV] END bootstrap=False, max_depth=10, min_samples_leaf=4, min_samples_split=10, n_estimators=1000; total time=   0.5s\n",
      "[CV] END bootstrap=True, max_depth=20, min_samples_leaf=1, min_samples_split=2, n_estimators=1400; total time=   0.9s\n",
      "[CV] END bootstrap=True, max_depth=20, min_samples_leaf=1, min_samples_split=2, n_estimators=1400; total time=   0.9s\n",
      "[CV] END bootstrap=True, max_depth=20, min_samples_leaf=1, min_samples_split=2, n_estimators=1400; total time=   0.9s\n",
      "[CV] END bootstrap=True, max_depth=70, min_samples_leaf=1, min_samples_split=10, n_estimators=1600; total time=   0.9s\n",
      "[CV] END bootstrap=False, max_depth=70, min_samples_leaf=1, min_samples_split=10, n_estimators=400; total time=   0.2s\n",
      "[CV] END bootstrap=True, max_depth=70, min_samples_leaf=1, min_samples_split=10, n_estimators=1600; total time=   1.1s\n",
      "[CV] END bootstrap=True, max_depth=70, min_samples_leaf=1, min_samples_split=10, n_estimators=1600; total time=   0.9s\n",
      "[CV] END bootstrap=True, max_depth=20, min_samples_leaf=2, min_samples_split=5, n_estimators=1200; total time=   0.8s\n",
      "[CV] END bootstrap=False, max_depth=70, min_samples_leaf=1, min_samples_split=10, n_estimators=400; total time=   0.2s\n",
      "[CV] END bootstrap=True, max_depth=20, min_samples_leaf=2, min_samples_split=5, n_estimators=1200; total time=   0.7s\n",
      "[CV] END bootstrap=True, max_depth=20, min_samples_leaf=2, min_samples_split=5, n_estimators=1200; total time=   0.8s\n",
      "[CV] END bootstrap=False, max_depth=70, min_samples_leaf=1, min_samples_split=10, n_estimators=400; total time=   0.2s\n",
      "[CV] END bootstrap=False, max_depth=100, min_samples_leaf=2, min_samples_split=10, n_estimators=200; total time=   0.1s\n",
      "[CV] END bootstrap=False, max_depth=100, min_samples_leaf=2, min_samples_split=10, n_estimators=200; total time=   0.1s\n",
      "[CV] END bootstrap=False, max_depth=100, min_samples_leaf=2, min_samples_split=10, n_estimators=200; total time=   0.1s\n",
      "[CV] END bootstrap=True, max_depth=70, min_samples_leaf=4, min_samples_split=10, n_estimators=400; total time=   0.2s\n",
      "[CV] END bootstrap=True, max_depth=70, min_samples_leaf=4, min_samples_split=10, n_estimators=400; total time=   0.2s\n",
      "[CV] END bootstrap=True, max_depth=70, min_samples_leaf=4, min_samples_split=10, n_estimators=400; total time=   0.2s\n",
      "[CV] END bootstrap=False, max_depth=90, min_samples_leaf=2, min_samples_split=5, n_estimators=1200; total time=   0.5s\n",
      "[CV] END bootstrap=True, max_depth=10, min_samples_leaf=1, min_samples_split=10, n_estimators=2000; total time=   1.1s\n",
      "[CV] END bootstrap=False, max_depth=90, min_samples_leaf=2, min_samples_split=5, n_estimators=1200; total time=   0.5s\n",
      "[CV] END bootstrap=False, max_depth=90, min_samples_leaf=2, min_samples_split=5, n_estimators=1200; total time=   0.6s\n",
      "[CV] END bootstrap=False, max_depth=20, min_samples_leaf=2, min_samples_split=2, n_estimators=1000; total time=   0.4s\n",
      "[CV] END bootstrap=True, max_depth=10, min_samples_leaf=1, min_samples_split=10, n_estimators=2000; total time=   1.1s\n",
      "[CV] END bootstrap=False, max_depth=20, min_samples_leaf=2, min_samples_split=2, n_estimators=1000; total time=   0.5s\n",
      "[CV] END bootstrap=True, max_depth=10, min_samples_leaf=1, min_samples_split=10, n_estimators=2000; total time=   1.1s\n",
      "[CV] END bootstrap=False, max_depth=20, min_samples_leaf=2, min_samples_split=2, n_estimators=1000; total time=   0.5s\n",
      "[CV] END bootstrap=True, max_depth=40, min_samples_leaf=4, min_samples_split=10, n_estimators=200; total time=   0.1s\n",
      "[CV] END bootstrap=False, max_depth=50, min_samples_leaf=1, min_samples_split=5, n_estimators=1200; total time=   0.5s\n",
      "[CV] END bootstrap=True, max_depth=40, min_samples_leaf=4, min_samples_split=10, n_estimators=200; total time=   0.1s\n",
      "[CV] END bootstrap=True, max_depth=40, min_samples_leaf=4, min_samples_split=10, n_estimators=200; total time=   0.1s\n",
      "[CV] END bootstrap=False, max_depth=50, min_samples_leaf=1, min_samples_split=5, n_estimators=1200; total time=   0.5s\n",
      "[CV] END bootstrap=False, max_depth=50, min_samples_leaf=1, min_samples_split=5, n_estimators=1200; total time=   0.5s\n",
      "[CV] END bootstrap=True, max_depth=None, min_samples_leaf=1, min_samples_split=5, n_estimators=200; total time=   0.1s\n",
      "[CV] END bootstrap=True, max_depth=None, min_samples_leaf=1, min_samples_split=5, n_estimators=200; total time=   0.1s\n",
      "[CV] END bootstrap=True, max_depth=None, min_samples_leaf=1, min_samples_split=5, n_estimators=200; total time=   0.1s\n",
      "[CV] END bootstrap=False, max_depth=40, min_samples_leaf=4, min_samples_split=5, n_estimators=200; total time=   0.1s\n",
      "[CV] END bootstrap=True, max_depth=30, min_samples_leaf=4, min_samples_split=5, n_estimators=400; total time=   0.2s\n",
      "[CV] END bootstrap=True, max_depth=30, min_samples_leaf=4, min_samples_split=5, n_estimators=400; total time=   0.2s\n",
      "[CV] END bootstrap=True, max_depth=30, min_samples_leaf=4, min_samples_split=5, n_estimators=400; total time=   0.2s\n",
      "[CV] END bootstrap=False, max_depth=40, min_samples_leaf=4, min_samples_split=5, n_estimators=200; total time=   0.1s\n",
      "[CV] END bootstrap=False, max_depth=40, min_samples_leaf=4, min_samples_split=5, n_estimators=200; total time=   0.1s\n",
      "[CV] END bootstrap=False, max_depth=60, min_samples_leaf=2, min_samples_split=10, n_estimators=1400; total time=   0.6s\n",
      "[CV] END bootstrap=True, max_depth=None, min_samples_leaf=4, min_samples_split=2, n_estimators=1600; total time=   0.9s\n",
      "[CV] END bootstrap=False, max_depth=60, min_samples_leaf=2, min_samples_split=10, n_estimators=1400; total time=   0.6s\n",
      "[CV] END bootstrap=True, max_depth=None, min_samples_leaf=4, min_samples_split=2, n_estimators=1600; total time=   0.9s\n",
      "[CV] END bootstrap=False, max_depth=60, min_samples_leaf=2, min_samples_split=10, n_estimators=1400; total time=   0.7s\n",
      "[CV] END bootstrap=True, max_depth=None, min_samples_leaf=4, min_samples_split=2, n_estimators=1600; total time=   1.1s\n",
      "[CV] END bootstrap=False, max_depth=110, min_samples_leaf=1, min_samples_split=10, n_estimators=600; total time=   0.2s\n",
      "[CV] END bootstrap=False, max_depth=110, min_samples_leaf=1, min_samples_split=10, n_estimators=600; total time=   0.2s\n",
      "[CV] END bootstrap=True, max_depth=20, min_samples_leaf=1, min_samples_split=10, n_estimators=400; total time=   0.2s\n",
      "[CV] END bootstrap=False, max_depth=110, min_samples_leaf=1, min_samples_split=10, n_estimators=600; total time=   0.3s\n",
      "[CV] END bootstrap=True, max_depth=110, min_samples_leaf=4, min_samples_split=2, n_estimators=1200; total time=   0.7s\n",
      "[CV] END bootstrap=True, max_depth=110, min_samples_leaf=4, min_samples_split=2, n_estimators=1200; total time=   0.7s\n",
      "[CV] END bootstrap=True, max_depth=20, min_samples_leaf=1, min_samples_split=10, n_estimators=400; total time=   0.2s\n",
      "[CV] END bootstrap=True, max_depth=110, min_samples_leaf=4, min_samples_split=2, n_estimators=1200; total time=   0.7s\n",
      "[CV] END bootstrap=True, max_depth=20, min_samples_leaf=1, min_samples_split=10, n_estimators=400; total time=   0.2s\n",
      "[CV] END bootstrap=False, max_depth=20, min_samples_leaf=1, min_samples_split=5, n_estimators=2000; total time=   0.9s\n",
      "[CV] END bootstrap=False, max_depth=20, min_samples_leaf=1, min_samples_split=5, n_estimators=2000; total time=   1.0s\n",
      "[CV] END bootstrap=False, max_depth=20, min_samples_leaf=1, min_samples_split=5, n_estimators=2000; total time=   0.9s\n",
      "[CV] END bootstrap=True, max_depth=30, min_samples_leaf=1, min_samples_split=2, n_estimators=1000; total time=   0.6s\n",
      "[CV] END bootstrap=True, max_depth=30, min_samples_leaf=1, min_samples_split=2, n_estimators=1000; total time=   0.6s\n",
      "[CV] END bootstrap=True, max_depth=30, min_samples_leaf=1, min_samples_split=2, n_estimators=1000; total time=   0.6s\n",
      "[CV] END bootstrap=False, max_depth=80, min_samples_leaf=1, min_samples_split=5, n_estimators=1400; total time=   0.6s\n",
      "[CV] END bootstrap=False, max_depth=80, min_samples_leaf=2, min_samples_split=2, n_estimators=1600; total time=   0.6s\n",
      "[CV] END bootstrap=False, max_depth=80, min_samples_leaf=1, min_samples_split=5, n_estimators=1400; total time=   0.7s\n",
      "[CV] END bootstrap=False, max_depth=80, min_samples_leaf=1, min_samples_split=5, n_estimators=1400; total time=   0.8s\n",
      "[CV] END bootstrap=False, max_depth=110, min_samples_leaf=2, min_samples_split=5, n_estimators=600; total time=   0.3s\n",
      "[CV] END bootstrap=False, max_depth=110, min_samples_leaf=2, min_samples_split=5, n_estimators=600; total time=   0.3s\n",
      "[CV] END bootstrap=False, max_depth=110, min_samples_leaf=2, min_samples_split=5, n_estimators=600; total time=   0.3s\n",
      "[CV] END bootstrap=False, max_depth=70, min_samples_leaf=2, min_samples_split=5, n_estimators=1600; total time=   0.6s\n",
      "[CV] END bootstrap=True, max_depth=50, min_samples_leaf=4, min_samples_split=2, n_estimators=600; total time=   0.3s\n",
      "[CV] END bootstrap=True, max_depth=50, min_samples_leaf=4, min_samples_split=2, n_estimators=600; total time=   0.4s\n",
      "[CV] END bootstrap=False, max_depth=80, min_samples_leaf=2, min_samples_split=2, n_estimators=1600; total time=   0.7s\n",
      "[CV] END bootstrap=False, max_depth=80, min_samples_leaf=2, min_samples_split=2, n_estimators=1600; total time=   0.7s\n",
      "[CV] END bootstrap=False, max_depth=70, min_samples_leaf=2, min_samples_split=5, n_estimators=1600; total time=   0.7s\n",
      "[CV] END bootstrap=False, max_depth=70, min_samples_leaf=2, min_samples_split=5, n_estimators=1600; total time=   0.7s\n",
      "[CV] END bootstrap=False, max_depth=30, min_samples_leaf=4, min_samples_split=5, n_estimators=400; total time=   0.2s\n",
      "[CV] END bootstrap=False, max_depth=30, min_samples_leaf=4, min_samples_split=5, n_estimators=400; total time=   0.2s\n",
      "[CV] END bootstrap=False, max_depth=30, min_samples_leaf=4, min_samples_split=5, n_estimators=400; total time=   0.2s\n",
      "[CV] END bootstrap=True, max_depth=50, min_samples_leaf=4, min_samples_split=2, n_estimators=600; total time=   0.5s\n",
      "[CV] END bootstrap=True, max_depth=80, min_samples_leaf=1, min_samples_split=2, n_estimators=200; total time=   0.1s\n",
      "[CV] END bootstrap=True, max_depth=80, min_samples_leaf=1, min_samples_split=2, n_estimators=200; total time=   0.1s\n",
      "[CV] END bootstrap=False, max_depth=100, min_samples_leaf=2, min_samples_split=5, n_estimators=1200; total time=   0.5s\n",
      "[CV] END bootstrap=False, max_depth=100, min_samples_leaf=2, min_samples_split=5, n_estimators=1200; total time=   0.5s\n",
      "[CV] END bootstrap=True, max_depth=80, min_samples_leaf=1, min_samples_split=2, n_estimators=200; total time=   0.1s\n",
      "[CV] END bootstrap=False, max_depth=100, min_samples_leaf=2, min_samples_split=5, n_estimators=1200; total time=   0.6s\n",
      "[CV] END bootstrap=False, max_depth=50, min_samples_leaf=1, min_samples_split=10, n_estimators=2000; total time=   0.8s\n",
      "[CV] END bootstrap=False, max_depth=50, min_samples_leaf=1, min_samples_split=10, n_estimators=2000; total time=   0.8s\n",
      "[CV] END bootstrap=False, max_depth=50, min_samples_leaf=1, min_samples_split=10, n_estimators=2000; total time=   0.9s\n",
      "[CV] END bootstrap=True, max_depth=60, min_samples_leaf=2, min_samples_split=10, n_estimators=1800; total time=   1.0s\n",
      "[CV] END bootstrap=True, max_depth=60, min_samples_leaf=2, min_samples_split=10, n_estimators=1800; total time=   1.1s\n",
      "[CV] END bootstrap=False, max_depth=40, min_samples_leaf=2, min_samples_split=5, n_estimators=800; total time=   0.3s\n",
      "[CV] END bootstrap=True, max_depth=60, min_samples_leaf=2, min_samples_split=10, n_estimators=1800; total time=   1.2s\n",
      "[CV] END bootstrap=False, max_depth=40, min_samples_leaf=2, min_samples_split=5, n_estimators=800; total time=   0.4s\n",
      "[CV] END bootstrap=False, max_depth=40, min_samples_leaf=2, min_samples_split=5, n_estimators=800; total time=   0.4s\n",
      "[CV] END bootstrap=False, max_depth=100, min_samples_leaf=2, min_samples_split=5, n_estimators=800; total time=   0.4s\n",
      "[CV] END bootstrap=False, max_depth=100, min_samples_leaf=2, min_samples_split=5, n_estimators=800; total time=   0.3s\n",
      "[CV] END bootstrap=False, max_depth=100, min_samples_leaf=2, min_samples_split=5, n_estimators=800; total time=   0.4s\n",
      "[CV] END bootstrap=False, max_depth=30, min_samples_leaf=2, min_samples_split=2, n_estimators=800; total time=   0.3s\n",
      "[CV] END bootstrap=False, max_depth=30, min_samples_leaf=2, min_samples_split=2, n_estimators=800; total time=   0.4s\n",
      "[CV] END bootstrap=False, max_depth=30, min_samples_leaf=2, min_samples_split=2, n_estimators=800; total time=   0.5s\n",
      "[CV] END bootstrap=False, max_depth=80, min_samples_leaf=2, min_samples_split=10, n_estimators=400; total time=   0.2s\n",
      "[CV] END bootstrap=False, max_depth=80, min_samples_leaf=2, min_samples_split=10, n_estimators=400; total time=   0.2s\n",
      "[CV] END bootstrap=True, max_depth=110, min_samples_leaf=4, min_samples_split=5, n_estimators=800; total time=   0.4s\n",
      "[CV] END bootstrap=True, max_depth=110, min_samples_leaf=4, min_samples_split=5, n_estimators=800; total time=   0.4s\n",
      "[CV] END bootstrap=True, max_depth=110, min_samples_leaf=4, min_samples_split=5, n_estimators=800; total time=   0.4s\n",
      "[CV] END bootstrap=False, max_depth=80, min_samples_leaf=2, min_samples_split=10, n_estimators=400; total time=   0.2s\n",
      "[CV] END bootstrap=True, max_depth=40, min_samples_leaf=1, min_samples_split=10, n_estimators=1600; total time=   0.9s\n",
      "[CV] END bootstrap=False, max_depth=80, min_samples_leaf=2, min_samples_split=2, n_estimators=1000; total time=   0.4s\n",
      "[CV] END bootstrap=True, max_depth=60, min_samples_leaf=2, min_samples_split=5, n_estimators=1200; total time=   0.6s\n",
      "[CV] END bootstrap=True, max_depth=60, min_samples_leaf=2, min_samples_split=5, n_estimators=1200; total time=   0.7s\n",
      "[CV] END bootstrap=True, max_depth=60, min_samples_leaf=2, min_samples_split=5, n_estimators=1200; total time=   0.8s\n",
      "[CV] END bootstrap=True, max_depth=40, min_samples_leaf=1, min_samples_split=10, n_estimators=1600; total time=   1.2s\n",
      "[CV] END bootstrap=True, max_depth=40, min_samples_leaf=1, min_samples_split=10, n_estimators=1600; total time=   1.1s\n",
      "[CV] END bootstrap=False, max_depth=80, min_samples_leaf=2, min_samples_split=2, n_estimators=1000; total time=   0.5s\n",
      "[CV] END bootstrap=True, max_depth=110, min_samples_leaf=1, min_samples_split=10, n_estimators=2000; total time=   1.0s\n",
      "[CV] END bootstrap=False, max_depth=80, min_samples_leaf=2, min_samples_split=2, n_estimators=1000; total time=   0.4s\n",
      "[CV] END bootstrap=True, max_depth=110, min_samples_leaf=1, min_samples_split=10, n_estimators=2000; total time=   1.1s\n",
      "[CV] END bootstrap=True, max_depth=110, min_samples_leaf=1, min_samples_split=10, n_estimators=2000; total time=   1.1s\n",
      "[CV] END bootstrap=True, max_depth=20, min_samples_leaf=2, min_samples_split=5, n_estimators=1000; total time=   0.5s\n",
      "[CV] END bootstrap=True, max_depth=20, min_samples_leaf=2, min_samples_split=5, n_estimators=1000; total time=   0.6s\n",
      "[CV] END bootstrap=False, max_depth=60, min_samples_leaf=4, min_samples_split=10, n_estimators=1400; total time=   0.6s\n",
      "[CV] END bootstrap=False, max_depth=60, min_samples_leaf=4, min_samples_split=10, n_estimators=1400; total time=   0.6s\n",
      "[CV] END bootstrap=True, max_depth=20, min_samples_leaf=2, min_samples_split=5, n_estimators=1000; total time=   0.6s\n",
      "[CV] END bootstrap=True, max_depth=40, min_samples_leaf=2, min_samples_split=2, n_estimators=1600; total time=   1.1s\n",
      "[CV] END bootstrap=False, max_depth=60, min_samples_leaf=4, min_samples_split=10, n_estimators=1400; total time=   0.7s\n",
      "[CV] END bootstrap=True, max_depth=40, min_samples_leaf=2, min_samples_split=2, n_estimators=1600; total time=   1.1s\n",
      "[CV] END bootstrap=True, max_depth=40, min_samples_leaf=2, min_samples_split=2, n_estimators=1600; total time=   0.9s\n",
      "[CV] END bootstrap=True, max_depth=50, min_samples_leaf=1, min_samples_split=2, n_estimators=400; total time=   0.2s\n",
      "[CV] END bootstrap=True, max_depth=50, min_samples_leaf=1, min_samples_split=2, n_estimators=400; total time=   0.2s\n",
      "[CV] END bootstrap=True, max_depth=50, min_samples_leaf=1, min_samples_split=2, n_estimators=400; total time=   0.2s\n",
      "[CV] END bootstrap=False, max_depth=50, min_samples_leaf=4, min_samples_split=2, n_estimators=2000; total time=   0.9s\n",
      "[CV] END bootstrap=False, max_depth=80, min_samples_leaf=2, min_samples_split=10, n_estimators=1200; total time=   0.5s\n",
      "[CV] END bootstrap=False, max_depth=50, min_samples_leaf=4, min_samples_split=2, n_estimators=2000; total time=   0.9s\n",
      "[CV] END bootstrap=True, max_depth=110, min_samples_leaf=1, min_samples_split=10, n_estimators=800; total time=   0.5s\n",
      "[CV] END bootstrap=False, max_depth=80, min_samples_leaf=2, min_samples_split=10, n_estimators=1200; total time=   0.5s\n",
      "[CV] END bootstrap=False, max_depth=80, min_samples_leaf=2, min_samples_split=10, n_estimators=1200; total time=   0.5s\n",
      "[CV] END bootstrap=False, max_depth=50, min_samples_leaf=4, min_samples_split=2, n_estimators=2000; total time=   0.9s\n",
      "[CV] END bootstrap=True, max_depth=110, min_samples_leaf=1, min_samples_split=10, n_estimators=800; total time=   0.5s\n",
      "[CV] END bootstrap=False, max_depth=60, min_samples_leaf=2, min_samples_split=10, n_estimators=1000; total time=   0.4s\n",
      "[CV] END bootstrap=False, max_depth=60, min_samples_leaf=2, min_samples_split=10, n_estimators=1000; total time=   0.4s\n",
      "[CV] END bootstrap=True, max_depth=110, min_samples_leaf=1, min_samples_split=10, n_estimators=800; total time=   0.5s\n",
      "[CV] END bootstrap=True, max_depth=30, min_samples_leaf=4, min_samples_split=2, n_estimators=200; total time=   0.1s\n",
      "[CV] END bootstrap=True, max_depth=20, min_samples_leaf=1, min_samples_split=5, n_estimators=2000; total time=   1.1s\n",
      "[CV] END bootstrap=True, max_depth=20, min_samples_leaf=1, min_samples_split=5, n_estimators=2000; total time=   1.1s\n",
      "[CV] END bootstrap=False, max_depth=60, min_samples_leaf=2, min_samples_split=10, n_estimators=1000; total time=   0.4s\n",
      "[CV] END bootstrap=True, max_depth=30, min_samples_leaf=4, min_samples_split=2, n_estimators=200; total time=   0.1s\n",
      "[CV] END bootstrap=True, max_depth=30, min_samples_leaf=4, min_samples_split=2, n_estimators=200; total time=   0.1s\n",
      "[CV] END bootstrap=True, max_depth=20, min_samples_leaf=1, min_samples_split=5, n_estimators=200; total time=   0.1s\n",
      "[CV] END bootstrap=True, max_depth=20, min_samples_leaf=1, min_samples_split=5, n_estimators=200; total time=   0.1s\n",
      "[CV] END bootstrap=True, max_depth=20, min_samples_leaf=1, min_samples_split=5, n_estimators=200; total time=   0.1s\n",
      "[CV] END bootstrap=True, max_depth=20, min_samples_leaf=1, min_samples_split=5, n_estimators=2000; total time=   1.3s\n",
      "[CV] END bootstrap=True, max_depth=30, min_samples_leaf=1, min_samples_split=2, n_estimators=1800; total time=   1.0s\n",
      "[CV] END bootstrap=True, max_depth=30, min_samples_leaf=1, min_samples_split=2, n_estimators=1800; total time=   1.0s\n",
      "[CV] END bootstrap=True, max_depth=30, min_samples_leaf=1, min_samples_split=2, n_estimators=1800; total time=   1.2s\n",
      "[CV] END bootstrap=True, max_depth=60, min_samples_leaf=2, min_samples_split=2, n_estimators=1400; total time=   0.7s\n",
      "[CV] END bootstrap=True, max_depth=70, min_samples_leaf=2, min_samples_split=10, n_estimators=1400; total time=   0.8s\n",
      "[CV] END bootstrap=False, max_depth=50, min_samples_leaf=4, min_samples_split=2, n_estimators=1400; total time=   0.7s\n",
      "[CV] END bootstrap=True, max_depth=70, min_samples_leaf=2, min_samples_split=10, n_estimators=1400; total time=   0.8s\n",
      "[CV] END bootstrap=True, max_depth=60, min_samples_leaf=2, min_samples_split=2, n_estimators=1400; total time=   0.8s\n",
      "[CV] END bootstrap=True, max_depth=70, min_samples_leaf=2, min_samples_split=10, n_estimators=1400; total time=   0.9s\n",
      "[CV] END bootstrap=True, max_depth=60, min_samples_leaf=2, min_samples_split=2, n_estimators=1400; total time=   0.8s\n",
      "[CV] END bootstrap=False, max_depth=50, min_samples_leaf=4, min_samples_split=2, n_estimators=1400; total time=   0.6s\n",
      "[CV] END bootstrap=False, max_depth=50, min_samples_leaf=4, min_samples_split=2, n_estimators=1400; total time=   0.6s\n",
      "[CV] END bootstrap=False, max_depth=90, min_samples_leaf=4, min_samples_split=2, n_estimators=1800; total time=   0.8s\n",
      "[CV] END bootstrap=False, max_depth=90, min_samples_leaf=4, min_samples_split=2, n_estimators=1800; total time=   0.7s\n",
      "[CV] END bootstrap=False, max_depth=70, min_samples_leaf=4, min_samples_split=10, n_estimators=800; total time=   0.5s\n",
      "[CV] END bootstrap=False, max_depth=70, min_samples_leaf=4, min_samples_split=10, n_estimators=800; total time=   0.3s\n",
      "[CV] END bootstrap=False, max_depth=90, min_samples_leaf=4, min_samples_split=2, n_estimators=1800; total time=   1.1s\n",
      "[CV] END bootstrap=False, max_depth=70, min_samples_leaf=4, min_samples_split=10, n_estimators=800; total time=   0.4s\n",
      "[CV] END bootstrap=True, max_depth=60, min_samples_leaf=4, min_samples_split=5, n_estimators=1600; total time=   0.9s\n",
      "[CV] END bootstrap=True, max_depth=60, min_samples_leaf=4, min_samples_split=5, n_estimators=1600; total time=   1.1s\n",
      "[CV] END bootstrap=True, max_depth=90, min_samples_leaf=4, min_samples_split=2, n_estimators=200; total time=   0.1s\n",
      "[CV] END bootstrap=True, max_depth=60, min_samples_leaf=4, min_samples_split=5, n_estimators=1600; total time=   1.1s\n",
      "[CV] END bootstrap=True, max_depth=90, min_samples_leaf=4, min_samples_split=2, n_estimators=200; total time=   0.1s\n",
      "[CV] END bootstrap=True, max_depth=90, min_samples_leaf=4, min_samples_split=2, n_estimators=200; total time=   0.1s\n",
      "[CV] END bootstrap=True, max_depth=100, min_samples_leaf=1, min_samples_split=2, n_estimators=2000; total time=   1.2s\n",
      "[CV] END bootstrap=True, max_depth=70, min_samples_leaf=1, min_samples_split=2, n_estimators=1000; total time=   0.6s\n",
      "[CV] END bootstrap=True, max_depth=100, min_samples_leaf=1, min_samples_split=2, n_estimators=2000; total time=   1.3s\n",
      "[CV] END bootstrap=True, max_depth=70, min_samples_leaf=1, min_samples_split=2, n_estimators=1000; total time=   0.5s\n",
      "[CV] END bootstrap=True, max_depth=100, min_samples_leaf=1, min_samples_split=2, n_estimators=2000; total time=   1.4s\n",
      "[CV] END bootstrap=False, max_depth=100, min_samples_leaf=4, min_samples_split=10, n_estimators=400; total time=   0.2s\n",
      "[CV] END bootstrap=False, max_depth=100, min_samples_leaf=4, min_samples_split=10, n_estimators=400; total time=   0.2s\n",
      "[CV] END bootstrap=False, max_depth=100, min_samples_leaf=4, min_samples_split=10, n_estimators=400; total time=   0.2s\n",
      "[CV] END bootstrap=True, max_depth=70, min_samples_leaf=1, min_samples_split=2, n_estimators=1000; total time=   0.7s\n",
      "[CV] END bootstrap=True, max_depth=30, min_samples_leaf=2, min_samples_split=10, n_estimators=800; total time=   0.5s\n",
      "[CV] END bootstrap=True, max_depth=30, min_samples_leaf=2, min_samples_split=10, n_estimators=800; total time=   0.5s\n",
      "[CV] END bootstrap=True, max_depth=30, min_samples_leaf=2, min_samples_split=10, n_estimators=800; total time=   0.7s\n",
      "[CV] END bootstrap=False, max_depth=30, min_samples_leaf=4, min_samples_split=5, n_estimators=1600; total time=   0.8s\n",
      "[CV] END bootstrap=False, max_depth=30, min_samples_leaf=4, min_samples_split=5, n_estimators=1600; total time=   0.8s\n",
      "[CV] END bootstrap=False, max_depth=30, min_samples_leaf=4, min_samples_split=5, n_estimators=1600; total time=   0.8s\n",
      "[CV] END bootstrap=True, max_depth=40, min_samples_leaf=1, min_samples_split=10, n_estimators=200; total time=   0.1s\n",
      "[CV] END bootstrap=True, max_depth=30, min_samples_leaf=4, min_samples_split=5, n_estimators=1000; total time=   0.5s\n",
      "[CV] END bootstrap=True, max_depth=30, min_samples_leaf=4, min_samples_split=5, n_estimators=1000; total time=   0.6s\n",
      "[CV] END bootstrap=True, max_depth=40, min_samples_leaf=1, min_samples_split=10, n_estimators=200; total time=   0.1s\n",
      "[CV] END bootstrap=True, max_depth=30, min_samples_leaf=4, min_samples_split=5, n_estimators=1000; total time=   0.6s\n",
      "[CV] END bootstrap=True, max_depth=40, min_samples_leaf=1, min_samples_split=10, n_estimators=200; total time=   0.1s\n",
      "[CV] END bootstrap=True, max_depth=40, min_samples_leaf=4, min_samples_split=10, n_estimators=1000; total time=   0.6s\n",
      "[CV] END bootstrap=True, max_depth=40, min_samples_leaf=4, min_samples_split=10, n_estimators=1000; total time=   0.7s\n",
      "[CV] END bootstrap=True, max_depth=40, min_samples_leaf=4, min_samples_split=10, n_estimators=1000; total time=   0.7s\n",
      "[CV] END bootstrap=False, max_depth=None, min_samples_leaf=1, min_samples_split=10, n_estimators=800; total time=   0.4s\n",
      "[CV] END bootstrap=False, max_depth=None, min_samples_leaf=1, min_samples_split=10, n_estimators=800; total time=   0.4s\n",
      "[CV] END bootstrap=False, max_depth=None, min_samples_leaf=1, min_samples_split=10, n_estimators=800; total time=   0.4s\n",
      "[CV] END bootstrap=True, max_depth=10, min_samples_leaf=4, min_samples_split=5, n_estimators=200; total time=   0.1s\n",
      "[CV] END bootstrap=True, max_depth=10, min_samples_leaf=4, min_samples_split=5, n_estimators=200; total time=   0.1s\n",
      "[CV] END bootstrap=False, max_depth=110, min_samples_leaf=4, min_samples_split=10, n_estimators=1600; total time=   0.7s\n",
      "[CV] END bootstrap=True, max_depth=10, min_samples_leaf=4, min_samples_split=5, n_estimators=200; total time=   0.1s\n",
      "[CV] END bootstrap=False, max_depth=110, min_samples_leaf=4, min_samples_split=10, n_estimators=1600; total time=   0.7s\n",
      "[CV] END bootstrap=True, max_depth=80, min_samples_leaf=4, min_samples_split=2, n_estimators=800; total time=   0.5s\n",
      "[CV] END bootstrap=True, max_depth=80, min_samples_leaf=4, min_samples_split=2, n_estimators=800; total time=   0.5s\n",
      "[CV] END bootstrap=False, max_depth=110, min_samples_leaf=4, min_samples_split=10, n_estimators=1600; total time=   0.9s\n",
      "[CV] END bootstrap=True, max_depth=80, min_samples_leaf=4, min_samples_split=2, n_estimators=800; total time=   0.6s\n",
      "[CV] END bootstrap=False, max_depth=20, min_samples_leaf=1, min_samples_split=10, n_estimators=1000; total time=   0.5s\n",
      "[CV] END bootstrap=False, max_depth=20, min_samples_leaf=1, min_samples_split=10, n_estimators=1000; total time=   0.5s\n",
      "[CV] END bootstrap=False, max_depth=40, min_samples_leaf=1, min_samples_split=2, n_estimators=400; total time=   0.2s\n",
      "[CV] END bootstrap=False, max_depth=20, min_samples_leaf=1, min_samples_split=10, n_estimators=1000; total time=   0.6s\n",
      "[CV] END bootstrap=False, max_depth=40, min_samples_leaf=1, min_samples_split=2, n_estimators=400; total time=   0.2s\n",
      "[CV] END bootstrap=False, max_depth=40, min_samples_leaf=1, min_samples_split=2, n_estimators=400; total time=   0.2s\n",
      "[CV] END bootstrap=False, max_depth=90, min_samples_leaf=2, min_samples_split=10, n_estimators=1200; total time=   0.5s\n",
      "[CV] END bootstrap=True, max_depth=90, min_samples_leaf=1, min_samples_split=2, n_estimators=1600; total time=   1.0s\n",
      "[CV] END bootstrap=True, max_depth=90, min_samples_leaf=1, min_samples_split=2, n_estimators=1600; total time=   1.0s\n",
      "[CV] END bootstrap=True, max_depth=90, min_samples_leaf=1, min_samples_split=2, n_estimators=1600; total time=   1.1s\n",
      "[CV] END bootstrap=False, max_depth=90, min_samples_leaf=2, min_samples_split=10, n_estimators=1200; total time=   0.6s\n",
      "[CV] END bootstrap=True, max_depth=60, min_samples_leaf=1, min_samples_split=10, n_estimators=1800; total time=   1.1s\n",
      "[CV] END bootstrap=True, max_depth=60, min_samples_leaf=1, min_samples_split=10, n_estimators=1800; total time=   1.1s\n",
      "[CV] END bootstrap=True, max_depth=60, min_samples_leaf=1, min_samples_split=10, n_estimators=1800; total time=   1.1s\n",
      "[CV] END bootstrap=True, max_depth=70, min_samples_leaf=4, min_samples_split=10, n_estimators=200; total time=   0.2s\n",
      "[CV] END bootstrap=False, max_depth=90, min_samples_leaf=2, min_samples_split=10, n_estimators=1200; total time=   0.7s\n",
      "[CV] END bootstrap=True, max_depth=70, min_samples_leaf=4, min_samples_split=10, n_estimators=200; total time=   0.1s\n",
      "[CV] END bootstrap=True, max_depth=70, min_samples_leaf=4, min_samples_split=10, n_estimators=200; total time=   0.1s\n",
      "[CV] END bootstrap=False, max_depth=30, min_samples_leaf=2, min_samples_split=10, n_estimators=1800; total time=   0.8s\n",
      "[CV] END bootstrap=False, max_depth=30, min_samples_leaf=2, min_samples_split=10, n_estimators=1800; total time=   0.7s\n",
      "[CV] END bootstrap=False, max_depth=30, min_samples_leaf=2, min_samples_split=10, n_estimators=1800; total time=   0.8s\n",
      "[CV] END bootstrap=False, max_depth=90, min_samples_leaf=2, min_samples_split=5, n_estimators=400; total time=   0.2s\n",
      "[CV] END bootstrap=False, max_depth=80, min_samples_leaf=1, min_samples_split=2, n_estimators=1400; total time=   0.6s\n",
      "[CV] END bootstrap=False, max_depth=80, min_samples_leaf=1, min_samples_split=2, n_estimators=1400; total time=   0.7s\n",
      "[CV] END bootstrap=True, max_depth=40, min_samples_leaf=1, min_samples_split=2, n_estimators=1200; total time=   0.6s\n",
      "[CV] END bootstrap=False, max_depth=80, min_samples_leaf=1, min_samples_split=10, n_estimators=200; total time=   0.1s\n",
      "[CV] END bootstrap=False, max_depth=80, min_samples_leaf=1, min_samples_split=10, n_estimators=200; total time=   0.1s\n",
      "[CV] END bootstrap=True, max_depth=40, min_samples_leaf=1, min_samples_split=5, n_estimators=2000; total time=   1.1s\n",
      "[CV] END bootstrap=False, max_depth=90, min_samples_leaf=2, min_samples_split=5, n_estimators=400; total time=   0.2s\n",
      "[CV] END bootstrap=False, max_depth=80, min_samples_leaf=1, min_samples_split=2, n_estimators=1400; total time=   0.8s\n",
      "[CV] END bootstrap=False, max_depth=80, min_samples_leaf=1, min_samples_split=10, n_estimators=200; total time=   0.1s\n",
      "[CV] END bootstrap=True, max_depth=40, min_samples_leaf=1, min_samples_split=5, n_estimators=2000; total time=   1.2s\n",
      "[CV] END bootstrap=False, max_depth=90, min_samples_leaf=2, min_samples_split=5, n_estimators=400; total time=   0.2s\n",
      "[CV] END bootstrap=True, max_depth=40, min_samples_leaf=1, min_samples_split=5, n_estimators=2000; total time=   1.2s\n",
      "[CV] END bootstrap=True, max_depth=40, min_samples_leaf=1, min_samples_split=2, n_estimators=1200; total time=   0.8s\n",
      "[CV] END bootstrap=True, max_depth=80, min_samples_leaf=1, min_samples_split=10, n_estimators=200; total time=   0.1s\n",
      "[CV] END bootstrap=True, max_depth=80, min_samples_leaf=1, min_samples_split=10, n_estimators=200; total time=   0.1s\n",
      "[CV] END bootstrap=True, max_depth=40, min_samples_leaf=1, min_samples_split=2, n_estimators=1200; total time=   0.7s\n",
      "[CV] END bootstrap=True, max_depth=80, min_samples_leaf=1, min_samples_split=10, n_estimators=200; total time=   0.2s\n",
      "[CV] END bootstrap=False, max_depth=110, min_samples_leaf=4, min_samples_split=10, n_estimators=1000; total time=   0.4s\n",
      "[CV] END bootstrap=False, max_depth=110, min_samples_leaf=4, min_samples_split=10, n_estimators=1000; total time=   0.4s\n",
      "[CV] END bootstrap=False, max_depth=110, min_samples_leaf=4, min_samples_split=10, n_estimators=1000; total time=   0.4s\n",
      "[CV] END bootstrap=True, max_depth=30, min_samples_leaf=1, min_samples_split=5, n_estimators=1400; total time=   0.8s\n",
      "[CV] END bootstrap=True, max_depth=30, min_samples_leaf=1, min_samples_split=5, n_estimators=1400; total time=   0.8s\n",
      "[CV] END bootstrap=True, max_depth=30, min_samples_leaf=1, min_samples_split=5, n_estimators=1400; total time=   0.8s\n",
      "[CV] END bootstrap=True, max_depth=50, min_samples_leaf=1, min_samples_split=2, n_estimators=1600; total time=   0.8s\n",
      "[CV] END bootstrap=True, max_depth=50, min_samples_leaf=1, min_samples_split=2, n_estimators=1600; total time=   0.8s\n",
      "[CV] END bootstrap=True, max_depth=50, min_samples_leaf=1, min_samples_split=2, n_estimators=1600; total time=   0.9s\n",
      "Fitting 3 folds for each of 50 candidates, totalling 150 fits\n",
      "[CV] END ..................C=0.001, max_iter=100, penalty=l1; total time=   0.0s\n",
      "[CV] END ..................C=0.001, max_iter=100, penalty=l1; total time=   0.0s\n",
      "[CV] END ..................C=0.001, max_iter=100, penalty=l1; total time=   0.0s\n",
      "[CV] END ..................C=0.001, max_iter=300, penalty=l2; total time=   0.0s\n",
      "[CV] END ..................C=0.001, max_iter=300, penalty=l2; total time=   0.0s\n",
      "[CV] END ..................C=0.001, max_iter=300, penalty=l2; total time=   0.0s\n",
      "[CV] END ......................C=1, max_iter=400, penalty=l1; total time=   0.0s\n",
      "[CV] END .....................C=10, max_iter=300, penalty=l2; total time=   0.0s\n",
      "[CV] END ......................C=1, max_iter=400, penalty=l1; total time=   0.0s\n",
      "[CV] END .....................C=10, max_iter=300, penalty=l2; total time=   0.0s\n",
      "[CV] END ......................C=1, max_iter=400, penalty=l1; total time=   0.0s\n",
      "[CV] END .....................C=10, max_iter=300, penalty=l2; total time=   0.0s\n",
      "[CV] END ...................C=0.01, max_iter=200, penalty=l2; total time=   0.0s\n",
      "[CV] END ...................C=0.01, max_iter=200, penalty=l2; total time=   0.0s\n",
      "[CV] END ...................C=0.01, max_iter=200, penalty=l2; total time=   0.0s\n",
      "[CV] END ......................C=1, max_iter=200, penalty=l2; total time=   0.0s\n",
      "[CV] END ....................C=100, max_iter=300, penalty=l1; total time=   0.0s\n",
      "[CV] END ......................C=1, max_iter=200, penalty=l2; total time=   0.0s\n",
      "[CV] END ....................C=100, max_iter=300, penalty=l1; total time=   0.0s\n",
      "[CV] END ......................C=1, max_iter=200, penalty=l2; total time=   0.0s\n",
      "[CV] END ....................C=100, max_iter=300, penalty=l1; total time=   0.0s\n",
      "[CV] END ...................C=0.01, max_iter=200, penalty=l1; total time=   0.0s\n",
      "[CV] END ...................C=0.01, max_iter=200, penalty=l1; total time=   0.0s\n",
      "[CV] END .....................C=10, max_iter=500, penalty=l1; total time=   0.0s\n",
      "[CV] END .....................C=10, max_iter=500, penalty=l1; total time=   0.0s\n",
      "[CV] END ....................C=100, max_iter=400, penalty=l2; total time=   0.0s\n",
      "[CV] END ...................C=0.01, max_iter=200, penalty=l1; total time=   0.0s\n",
      "[CV] END ....................C=100, max_iter=400, penalty=l2; total time=   0.0s\n",
      "[CV] END .....................C=10, max_iter=400, penalty=l1; total time=   0.0s\n",
      "[CV] END ....................C=100, max_iter=400, penalty=l2; total time=   0.0s\n",
      "[CV] END .....................C=10, max_iter=500, penalty=l1; total time=   0.0s\n",
      "[CV] END ......................C=1, max_iter=100, penalty=l2; total time=   0.0s\n",
      "[CV] END .....................C=10, max_iter=400, penalty=l1; total time=   0.0s\n",
      "[CV] END .....................C=10, max_iter=400, penalty=l1; total time=   0.0s\n",
      "[CV] END ......................C=1, max_iter=100, penalty=l2; total time=   0.0s\n",
      "[CV] END ......................C=1, max_iter=100, penalty=l2; total time=   0.0s\n",
      "[CV] END ..................C=0.001, max_iter=200, penalty=l2; total time=   0.0s\n",
      "[CV] END ....................C=100, max_iter=100, penalty=l1; total time=   0.0s\n",
      "[CV] END ..................C=0.001, max_iter=200, penalty=l2; total time=   0.0s\n",
      "[CV] END ..................C=0.001, max_iter=200, penalty=l2; total time=   0.0s\n",
      "[CV] END ...................C=0.01, max_iter=400, penalty=l2; total time=   0.0s\n",
      "[CV] END ....................C=100, max_iter=100, penalty=l1; total time=   0.0s\n",
      "[CV] END ..................C=0.001, max_iter=500, penalty=l1; total time=   0.0s\n",
      "[CV] END ...................C=0.01, max_iter=400, penalty=l2; total time=   0.0s\n",
      "[CV] END ..................C=0.001, max_iter=500, penalty=l1; total time=   0.0s\n",
      "[CV] END ....................C=100, max_iter=200, penalty=l1; total time=   0.0s\n",
      "[CV] END ....................C=100, max_iter=100, penalty=l1; total time=   0.0s\n",
      "[CV] END ..................C=0.001, max_iter=500, penalty=l1; total time=   0.0s\n",
      "[CV] END ..................C=0.001, max_iter=400, penalty=l1; total time=   0.0s\n",
      "[CV] END ...................C=0.01, max_iter=400, penalty=l2; total time=   0.0s\n",
      "[CV] END ....................C=100, max_iter=200, penalty=l1; total time=   0.0s\n",
      "[CV] END ..................C=0.001, max_iter=400, penalty=l1; total time=   0.0s\n",
      "[CV] END ..................C=0.001, max_iter=400, penalty=l1; total time=   0.0s\n",
      "[CV] END ..................C=0.001, max_iter=300, penalty=l1; total time=   0.0s\n",
      "[CV] END .....................C=10, max_iter=100, penalty=l1; total time=   0.0s\n",
      "[CV] END ....................C=100, max_iter=200, penalty=l1; total time=   0.0s\n",
      "[CV] END ..................C=0.001, max_iter=300, penalty=l1; total time=   0.0s\n",
      "[CV] END .....................C=10, max_iter=100, penalty=l1; total time=   0.0s\n",
      "[CV] END ..................C=0.001, max_iter=300, penalty=l1; total time=   0.0s\n",
      "[CV] END .....................C=10, max_iter=200, penalty=l2; total time=   0.0s\n",
      "[CV] END .....................C=10, max_iter=100, penalty=l1; total time=   0.0s\n",
      "[CV] END ...................C=0.01, max_iter=500, penalty=l2; total time=   0.0s\n",
      "[CV] END .....................C=10, max_iter=200, penalty=l2; total time=   0.0s\n",
      "[CV] END ....................C=0.1, max_iter=300, penalty=l2; total time=   0.0s\n",
      "[CV] END ...................C=0.01, max_iter=500, penalty=l2; total time=   0.0s\n",
      "[CV] END ......................C=1, max_iter=300, penalty=l1; total time=   0.0s\n",
      "[CV] END ..................C=0.001, max_iter=500, penalty=l2; total time=   0.0s\n",
      "[CV] END .....................C=10, max_iter=200, penalty=l2; total time=   0.0s\n",
      "[CV] END ....................C=0.1, max_iter=300, penalty=l2; total time=   0.0s\n",
      "[CV] END ......................C=1, max_iter=300, penalty=l1; total time=   0.0s\n",
      "[CV] END ....................C=100, max_iter=400, penalty=l1; total time=   0.0s\n",
      "[CV] END ..................C=0.001, max_iter=500, penalty=l2; total time=   0.0s\n",
      "[CV] END ...................C=0.01, max_iter=500, penalty=l2; total time=   0.0s\n",
      "[CV] END ....................C=0.1, max_iter=300, penalty=l2; total time=   0.0s\n",
      "[CV] END ....................C=100, max_iter=500, penalty=l1; total time=   0.0s\n",
      "[CV] END ......................C=1, max_iter=300, penalty=l1; total time=   0.0s\n",
      "[CV] END ...................C=0.01, max_iter=300, penalty=l2; total time=   0.0s\n",
      "[CV] END ..................C=0.001, max_iter=500, penalty=l2; total time=   0.0s\n",
      "[CV] END ....................C=0.1, max_iter=400, penalty=l1; total time=   0.0s\n",
      "[CV] END ....................C=100, max_iter=400, penalty=l1; total time=   0.0s\n",
      "[CV] END ......................C=1, max_iter=100, penalty=l1; total time=   0.0s\n",
      "[CV] END ....................C=0.1, max_iter=300, penalty=l1; total time=   0.0s\n",
      "[CV] END ....................C=100, max_iter=400, penalty=l1; total time=   0.0s\n",
      "[CV] END ....................C=100, max_iter=500, penalty=l1; total time=   0.0s\n",
      "[CV] END ...................C=0.01, max_iter=400, penalty=l1; total time=   0.0s\n",
      "[CV] END ......................C=1, max_iter=100, penalty=l1; total time=   0.0s\n",
      "[CV] END ...................C=0.01, max_iter=300, penalty=l2; total time=   0.0s\n",
      "[CV] END ....................C=0.1, max_iter=300, penalty=l1; total time=   0.0s\n",
      "[CV] END ....................C=0.1, max_iter=400, penalty=l2; total time=   0.0s\n",
      "[CV] END ...................C=0.01, max_iter=300, penalty=l2; total time=   0.0s\n",
      "[CV] END ......................C=1, max_iter=100, penalty=l1; total time=   0.0s\n",
      "[CV] END ....................C=0.1, max_iter=300, penalty=l1; total time=   0.0s\n",
      "[CV] END ...................C=0.01, max_iter=400, penalty=l1; total time=   0.0s\n",
      "[CV] END ....................C=100, max_iter=500, penalty=l1; total time=   0.0s\n",
      "[CV] END ....................C=0.1, max_iter=400, penalty=l2; total time=   0.0s\n",
      "[CV] END ....................C=0.1, max_iter=400, penalty=l1; total time=   0.0s\n",
      "[CV] END ....................C=100, max_iter=300, penalty=l2; total time=   0.0s\n",
      "[CV] END ...................C=0.01, max_iter=400, penalty=l1; total time=   0.0s\n",
      "[CV] END ....................C=0.1, max_iter=400, penalty=l2; total time=   0.0s\n",
      "[CV] END ....................C=100, max_iter=300, penalty=l2; total time=   0.0s\n",
      "[CV] END ....................C=0.1, max_iter=400, penalty=l1; total time=   0.0s\n",
      "[CV] END ...................C=0.01, max_iter=100, penalty=l2; total time=   0.0s\n",
      "[CV] END ....................C=100, max_iter=200, penalty=l2; total time=   0.0s\n",
      "[CV] END ....................C=100, max_iter=300, penalty=l2; total time=   0.0s\n",
      "[CV] END ......................C=1, max_iter=200, penalty=l1; total time=   0.0s\n",
      "[CV] END .....................C=10, max_iter=100, penalty=l2; total time=   0.0s\n",
      "[CV] END ......................C=1, max_iter=400, penalty=l2; total time=   0.0s\n",
      "[CV] END ....................C=100, max_iter=200, penalty=l2; total time=   0.0s\n",
      "[CV] END ...................C=0.01, max_iter=100, penalty=l2; total time=   0.0s\n",
      "[CV] END .....................C=10, max_iter=100, penalty=l2; total time=   0.0s\n",
      "[CV] END ....................C=0.1, max_iter=500, penalty=l2; total time=   0.0s\n",
      "[CV] END ......................C=1, max_iter=200, penalty=l1; total time=   0.0s\n",
      "[CV] END ...................C=0.01, max_iter=100, penalty=l2; total time=   0.0s\n",
      "[CV] END ....................C=100, max_iter=200, penalty=l2; total time=   0.0s\n",
      "[CV] END .....................C=10, max_iter=300, penalty=l1; total time=   0.0s\n",
      "[CV] END ......................C=1, max_iter=400, penalty=l2; total time=   0.0s\n",
      "[CV] END ....................C=0.1, max_iter=500, penalty=l2; total time=   0.0s\n",
      "[CV] END .....................C=10, max_iter=100, penalty=l2; total time=   0.0s\n",
      "[CV] END ....................C=0.1, max_iter=100, penalty=l2; total time=   0.0s\n",
      "[CV] END ......................C=1, max_iter=200, penalty=l1; total time=   0.0s\n",
      "[CV] END ......................C=1, max_iter=400, penalty=l2; total time=   0.0s\n",
      "[CV] END ....................C=0.1, max_iter=500, penalty=l2; total time=   0.0s\n",
      "[CV] END .....................C=10, max_iter=300, penalty=l1; total time=   0.0s\n",
      "[CV] END ..................C=0.001, max_iter=200, penalty=l1; total time=   0.0s\n",
      "[CV] END ..................C=0.001, max_iter=100, penalty=l2; total time=   0.0s\n",
      "[CV] END ......................C=1, max_iter=500, penalty=l2; total time=   0.0s\n",
      "[CV] END ......................C=1, max_iter=300, penalty=l2; total time=   0.0s\n",
      "[CV] END .....................C=10, max_iter=400, penalty=l2; total time=   0.0s\n",
      "[CV] END ..................C=0.001, max_iter=200, penalty=l1; total time=   0.0s\n",
      "[CV] END ..................C=0.001, max_iter=100, penalty=l2; total time=   0.0s\n",
      "[CV] END ......................C=1, max_iter=500, penalty=l2; total time=   0.0s\n",
      "[CV] END ....................C=0.1, max_iter=200, penalty=l2; total time=   0.0s\n",
      "[CV] END ..................C=0.001, max_iter=200, penalty=l1; total time=   0.0s\n",
      "[CV] END .....................C=10, max_iter=400, penalty=l2; total time=   0.0s\n",
      "[CV] END .....................C=10, max_iter=300, penalty=l1; total time=   0.0s\n",
      "[CV] END ....................C=0.1, max_iter=100, penalty=l2; total time=   0.0s\n",
      "[CV] END ....................C=0.1, max_iter=200, penalty=l2; total time=   0.0s\n",
      "[CV] END .....................C=10, max_iter=400, penalty=l2; total time=   0.0s\n",
      "[CV] END ..................C=0.001, max_iter=100, penalty=l2; total time=   0.0s\n",
      "[CV] END ....................C=0.1, max_iter=100, penalty=l2; total time=   0.0s\n",
      "[CV] END ....................C=0.1, max_iter=200, penalty=l2; total time=   0.0s\n",
      "[CV] END ......................C=1, max_iter=500, penalty=l2; total time=   0.0s\n",
      "[CV] END ......................C=1, max_iter=300, penalty=l2; total time=   0.0s\n",
      "[CV] END .....................C=10, max_iter=500, penalty=l2; total time=   0.0s\n",
      "[CV] END .....................C=10, max_iter=500, penalty=l2; total time=   0.0s\n",
      "[CV] END .....................C=10, max_iter=500, penalty=l2; total time=   0.0s\n",
      "[CV] END ......................C=1, max_iter=300, penalty=l2; total time=   0.0s\n",
      "[CV] END ...................C=0.01, max_iter=100, penalty=l1; total time=   0.0s\n",
      "[CV] END ...................C=0.01, max_iter=100, penalty=l1; total time=   0.0s\n",
      "[CV] END ...................C=0.01, max_iter=100, penalty=l1; total time=   0.0s\n",
      "Fitting 3 folds for each of 24 candidates, totalling 72 fits\n",
      "[CV] END .............................C=0.001, kernel=linear; total time=   0.0s\n",
      "[CV] END .............................C=0.001, kernel=linear; total time=   0.0s\n",
      "[CV] END .............................C=0.001, kernel=linear; total time=   0.0s\n",
      "[CV] END ................................C=0.001, kernel=rbf; total time=   0.0s\n",
      "[CV] END ................................C=0.001, kernel=rbf; total time=   0.0s\n",
      "[CV] END ................................C=0.001, kernel=rbf; total time=   0.0s\n",
      "[CV] END ...............................C=0.001, kernel=poly; total time=   0.0s\n",
      "[CV] END ...............................C=0.001, kernel=poly; total time=   0.0s\n",
      "[CV] END ...............................C=0.001, kernel=poly; total time=   0.0s\n",
      "[CV] END ............................C=0.001, kernel=sigmoid; total time=   0.0s\n",
      "[CV] END ............................C=0.001, kernel=sigmoid; total time=   0.0s\n",
      "[CV] END ............................C=0.001, kernel=sigmoid; total time=   0.0s\n",
      "[CV] END ..............................C=0.01, kernel=linear; total time=   0.0s\n",
      "[CV] END ..............................C=0.01, kernel=linear; total time=   0.0s\n",
      "[CV] END ..............................C=0.01, kernel=linear; total time=   0.0s\n",
      "[CV] END .................................C=0.01, kernel=rbf; total time=   0.0s\n",
      "[CV] END ................................C=0.01, kernel=poly; total time=   0.0s\n",
      "[CV] END ................................C=0.01, kernel=poly; total time=   0.0s\n",
      "[CV] END ................................C=0.01, kernel=poly; total time=   0.0s\n",
      "[CV] END .................................C=0.01, kernel=rbf; total time=   0.0s\n",
      "[CV] END .............................C=0.01, kernel=sigmoid; total time=   0.0s\n",
      "[CV] END .................................C=0.01, kernel=rbf; total time=   0.0s\n",
      "[CV] END .............................C=0.01, kernel=sigmoid; total time=   0.0s\n",
      "[CV] END ...............................C=0.1, kernel=linear; total time=   0.0s\n",
      "[CV] END ..................................C=0.1, kernel=rbf; total time=   0.0s\n",
      "[CV] END .................................C=0.1, kernel=poly; total time=   0.0s\n",
      "[CV] END .............................C=0.01, kernel=sigmoid; total time=   0.0s\n",
      "[CV] END .................................C=0.1, kernel=poly; total time=   0.0s\n",
      "[CV] END ..............................C=0.1, kernel=sigmoid; total time=   0.0s\n",
      "[CV] END ..................................C=0.1, kernel=rbf; total time=   0.0s\n",
      "[CV] END ..................................C=0.1, kernel=rbf; total time=   0.0s\n",
      "[CV] END ...............................C=0.1, kernel=linear; total time=   0.0s\n",
      "[CV] END .................................C=0.1, kernel=poly; total time=   0.0s\n",
      "[CV] END .................................C=1, kernel=linear; total time=   0.0s\n",
      "[CV] END ..............................C=0.1, kernel=sigmoid; total time=   0.0s\n",
      "[CV] END ..............................C=0.1, kernel=sigmoid; total time=   0.0s\n",
      "[CV] END ....................................C=1, kernel=rbf; total time=   0.0s\n",
      "[CV] END ...............................C=0.1, kernel=linear; total time=   0.0s\n",
      "[CV] END ...................................C=1, kernel=poly; total time=   0.0s\n",
      "[CV] END ....................................C=1, kernel=rbf; total time=   0.0s\n",
      "[CV] END ...................................C=1, kernel=poly; total time=   0.0s\n",
      "[CV] END .................................C=1, kernel=linear; total time=   0.0s\n",
      "[CV] END ....................................C=1, kernel=rbf; total time=   0.0s\n",
      "[CV] END ...................................C=1, kernel=poly; total time=   0.0s\n",
      "[CV] END ................................C=1, kernel=sigmoid; total time=   0.0s\n",
      "[CV] END ................................C=1, kernel=sigmoid; total time=   0.0s\n",
      "[CV] END ................................C=1, kernel=sigmoid; total time=   0.0s\n",
      "[CV] END ..................................C=10, kernel=poly; total time=   0.0s\n",
      "[CV] END ...................................C=10, kernel=rbf; total time=   0.0s\n",
      "[CV] END ..................................C=10, kernel=poly; total time=   0.0s\n",
      "[CV] END ..................................C=10, kernel=poly; total time=   0.0s\n",
      "[CV] END ...................................C=10, kernel=rbf; total time=   0.0s\n",
      "[CV] END ...............................C=10, kernel=sigmoid; total time=   0.0s\n",
      "[CV] END ...............................C=10, kernel=sigmoid; total time=   0.0s\n",
      "[CV] END ...............................C=10, kernel=sigmoid; total time=   0.0s\n",
      "[CV] END ..................................C=100, kernel=rbf; total time=   0.0s\n",
      "[CV] END .................................C=100, kernel=poly; total time=   0.0s\n",
      "[CV] END .................................C=100, kernel=poly; total time=   0.0s\n",
      "[CV] END ..................................C=100, kernel=rbf; total time=   0.0s\n",
      "[CV] END .................................C=100, kernel=poly; total time=   0.0s\n",
      "[CV] END ................................C=10, kernel=linear; total time=   0.0s\n",
      "[CV] END ..............................C=100, kernel=sigmoid; total time=   0.0s\n",
      "[CV] END ..................................C=100, kernel=rbf; total time=   0.0s\n",
      "[CV] END ..............................C=100, kernel=sigmoid; total time=   0.0s\n",
      "[CV] END ..............................C=100, kernel=sigmoid; total time=   0.0s\n",
      "[CV] END ...................................C=10, kernel=rbf; total time=   0.0s\n",
      "[CV] END .................................C=1, kernel=linear; total time=   0.0s\n",
      "[CV] END ................................C=10, kernel=linear; total time=   0.0s\n",
      "[CV] END ................................C=10, kernel=linear; total time=   0.0s\n",
      "[CV] END ...............................C=100, kernel=linear; total time=   0.1s\n"
     ]
    },
    {
     "name": "stderr",
     "output_type": "stream",
     "text": [
      "/Users/databased/miniconda3/envs/diabetes/lib/python3.9/site-packages/sklearn/model_selection/_search.py:307: UserWarning:\n",
      "\n",
      "The total space of parameters 24 is smaller than n_iter=50. Running 24 iterations. For exhaustive searches, use GridSearchCV.\n",
      "\n",
      "/Users/databased/miniconda3/envs/diabetes/lib/python3.9/site-packages/sklearn/model_selection/_search.py:307: UserWarning:\n",
      "\n",
      "The total space of parameters 16 is smaller than n_iter=50. Running 16 iterations. For exhaustive searches, use GridSearchCV.\n",
      "\n"
     ]
    },
    {
     "name": "stdout",
     "output_type": "stream",
     "text": [
      "[CV] END ...............................C=100, kernel=linear; total time=   0.1s\n",
      "[CV] END ...............................C=100, kernel=linear; total time=   0.2s\n",
      "Fitting 3 folds for each of 16 candidates, totalling 48 fits\n",
      "[CV] END ..metric=euclidean, n_neighbors=3, weights=distance; total time=   0.0s\n",
      "[CV] END ..metric=euclidean, n_neighbors=3, weights=distance; total time=   0.0s\n",
      "[CV] END ..metric=euclidean, n_neighbors=5, weights=distance; total time=   0.0s\n",
      "[CV] END ...metric=euclidean, n_neighbors=5, weights=uniform; total time=   0.0s\n",
      "[CV] END ..metric=euclidean, n_neighbors=5, weights=distance; total time=   0.0s\n",
      "[CV] END ..metric=euclidean, n_neighbors=3, weights=distance; total time=   0.0s\n",
      "[CV] END ...metric=euclidean, n_neighbors=3, weights=uniform; total time=   0.0s\n",
      "[CV] END ...metric=euclidean, n_neighbors=7, weights=uniform; total time=   0.0s\n",
      "[CV] END ..metric=euclidean, n_neighbors=7, weights=distance; total time=   0.0s\n",
      "[CV] END ...metric=euclidean, n_neighbors=7, weights=uniform; total time=   0.0s\n",
      "[CV] END ..metric=euclidean, n_neighbors=7, weights=distance; total time=   0.0s\n",
      "[CV] END ...metric=euclidean, n_neighbors=7, weights=uniform; total time=   0.0s\n",
      "[CV] END ..metric=euclidean, n_neighbors=7, weights=distance; total time=   0.0s\n",
      "[CV] END ...metric=euclidean, n_neighbors=3, weights=uniform; total time=   0.1s\n",
      "[CV] END ...metric=euclidean, n_neighbors=3, weights=uniform; total time=   0.1s\n",
      "[CV] END ...metric=euclidean, n_neighbors=9, weights=uniform; total time=   0.0s\n",
      "[CV] END ...metric=euclidean, n_neighbors=9, weights=uniform; total time=   0.0s\n",
      "[CV] END ...metric=euclidean, n_neighbors=5, weights=uniform; total time=   0.0s\n",
      "[CV] END ..metric=euclidean, n_neighbors=5, weights=distance; total time=   0.0s\n",
      "[CV] END ..metric=euclidean, n_neighbors=9, weights=distance; total time=   0.0s\n",
      "[CV] END ..metric=euclidean, n_neighbors=9, weights=distance; total time=   0.0s\n",
      "[CV] END ...metric=euclidean, n_neighbors=9, weights=uniform; total time=   0.0s\n",
      "[CV] END ..metric=euclidean, n_neighbors=9, weights=distance; total time=   0.0s\n",
      "[CV] END ...metric=manhattan, n_neighbors=3, weights=uniform; total time=   0.0s\n",
      "[CV] END ..metric=manhattan, n_neighbors=3, weights=distance; total time=   0.0s\n",
      "[CV] END ...metric=manhattan, n_neighbors=3, weights=uniform; total time=   0.0s\n",
      "[CV] END ..metric=manhattan, n_neighbors=3, weights=distance; total time=   0.0s\n",
      "[CV] END ...metric=euclidean, n_neighbors=5, weights=uniform; total time=   0.0s[CV] END ..metric=manhattan, n_neighbors=3, weights=distance; total time=   0.0s\n",
      "\n",
      "[CV] END ...metric=manhattan, n_neighbors=3, weights=uniform; total time=   0.0s\n",
      "[CV] END ..metric=manhattan, n_neighbors=5, weights=distance; total time=   0.0s\n",
      "[CV] END ...metric=manhattan, n_neighbors=5, weights=uniform; total time=   0.0s\n",
      "[CV] END ..metric=manhattan, n_neighbors=5, weights=distance; total time=   0.0s\n",
      "[CV] END ...metric=manhattan, n_neighbors=5, weights=uniform; total time=   0.0s\n",
      "[CV] END ..metric=manhattan, n_neighbors=5, weights=distance; total time=   0.0s\n",
      "[CV] END ...metric=manhattan, n_neighbors=7, weights=uniform; total time=   0.0s\n",
      "[CV] END ..metric=manhattan, n_neighbors=7, weights=distance; total time=   0.0s\n",
      "[CV] END ..metric=manhattan, n_neighbors=7, weights=distance; total time=   0.0s\n",
      "[CV] END ...metric=manhattan, n_neighbors=5, weights=uniform; total time=   0.0s\n",
      "[CV] END ...metric=manhattan, n_neighbors=7, weights=uniform; total time=   0.0s\n",
      "[CV] END ..metric=manhattan, n_neighbors=7, weights=distance; total time=   0.0s\n",
      "[CV] END ...metric=manhattan, n_neighbors=9, weights=uniform; total time=   0.0s\n",
      "[CV] END ..metric=manhattan, n_neighbors=9, weights=distance; total time=   0.0s\n",
      "[CV] END ...metric=manhattan, n_neighbors=7, weights=uniform; total time=   0.0s\n",
      "[CV] END ..metric=manhattan, n_neighbors=9, weights=distance; total time=   0.0s\n",
      "[CV] END ...metric=manhattan, n_neighbors=9, weights=uniform; total time=   0.0s\n",
      "[CV] END ..metric=manhattan, n_neighbors=9, weights=distance; total time=   0.0s\n",
      "[CV] END ...metric=manhattan, n_neighbors=9, weights=uniform; total time=   0.0s\n"
     ]
    },
    {
     "data": {
      "text/plain": [
       "{'Random Forest': {'accuracy': 0.9692307692307693,\n",
       "  'precision': 0.9703010033444815,\n",
       "  'recall': 0.984375},\n",
       " 'Logistic Regression': {'accuracy': 0.9096153846153847,\n",
       "  'precision': 0.9209093079872538,\n",
       "  'recall': 0.9375},\n",
       " 'Support Vector Machine': {'accuracy': 0.8846153846153847,\n",
       "  'precision': 0.9316896325134312,\n",
       "  'recall': 0.88125},\n",
       " 'K-Nearest Neighbors': {'accuracy': 0.9346153846153846,\n",
       "  'precision': 0.971151601278993,\n",
       "  'recall': 0.921875},\n",
       " 'Gaussian Naive Bayes': {'accuracy': 0.8692307692307694,\n",
       "  'precision': 0.8978936985611068,\n",
       "  'recall': 0.89375}}"
      ]
     },
     "execution_count": 13,
     "metadata": {},
     "output_type": "execute_result"
    }
   ],
   "source": [
    "import pandas as pd\n",
    "import numpy as np\n",
    "from sklearn.model_selection import train_test_split, RandomizedSearchCV, cross_val_score\n",
    "from sklearn.ensemble import RandomForestClassifier\n",
    "from sklearn.linear_model import LogisticRegression\n",
    "from sklearn.svm import SVC\n",
    "from sklearn.neighbors import KNeighborsClassifier\n",
    "from sklearn.naive_bayes import GaussianNB\n",
    "import pickle\n",
    "\n",
    "# Step 1: Import the dataset\n",
    "df_new = pd.read_csv(\"app/data/diabetes_clean.csv\")\n",
    "df_new.columns = df_new.columns.str.title()\n",
    "# Step 2: Split the data into training and testing sets\n",
    "X = df_new.drop(columns=['Class'])\n",
    "y = df_new['Class']\n",
    "X_train, X_test, y_train, y_test = train_test_split(X, y, test_size=0.2, random_state=42)\n",
    "\n",
    "# Step 3: Define hyperparameter grids for each classifier\n",
    "rf_param_grid = {\n",
    "    'n_estimators': [int(x) for x in np.linspace(start=200, stop=2000, num=10)],\n",
    "    'max_depth': [int(x) for x in np.linspace(10, 110, num=11)] + [None],\n",
    "    'min_samples_split': [2, 5, 10],\n",
    "    'min_samples_leaf': [1, 2, 4],\n",
    "    'bootstrap': [True, False]\n",
    "}\n",
    "\n",
    "logreg_param_grid = {\n",
    "    'C': [0.001, 0.01, 0.1, 1, 10, 100],\n",
    "    'penalty': ['l1', 'l2'],\n",
    "    'max_iter': [100, 200, 300, 400, 500]\n",
    "}\n",
    "\n",
    "svc_param_grid = {\n",
    "    'C': [0.001, 0.01, 0.1, 1, 10, 100],\n",
    "    'kernel': ['linear', 'rbf', 'poly', 'sigmoid']\n",
    "}\n",
    "\n",
    "knn_param_grid = {\n",
    "    'n_neighbors': [3, 5, 7, 9],\n",
    "    'weights': ['uniform', 'distance'],\n",
    "    'metric': ['euclidean', 'manhattan']\n",
    "}\n",
    "\n",
    "gnb_param_grid = {}  # No hyperparameters for GaussianNB\n",
    "\n",
    "# Step 4: Perform randomized search for each classifier\n",
    "rf_random = RandomizedSearchCV(estimator=RandomForestClassifier(),\n",
    "                               param_distributions=rf_param_grid,\n",
    "                               n_iter=100, cv=3, verbose=2,\n",
    "                               random_state=42, n_jobs=-1)\n",
    "rf_random.fit(X_train, y_train)\n",
    "\n",
    "logreg_random = RandomizedSearchCV(estimator=LogisticRegression(solver='liblinear'),\n",
    "                                   param_distributions=logreg_param_grid,\n",
    "                                   n_iter=50, cv=3, verbose=2,\n",
    "                                   random_state=42, n_jobs=-1)\n",
    "logreg_random.fit(X_train, y_train)\n",
    "\n",
    "svc_random = RandomizedSearchCV(estimator=SVC(),\n",
    "                                param_distributions=svc_param_grid,\n",
    "                                n_iter=50, cv=3, verbose=2,\n",
    "                                random_state=42, n_jobs=-1)\n",
    "svc_random.fit(X_train, y_train)\n",
    "\n",
    "knn_random = RandomizedSearchCV(estimator=KNeighborsClassifier(),\n",
    "                                param_distributions=knn_param_grid,\n",
    "                                n_iter=50, cv=3, verbose=2,\n",
    "                                random_state=42, n_jobs=-1)\n",
    "knn_random.fit(X_train.to_numpy(), y_train.to_numpy())\n",
    "\n",
    "gnb_random = GaussianNB()  # No hyperparameters to tune for GaussianNB\n",
    "\n",
    "# Step 5: Evaluate each classifier's performance using cross-validated metrics\n",
    "models = {\n",
    "    \"Random Forest\": RandomForestClassifier(**rf_random.best_params_),\n",
    "    \"Logistic Regression\": LogisticRegression(**logreg_random.best_params_),\n",
    "    \"Support Vector Machine\": SVC(**svc_random.best_params_),\n",
    "    \"K-Nearest Neighbors\": KNeighborsClassifier(**knn_random.best_params_),\n",
    "    \"Gaussian Naive Bayes\": GaussianNB()\n",
    "}\n",
    "\n",
    "\n",
    "\n",
    "# Create function to generate cross validated metrics for multiple models\n",
    "def cross_validated_metrics(models, X,  y):\n",
    "    \n",
    "    # Random seed for reproducible results\n",
    "    np.random.seed(42)\n",
    "    # Make a list to keep model scores totals\n",
    "    model_scores = {}\n",
    "    # Loop through models\n",
    "    for name, model in models.items():\n",
    "        # make a list to hold collected scores for each model\n",
    "        collected_scores = {}\n",
    "        # gather mean of cross validated score for a variety of metrics\n",
    "        for metric in ['accuracy', 'precision', 'recall']:\n",
    "            collected_scores[metric] = np.mean(cross_val_score(model,\n",
    "                                                               X,\n",
    "                                                               y,\n",
    "                                                               cv=5, # 5-fold cross-validation\n",
    "                                                               scoring=metric)) # loop through scoring methods\n",
    "        model_scores[name] = collected_scores\n",
    "    return model_scores\n",
    "\n",
    "model_metrics = cross_validated_metrics(models=models,\n",
    "                                       X=X_trans,\n",
    "                                       y=y)\n",
    "model_metrics\n",
    "\n"
   ]
  },
  {
   "cell_type": "code",
   "execution_count": 20,
   "metadata": {},
   "outputs": [
    {
     "data": {
      "application/vnd.plotly.v1+json": {
       "config": {
        "plotlyServerURL": "https://plotly.com"
       },
       "data": [
        {
         "hovertext": [
          "Random Forest: 96.92%",
          "Random Forest: 97.03%",
          "Random Forest: 98.44%"
         ],
         "name": "Random Forest",
         "type": "bar",
         "x": [
          "accuracy",
          "precision",
          "recall"
         ],
         "y": [
          0.9692307692307693,
          0.9703010033444815,
          0.984375
         ]
        },
        {
         "hovertext": [
          "Logistic Regression: 90.96%",
          "Logistic Regression: 92.09%",
          "Logistic Regression: 93.75%"
         ],
         "name": "Logistic Regression",
         "type": "bar",
         "x": [
          "accuracy",
          "precision",
          "recall"
         ],
         "y": [
          0.9096153846153847,
          0.9209093079872538,
          0.9375
         ]
        },
        {
         "hovertext": [
          "Support Vector Machine: 88.46%",
          "Support Vector Machine: 93.17%",
          "Support Vector Machine: 88.12%"
         ],
         "name": "Support Vector Machine",
         "type": "bar",
         "x": [
          "accuracy",
          "precision",
          "recall"
         ],
         "y": [
          0.8846153846153847,
          0.9316896325134312,
          0.88125
         ]
        },
        {
         "hovertext": [
          "K-Nearest Neighbors: 93.46%",
          "K-Nearest Neighbors: 97.12%",
          "K-Nearest Neighbors: 92.19%"
         ],
         "name": "K-Nearest Neighbors",
         "type": "bar",
         "x": [
          "accuracy",
          "precision",
          "recall"
         ],
         "y": [
          0.9346153846153846,
          0.971151601278993,
          0.921875
         ]
        },
        {
         "hovertext": [
          "Gaussian Naive Bayes: 86.92%",
          "Gaussian Naive Bayes: 89.79%",
          "Gaussian Naive Bayes: 89.38%"
         ],
         "name": "Gaussian Naive Bayes",
         "type": "bar",
         "x": [
          "accuracy",
          "precision",
          "recall"
         ],
         "y": [
          0.8692307692307694,
          0.8978936985611068,
          0.89375
         ]
        }
       ],
       "layout": {
        "barmode": "group",
        "legend": {
         "x": 1,
         "y": 1
        },
        "paper_bgcolor": "rgba(0,0,0,0)",
        "template": {
         "data": {
          "bar": [
           {
            "error_x": {
             "color": "#2a3f5f"
            },
            "error_y": {
             "color": "#2a3f5f"
            },
            "marker": {
             "line": {
              "color": "#E5ECF6",
              "width": 0.5
             },
             "pattern": {
              "fillmode": "overlay",
              "size": 10,
              "solidity": 0.2
             }
            },
            "type": "bar"
           }
          ],
          "barpolar": [
           {
            "marker": {
             "line": {
              "color": "#E5ECF6",
              "width": 0.5
             },
             "pattern": {
              "fillmode": "overlay",
              "size": 10,
              "solidity": 0.2
             }
            },
            "type": "barpolar"
           }
          ],
          "carpet": [
           {
            "aaxis": {
             "endlinecolor": "#2a3f5f",
             "gridcolor": "white",
             "linecolor": "white",
             "minorgridcolor": "white",
             "startlinecolor": "#2a3f5f"
            },
            "baxis": {
             "endlinecolor": "#2a3f5f",
             "gridcolor": "white",
             "linecolor": "white",
             "minorgridcolor": "white",
             "startlinecolor": "#2a3f5f"
            },
            "type": "carpet"
           }
          ],
          "choropleth": [
           {
            "colorbar": {
             "outlinewidth": 0,
             "ticks": ""
            },
            "type": "choropleth"
           }
          ],
          "contour": [
           {
            "colorbar": {
             "outlinewidth": 0,
             "ticks": ""
            },
            "colorscale": [
             [
              0,
              "#0d0887"
             ],
             [
              0.1111111111111111,
              "#46039f"
             ],
             [
              0.2222222222222222,
              "#7201a8"
             ],
             [
              0.3333333333333333,
              "#9c179e"
             ],
             [
              0.4444444444444444,
              "#bd3786"
             ],
             [
              0.5555555555555556,
              "#d8576b"
             ],
             [
              0.6666666666666666,
              "#ed7953"
             ],
             [
              0.7777777777777778,
              "#fb9f3a"
             ],
             [
              0.8888888888888888,
              "#fdca26"
             ],
             [
              1,
              "#f0f921"
             ]
            ],
            "type": "contour"
           }
          ],
          "contourcarpet": [
           {
            "colorbar": {
             "outlinewidth": 0,
             "ticks": ""
            },
            "type": "contourcarpet"
           }
          ],
          "heatmap": [
           {
            "colorbar": {
             "outlinewidth": 0,
             "ticks": ""
            },
            "colorscale": [
             [
              0,
              "#0d0887"
             ],
             [
              0.1111111111111111,
              "#46039f"
             ],
             [
              0.2222222222222222,
              "#7201a8"
             ],
             [
              0.3333333333333333,
              "#9c179e"
             ],
             [
              0.4444444444444444,
              "#bd3786"
             ],
             [
              0.5555555555555556,
              "#d8576b"
             ],
             [
              0.6666666666666666,
              "#ed7953"
             ],
             [
              0.7777777777777778,
              "#fb9f3a"
             ],
             [
              0.8888888888888888,
              "#fdca26"
             ],
             [
              1,
              "#f0f921"
             ]
            ],
            "type": "heatmap"
           }
          ],
          "heatmapgl": [
           {
            "colorbar": {
             "outlinewidth": 0,
             "ticks": ""
            },
            "colorscale": [
             [
              0,
              "#0d0887"
             ],
             [
              0.1111111111111111,
              "#46039f"
             ],
             [
              0.2222222222222222,
              "#7201a8"
             ],
             [
              0.3333333333333333,
              "#9c179e"
             ],
             [
              0.4444444444444444,
              "#bd3786"
             ],
             [
              0.5555555555555556,
              "#d8576b"
             ],
             [
              0.6666666666666666,
              "#ed7953"
             ],
             [
              0.7777777777777778,
              "#fb9f3a"
             ],
             [
              0.8888888888888888,
              "#fdca26"
             ],
             [
              1,
              "#f0f921"
             ]
            ],
            "type": "heatmapgl"
           }
          ],
          "histogram": [
           {
            "marker": {
             "pattern": {
              "fillmode": "overlay",
              "size": 10,
              "solidity": 0.2
             }
            },
            "type": "histogram"
           }
          ],
          "histogram2d": [
           {
            "colorbar": {
             "outlinewidth": 0,
             "ticks": ""
            },
            "colorscale": [
             [
              0,
              "#0d0887"
             ],
             [
              0.1111111111111111,
              "#46039f"
             ],
             [
              0.2222222222222222,
              "#7201a8"
             ],
             [
              0.3333333333333333,
              "#9c179e"
             ],
             [
              0.4444444444444444,
              "#bd3786"
             ],
             [
              0.5555555555555556,
              "#d8576b"
             ],
             [
              0.6666666666666666,
              "#ed7953"
             ],
             [
              0.7777777777777778,
              "#fb9f3a"
             ],
             [
              0.8888888888888888,
              "#fdca26"
             ],
             [
              1,
              "#f0f921"
             ]
            ],
            "type": "histogram2d"
           }
          ],
          "histogram2dcontour": [
           {
            "colorbar": {
             "outlinewidth": 0,
             "ticks": ""
            },
            "colorscale": [
             [
              0,
              "#0d0887"
             ],
             [
              0.1111111111111111,
              "#46039f"
             ],
             [
              0.2222222222222222,
              "#7201a8"
             ],
             [
              0.3333333333333333,
              "#9c179e"
             ],
             [
              0.4444444444444444,
              "#bd3786"
             ],
             [
              0.5555555555555556,
              "#d8576b"
             ],
             [
              0.6666666666666666,
              "#ed7953"
             ],
             [
              0.7777777777777778,
              "#fb9f3a"
             ],
             [
              0.8888888888888888,
              "#fdca26"
             ],
             [
              1,
              "#f0f921"
             ]
            ],
            "type": "histogram2dcontour"
           }
          ],
          "mesh3d": [
           {
            "colorbar": {
             "outlinewidth": 0,
             "ticks": ""
            },
            "type": "mesh3d"
           }
          ],
          "parcoords": [
           {
            "line": {
             "colorbar": {
              "outlinewidth": 0,
              "ticks": ""
             }
            },
            "type": "parcoords"
           }
          ],
          "pie": [
           {
            "automargin": true,
            "type": "pie"
           }
          ],
          "scatter": [
           {
            "fillpattern": {
             "fillmode": "overlay",
             "size": 10,
             "solidity": 0.2
            },
            "type": "scatter"
           }
          ],
          "scatter3d": [
           {
            "line": {
             "colorbar": {
              "outlinewidth": 0,
              "ticks": ""
             }
            },
            "marker": {
             "colorbar": {
              "outlinewidth": 0,
              "ticks": ""
             }
            },
            "type": "scatter3d"
           }
          ],
          "scattercarpet": [
           {
            "marker": {
             "colorbar": {
              "outlinewidth": 0,
              "ticks": ""
             }
            },
            "type": "scattercarpet"
           }
          ],
          "scattergeo": [
           {
            "marker": {
             "colorbar": {
              "outlinewidth": 0,
              "ticks": ""
             }
            },
            "type": "scattergeo"
           }
          ],
          "scattergl": [
           {
            "marker": {
             "colorbar": {
              "outlinewidth": 0,
              "ticks": ""
             }
            },
            "type": "scattergl"
           }
          ],
          "scattermapbox": [
           {
            "marker": {
             "colorbar": {
              "outlinewidth": 0,
              "ticks": ""
             }
            },
            "type": "scattermapbox"
           }
          ],
          "scatterpolar": [
           {
            "marker": {
             "colorbar": {
              "outlinewidth": 0,
              "ticks": ""
             }
            },
            "type": "scatterpolar"
           }
          ],
          "scatterpolargl": [
           {
            "marker": {
             "colorbar": {
              "outlinewidth": 0,
              "ticks": ""
             }
            },
            "type": "scatterpolargl"
           }
          ],
          "scatterternary": [
           {
            "marker": {
             "colorbar": {
              "outlinewidth": 0,
              "ticks": ""
             }
            },
            "type": "scatterternary"
           }
          ],
          "surface": [
           {
            "colorbar": {
             "outlinewidth": 0,
             "ticks": ""
            },
            "colorscale": [
             [
              0,
              "#0d0887"
             ],
             [
              0.1111111111111111,
              "#46039f"
             ],
             [
              0.2222222222222222,
              "#7201a8"
             ],
             [
              0.3333333333333333,
              "#9c179e"
             ],
             [
              0.4444444444444444,
              "#bd3786"
             ],
             [
              0.5555555555555556,
              "#d8576b"
             ],
             [
              0.6666666666666666,
              "#ed7953"
             ],
             [
              0.7777777777777778,
              "#fb9f3a"
             ],
             [
              0.8888888888888888,
              "#fdca26"
             ],
             [
              1,
              "#f0f921"
             ]
            ],
            "type": "surface"
           }
          ],
          "table": [
           {
            "cells": {
             "fill": {
              "color": "#EBF0F8"
             },
             "line": {
              "color": "white"
             }
            },
            "header": {
             "fill": {
              "color": "#C8D4E3"
             },
             "line": {
              "color": "white"
             }
            },
            "type": "table"
           }
          ]
         },
         "layout": {
          "annotationdefaults": {
           "arrowcolor": "#2a3f5f",
           "arrowhead": 0,
           "arrowwidth": 1
          },
          "autotypenumbers": "strict",
          "coloraxis": {
           "colorbar": {
            "outlinewidth": 0,
            "ticks": ""
           }
          },
          "colorscale": {
           "diverging": [
            [
             0,
             "#8e0152"
            ],
            [
             0.1,
             "#c51b7d"
            ],
            [
             0.2,
             "#de77ae"
            ],
            [
             0.3,
             "#f1b6da"
            ],
            [
             0.4,
             "#fde0ef"
            ],
            [
             0.5,
             "#f7f7f7"
            ],
            [
             0.6,
             "#e6f5d0"
            ],
            [
             0.7,
             "#b8e186"
            ],
            [
             0.8,
             "#7fbc41"
            ],
            [
             0.9,
             "#4d9221"
            ],
            [
             1,
             "#276419"
            ]
           ],
           "sequential": [
            [
             0,
             "#0d0887"
            ],
            [
             0.1111111111111111,
             "#46039f"
            ],
            [
             0.2222222222222222,
             "#7201a8"
            ],
            [
             0.3333333333333333,
             "#9c179e"
            ],
            [
             0.4444444444444444,
             "#bd3786"
            ],
            [
             0.5555555555555556,
             "#d8576b"
            ],
            [
             0.6666666666666666,
             "#ed7953"
            ],
            [
             0.7777777777777778,
             "#fb9f3a"
            ],
            [
             0.8888888888888888,
             "#fdca26"
            ],
            [
             1,
             "#f0f921"
            ]
           ],
           "sequentialminus": [
            [
             0,
             "#0d0887"
            ],
            [
             0.1111111111111111,
             "#46039f"
            ],
            [
             0.2222222222222222,
             "#7201a8"
            ],
            [
             0.3333333333333333,
             "#9c179e"
            ],
            [
             0.4444444444444444,
             "#bd3786"
            ],
            [
             0.5555555555555556,
             "#d8576b"
            ],
            [
             0.6666666666666666,
             "#ed7953"
            ],
            [
             0.7777777777777778,
             "#fb9f3a"
            ],
            [
             0.8888888888888888,
             "#fdca26"
            ],
            [
             1,
             "#f0f921"
            ]
           ]
          },
          "colorway": [
           "#636efa",
           "#EF553B",
           "#00cc96",
           "#ab63fa",
           "#FFA15A",
           "#19d3f3",
           "#FF6692",
           "#B6E880",
           "#FF97FF",
           "#FECB52"
          ],
          "font": {
           "color": "#2a3f5f"
          },
          "geo": {
           "bgcolor": "white",
           "lakecolor": "white",
           "landcolor": "#E5ECF6",
           "showlakes": true,
           "showland": true,
           "subunitcolor": "white"
          },
          "hoverlabel": {
           "align": "left"
          },
          "hovermode": "closest",
          "mapbox": {
           "style": "light"
          },
          "paper_bgcolor": "white",
          "plot_bgcolor": "#E5ECF6",
          "polar": {
           "angularaxis": {
            "gridcolor": "white",
            "linecolor": "white",
            "ticks": ""
           },
           "bgcolor": "#E5ECF6",
           "radialaxis": {
            "gridcolor": "white",
            "linecolor": "white",
            "ticks": ""
           }
          },
          "scene": {
           "xaxis": {
            "backgroundcolor": "#E5ECF6",
            "gridcolor": "white",
            "gridwidth": 2,
            "linecolor": "white",
            "showbackground": true,
            "ticks": "",
            "zerolinecolor": "white"
           },
           "yaxis": {
            "backgroundcolor": "#E5ECF6",
            "gridcolor": "white",
            "gridwidth": 2,
            "linecolor": "white",
            "showbackground": true,
            "ticks": "",
            "zerolinecolor": "white"
           },
           "zaxis": {
            "backgroundcolor": "#E5ECF6",
            "gridcolor": "white",
            "gridwidth": 2,
            "linecolor": "white",
            "showbackground": true,
            "ticks": "",
            "zerolinecolor": "white"
           }
          },
          "shapedefaults": {
           "line": {
            "color": "#2a3f5f"
           }
          },
          "ternary": {
           "aaxis": {
            "gridcolor": "white",
            "linecolor": "white",
            "ticks": ""
           },
           "baxis": {
            "gridcolor": "white",
            "linecolor": "white",
            "ticks": ""
           },
           "bgcolor": "#E5ECF6",
           "caxis": {
            "gridcolor": "white",
            "linecolor": "white",
            "ticks": ""
           }
          },
          "title": {
           "x": 0.05
          },
          "xaxis": {
           "automargin": true,
           "gridcolor": "white",
           "linecolor": "white",
           "ticks": "",
           "title": {
            "standoff": 15
           },
           "zerolinecolor": "white",
           "zerolinewidth": 2
          },
          "yaxis": {
           "automargin": true,
           "gridcolor": "white",
           "linecolor": "white",
           "ticks": "",
           "title": {
            "standoff": 15
           },
           "zerolinecolor": "white",
           "zerolinewidth": 2
          }
         }
        },
        "title": {
         "text": "Comparison of Model Metrics"
        },
        "xaxis": {
         "title": {
          "text": "Models"
         }
        },
        "yaxis": {
         "title": {
          "text": "Metrics"
         }
        }
       }
      }
     },
     "metadata": {},
     "output_type": "display_data"
    }
   ],
   "source": [
    "import plotly.graph_objects as go\n",
    "\n",
    "def plot_model_comparison(compare_metrics):\n",
    "    \"\"\"\n",
    "    Create a Plotly bar chart to compare model metrics for different models.\n",
    "\n",
    "    Parameters:\n",
    "        compare_metrics (pd.DataFrame): DataFrame containing model metrics as columns and models as rows.\n",
    "\n",
    "    Returns:\n",
    "        plotly.graph_objects.Figure: A Plotly figure representing the model comparison.\n",
    "    \"\"\"\n",
    "    # Create a Plotly figure\n",
    "    fig = go.Figure()\n",
    "\n",
    "    # Loop through the columns to add bar traces for each metric\n",
    "    for metric in compare_metrics.columns:\n",
    "        # Convert metric values to percentages and round to two decimal places for hover text\n",
    "        hover_values = (compare_metrics[metric] * 100).round(2).tolist()\n",
    "        hovertext = [f\"{metric}: {value:.2f}%\" for value in hover_values]\n",
    "\n",
    "        # Add a bar trace for the current metric\n",
    "        fig.add_trace(go.Bar(\n",
    "            x=compare_metrics.index,\n",
    "            y=compare_metrics[metric],\n",
    "            name=metric,\n",
    "            hovertext=hovertext\n",
    "        ))\n",
    "\n",
    "    # Update the layout\n",
    "    fig.update_layout(\n",
    "        title='Comparison of Model Metrics',  # Title of the plot\n",
    "        xaxis_title='Models',  # Label for the x-axis\n",
    "        yaxis_title='Metrics',  # Label for the y-axis\n",
    "        barmode='group',  # 'group' for grouped bars, 'stack' for stacked bars\n",
    "        legend=dict(x=1, y=1),  # Legend position\n",
    "        paper_bgcolor='rgba(0,0,0,0)'  # Transparent background for the plot\n",
    "    )\n",
    "\n",
    "    return fig\n",
    "\n",
    "\n",
    "compare_metrics = pd.DataFrame(model_metrics)\n",
    "fig = plot_model_comparison(compare_metrics)\n",
    "fig.show()\n"
   ]
  },
  {
   "cell_type": "code",
   "execution_count": 39,
   "metadata": {},
   "outputs": [
    {
     "data": {
      "text/html": [
       "<style>#sk-container-id-6 {color: black;}#sk-container-id-6 pre{padding: 0;}#sk-container-id-6 div.sk-toggleable {background-color: white;}#sk-container-id-6 label.sk-toggleable__label {cursor: pointer;display: block;width: 100%;margin-bottom: 0;padding: 0.3em;box-sizing: border-box;text-align: center;}#sk-container-id-6 label.sk-toggleable__label-arrow:before {content: \"▸\";float: left;margin-right: 0.25em;color: #696969;}#sk-container-id-6 label.sk-toggleable__label-arrow:hover:before {color: black;}#sk-container-id-6 div.sk-estimator:hover label.sk-toggleable__label-arrow:before {color: black;}#sk-container-id-6 div.sk-toggleable__content {max-height: 0;max-width: 0;overflow: hidden;text-align: left;background-color: #f0f8ff;}#sk-container-id-6 div.sk-toggleable__content pre {margin: 0.2em;color: black;border-radius: 0.25em;background-color: #f0f8ff;}#sk-container-id-6 input.sk-toggleable__control:checked~div.sk-toggleable__content {max-height: 200px;max-width: 100%;overflow: auto;}#sk-container-id-6 input.sk-toggleable__control:checked~label.sk-toggleable__label-arrow:before {content: \"▾\";}#sk-container-id-6 div.sk-estimator input.sk-toggleable__control:checked~label.sk-toggleable__label {background-color: #d4ebff;}#sk-container-id-6 div.sk-label input.sk-toggleable__control:checked~label.sk-toggleable__label {background-color: #d4ebff;}#sk-container-id-6 input.sk-hidden--visually {border: 0;clip: rect(1px 1px 1px 1px);clip: rect(1px, 1px, 1px, 1px);height: 1px;margin: -1px;overflow: hidden;padding: 0;position: absolute;width: 1px;}#sk-container-id-6 div.sk-estimator {font-family: monospace;background-color: #f0f8ff;border: 1px dotted black;border-radius: 0.25em;box-sizing: border-box;margin-bottom: 0.5em;}#sk-container-id-6 div.sk-estimator:hover {background-color: #d4ebff;}#sk-container-id-6 div.sk-parallel-item::after {content: \"\";width: 100%;border-bottom: 1px solid gray;flex-grow: 1;}#sk-container-id-6 div.sk-label:hover label.sk-toggleable__label {background-color: #d4ebff;}#sk-container-id-6 div.sk-serial::before {content: \"\";position: absolute;border-left: 1px solid gray;box-sizing: border-box;top: 0;bottom: 0;left: 50%;z-index: 0;}#sk-container-id-6 div.sk-serial {display: flex;flex-direction: column;align-items: center;background-color: white;padding-right: 0.2em;padding-left: 0.2em;position: relative;}#sk-container-id-6 div.sk-item {position: relative;z-index: 1;}#sk-container-id-6 div.sk-parallel {display: flex;align-items: stretch;justify-content: center;background-color: white;position: relative;}#sk-container-id-6 div.sk-item::before, #sk-container-id-6 div.sk-parallel-item::before {content: \"\";position: absolute;border-left: 1px solid gray;box-sizing: border-box;top: 0;bottom: 0;left: 50%;z-index: -1;}#sk-container-id-6 div.sk-parallel-item {display: flex;flex-direction: column;z-index: 1;position: relative;background-color: white;}#sk-container-id-6 div.sk-parallel-item:first-child::after {align-self: flex-end;width: 50%;}#sk-container-id-6 div.sk-parallel-item:last-child::after {align-self: flex-start;width: 50%;}#sk-container-id-6 div.sk-parallel-item:only-child::after {width: 0;}#sk-container-id-6 div.sk-dashed-wrapped {border: 1px dashed gray;margin: 0 0.4em 0.5em 0.4em;box-sizing: border-box;padding-bottom: 0.4em;background-color: white;}#sk-container-id-6 div.sk-label label {font-family: monospace;font-weight: bold;display: inline-block;line-height: 1.2em;}#sk-container-id-6 div.sk-label-container {text-align: center;}#sk-container-id-6 div.sk-container {/* jupyter's `normalize.less` sets `[hidden] { display: none; }` but bootstrap.min.css set `[hidden] { display: none !important; }` so we also need the `!important` here to be able to override the default hidden behavior on the sphinx rendered scikit-learn.org. See: https://github.com/scikit-learn/scikit-learn/issues/21755 */display: inline-block !important;position: relative;}#sk-container-id-6 div.sk-text-repr-fallback {display: none;}</style><div id=\"sk-container-id-6\" class=\"sk-top-container\"><div class=\"sk-text-repr-fallback\"><pre>RandomizedSearchCV(cv=3, estimator=RandomForestClassifier(), n_iter=100,\n",
       "                   n_jobs=-1,\n",
       "                   param_distributions={&#x27;bootstrap&#x27;: [True, False],\n",
       "                                        &#x27;max_depth&#x27;: [10, 20, 30, 40, 50, 60,\n",
       "                                                      70, 80, 90, 100, 110,\n",
       "                                                      None],\n",
       "                                        &#x27;min_samples_leaf&#x27;: [1, 2, 4],\n",
       "                                        &#x27;min_samples_split&#x27;: [2, 5, 10],\n",
       "                                        &#x27;n_estimators&#x27;: [200, 400, 600, 800,\n",
       "                                                         1000, 1200, 1400, 1600,\n",
       "                                                         1800, 2000]},\n",
       "                   random_state=42, verbose=2)</pre><b>In a Jupyter environment, please rerun this cell to show the HTML representation or trust the notebook. <br />On GitHub, the HTML representation is unable to render, please try loading this page with nbviewer.org.</b></div><div class=\"sk-container\" hidden><div class=\"sk-item sk-dashed-wrapped\"><div class=\"sk-label-container\"><div class=\"sk-label sk-toggleable\"><input class=\"sk-toggleable__control sk-hidden--visually\" id=\"sk-estimator-id-12\" type=\"checkbox\" ><label for=\"sk-estimator-id-12\" class=\"sk-toggleable__label sk-toggleable__label-arrow\">RandomizedSearchCV</label><div class=\"sk-toggleable__content\"><pre>RandomizedSearchCV(cv=3, estimator=RandomForestClassifier(), n_iter=100,\n",
       "                   n_jobs=-1,\n",
       "                   param_distributions={&#x27;bootstrap&#x27;: [True, False],\n",
       "                                        &#x27;max_depth&#x27;: [10, 20, 30, 40, 50, 60,\n",
       "                                                      70, 80, 90, 100, 110,\n",
       "                                                      None],\n",
       "                                        &#x27;min_samples_leaf&#x27;: [1, 2, 4],\n",
       "                                        &#x27;min_samples_split&#x27;: [2, 5, 10],\n",
       "                                        &#x27;n_estimators&#x27;: [200, 400, 600, 800,\n",
       "                                                         1000, 1200, 1400, 1600,\n",
       "                                                         1800, 2000]},\n",
       "                   random_state=42, verbose=2)</pre></div></div></div><div class=\"sk-parallel\"><div class=\"sk-parallel-item\"><div class=\"sk-item\"><div class=\"sk-label-container\"><div class=\"sk-label sk-toggleable\"><input class=\"sk-toggleable__control sk-hidden--visually\" id=\"sk-estimator-id-13\" type=\"checkbox\" ><label for=\"sk-estimator-id-13\" class=\"sk-toggleable__label sk-toggleable__label-arrow\">estimator: RandomForestClassifier</label><div class=\"sk-toggleable__content\"><pre>RandomForestClassifier()</pre></div></div></div><div class=\"sk-serial\"><div class=\"sk-item\"><div class=\"sk-estimator sk-toggleable\"><input class=\"sk-toggleable__control sk-hidden--visually\" id=\"sk-estimator-id-14\" type=\"checkbox\" ><label for=\"sk-estimator-id-14\" class=\"sk-toggleable__label sk-toggleable__label-arrow\">RandomForestClassifier</label><div class=\"sk-toggleable__content\"><pre>RandomForestClassifier()</pre></div></div></div></div></div></div></div></div></div></div>"
      ],
      "text/plain": [
       "RandomizedSearchCV(cv=3, estimator=RandomForestClassifier(), n_iter=100,\n",
       "                   n_jobs=-1,\n",
       "                   param_distributions={'bootstrap': [True, False],\n",
       "                                        'max_depth': [10, 20, 30, 40, 50, 60,\n",
       "                                                      70, 80, 90, 100, 110,\n",
       "                                                      None],\n",
       "                                        'min_samples_leaf': [1, 2, 4],\n",
       "                                        'min_samples_split': [2, 5, 10],\n",
       "                                        'n_estimators': [200, 400, 600, 800,\n",
       "                                                         1000, 1200, 1400, 1600,\n",
       "                                                         1800, 2000]},\n",
       "                   random_state=42, verbose=2)"
      ]
     },
     "execution_count": 39,
     "metadata": {},
     "output_type": "execute_result"
    }
   ],
   "source": [
    "rf_random"
   ]
  },
  {
   "cell_type": "markdown",
   "metadata": {},
   "source": [
    "# Export the trained model to pickle"
   ]
  },
  {
   "cell_type": "code",
   "execution_count": 122,
   "metadata": {},
   "outputs": [],
   "source": [
    "pickle.dump(rf, open('app/data/rf_model.pkl', 'wb'))"
   ]
  }
 ],
 "metadata": {
  "kernelspec": {
   "display_name": "Python 3",
   "language": "python",
   "name": "python3"
  },
  "language_info": {
   "codemirror_mode": {
    "name": "ipython",
    "version": 3
   },
   "file_extension": ".py",
   "mimetype": "text/x-python",
   "name": "python",
   "nbconvert_exporter": "python",
   "pygments_lexer": "ipython3",
   "version": "3.9.17"
  }
 },
 "nbformat": 4,
 "nbformat_minor": 4
}
